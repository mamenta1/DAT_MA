{
 "cells": [
  {
   "cell_type": "markdown",
   "metadata": {},
   "source": [
    "<img src=\"http://imgur.com/1ZcRyrc.png\" style=\"float: left; margin: 20px; height: 55px\">\n",
    "\n",
    "## Practice Python Functions\n",
    "\n",
    "_Author: Ryan Dunlap (San Francisco)\n",
    "\n",
    "---"
   ]
  },
  {
   "cell_type": "markdown",
   "metadata": {},
   "source": [
    "### Resources: Potentially Helpful Functions\n",
    "\n",
    "* [Dictionary Comprehension](https://docs.python.org/2/tutorial/datastructures.html#dictionaries)\n",
    "* [Enumerate](https://docs.python.org/2/library/functions.html#enumerate)\n",
    "* [Length](https://docs.python.org/2/library/functions.html#len)\n",
    "* [Int](https://docs.python.org/2/library/functions.html#int)\n",
    "* [List](https://docs.python.org/2/library/functions.html#list)"
   ]
  },
  {
   "cell_type": "markdown",
   "metadata": {},
   "source": [
    "Nowadays, most of the `string` module's components are already built into Python. However, it still has several [constant values](https://docs.python.org/2/library/string.html#string-constants) that can be useful, including:\n",
    "```python\n",
    "string.ascii_uppercase\n",
    "```"
   ]
  },
  {
   "cell_type": "code",
   "execution_count": 26,
   "metadata": {},
   "outputs": [
    {
     "data": {
      "text/plain": [
       "'ABCDEFGHIJKLMNOPQRSTUVWXYZ'"
      ]
     },
     "execution_count": 26,
     "metadata": {},
     "output_type": "execute_result"
    }
   ],
   "source": [
    "import string\n",
    "\n",
    "string.ascii_uppercase"
   ]
  },
  {
   "cell_type": "markdown",
   "metadata": {},
   "source": [
    "---\n",
    "\n",
    "### 1) Write a function that takes the length of a side of a square as an argument and returns the area of the square."
   ]
  },
  {
   "cell_type": "code",
   "execution_count": 1,
   "metadata": {},
   "outputs": [
    {
     "data": {
      "text/plain": [
       "16"
      ]
     },
     "execution_count": 1,
     "metadata": {},
     "output_type": "execute_result"
    }
   ],
   "source": [
    "# A:\n",
    "\n",
    "def area_square(side):\n",
    "    return side * side\n",
    "\n",
    "area_square(4)"
   ]
  },
  {
   "cell_type": "markdown",
   "metadata": {},
   "source": [
    "---\n",
    "\n",
    "### 2) Write a function that takes the height and width of a triangle and returns the area."
   ]
  },
  {
   "cell_type": "code",
   "execution_count": 4,
   "metadata": {},
   "outputs": [
    {
     "data": {
      "text/plain": [
       "6.0"
      ]
     },
     "execution_count": 4,
     "metadata": {},
     "output_type": "execute_result"
    }
   ],
   "source": [
    "# A:\n",
    "def area_triangle(base,height):\n",
    "    return 0.5 * (base * height)\n",
    "\n",
    "area_triangle(4,3)"
   ]
  },
  {
   "cell_type": "markdown",
   "metadata": {},
   "source": [
    "---\n",
    "\n",
    "### 3) Write a function that takes a string as an argument and returns a tuple consisting of two elements:\n",
    "- **A list of all of the characters in the string.** \n",
    "- **A count of the number of characters in the string.**"
   ]
  },
  {
   "cell_type": "code",
   "execution_count": 13,
   "metadata": {},
   "outputs": [
    {
     "data": {
      "text/plain": [
       "(['s', 't', 'r', 'i', 'n', 'g'], 6)"
      ]
     },
     "execution_count": 13,
     "metadata": {},
     "output_type": "execute_result"
    }
   ],
   "source": [
    "# A:\n",
    "def tuple_maker(string_input):\n",
    "    return ([i for i in string_input],len(string_input))\n",
    "    \n",
    "tuple_maker('string')"
   ]
  },
  {
   "cell_type": "markdown",
   "metadata": {},
   "source": [
    "---\n",
    "\n",
    "### 4) Write a function that takes two integers, passed as strings, and returns the sum, difference, and product as a tuple (with all values as integers)."
   ]
  },
  {
   "cell_type": "code",
   "execution_count": 14,
   "metadata": {},
   "outputs": [
    {
     "data": {
      "text/plain": [
       "(6, 2, 8)"
      ]
     },
     "execution_count": 14,
     "metadata": {},
     "output_type": "execute_result"
    }
   ],
   "source": [
    "# A:\n",
    "def string_operator(string1,string2):\n",
    "    string1 = int(string1)\n",
    "    string2 = int(string2)\n",
    "    return(string1+string2,string1-string2,string1*string2)\n",
    "\n",
    "string_operator('4','2')"
   ]
  },
  {
   "cell_type": "markdown",
   "metadata": {},
   "source": [
    "---\n",
    "\n",
    "### 5) Write a function that takes a list as the argument and returns a tuple consisting of two elements:\n",
    "- **A list with the items in reverse order.**  \n",
    "- **A list of the items in the original list that have an odd index.**"
   ]
  },
  {
   "cell_type": "code",
   "execution_count": 25,
   "metadata": {},
   "outputs": [
    {
     "name": "stdout",
     "output_type": "stream",
     "text": [
      "5\n"
     ]
    },
    {
     "data": {
      "text/plain": [
       "([10, 8, 6, 4, 2], [4, 8])"
      ]
     },
     "execution_count": 25,
     "metadata": {},
     "output_type": "execute_result"
    }
   ],
   "source": [
    "# A:\n",
    "def tuple_maker(list_input):\n",
    "    list1 = []\n",
    "    list2 = []\n",
    "    for i in range(len(list_input)):\n",
    "        list1.append(list_input[len(list_input)-i-1])\n",
    "    for i in range(len(list_input)):\n",
    "        if i % 2 != 0:\n",
    "            list2.append(list_input[i])\n",
    "    return (list1,list2)\n",
    "\n",
    "listn = [2,4,6,8,10]\n",
    "print(len(listn))\n",
    "\n",
    "tuple_maker(listn)"
   ]
  },
  {
   "cell_type": "markdown",
   "metadata": {},
   "source": [
    "---\n",
    "\n",
    "### Challenge: Write a function that returns the score for a word. A word's score is the sum of the scores of its letters. Each letter's score is equal to its position in the alphabet.\n",
    "\n",
    "So, for example:\n",
    "\n",
    "* A = 1, B = 2, C = 3, D = 4, E = 5\n",
    "* abe = 8 = (1 + 2 + 5)\n",
    "\n",
    "\n",
    "_Hint: The string library has a property_ `ascii_lowercase` _that can save some typing here._\n"
   ]
  },
  {
   "cell_type": "code",
   "execution_count": 118,
   "metadata": {},
   "outputs": [],
   "source": [
    "#function that converts word input to numerical score based on sum of alphabet position\n",
    "    #convert word to lower case\n",
    "    #assign values to letters based on postition in alphabet\n",
    "    #return sum of values\n",
    "    \n"
   ]
  },
  {
   "cell_type": "code",
   "execution_count": 87,
   "metadata": {},
   "outputs": [
    {
     "data": {
      "text/plain": [
       "2"
      ]
     },
     "execution_count": 87,
     "metadata": {},
     "output_type": "execute_result"
    }
   ],
   "source": [
    "# A:\n",
    "\n",
    "list2 = [i for i in range(1,27)]\n",
    "list1 = [i for i in string.ascii_lowercase]\n",
    "list3 = dict(zip(list1,list2))\n",
    "list3\n",
    "\n",
    "list3['b']"
   ]
  },
  {
   "cell_type": "code",
   "execution_count": 93,
   "metadata": {},
   "outputs": [
    {
     "data": {
      "text/plain": [
       "2"
      ]
     },
     "execution_count": 93,
     "metadata": {},
     "output_type": "execute_result"
    }
   ],
   "source": [
    "string.ascii_lowercase.index('b') + 1\n"
   ]
  },
  {
   "cell_type": "code",
   "execution_count": 114,
   "metadata": {},
   "outputs": [
    {
     "data": {
      "text/plain": [
       "6"
      ]
     },
     "execution_count": 114,
     "metadata": {},
     "output_type": "execute_result"
    }
   ],
   "source": [
    "word = 'cc'\n",
    "empty_list = []\n",
    "\n",
    "for i in word.lower():\n",
    "    empty_list.append(string.ascii_lowercase.index(i) + 1)\n",
    "total = 0\n",
    "for i in range(0, len(empty_list)):\n",
    "    total = total + empty_list[i]\n",
    "    \n",
    "total"
   ]
  },
  {
   "cell_type": "code",
   "execution_count": 117,
   "metadata": {},
   "outputs": [
    {
     "data": {
      "text/plain": [
       "12"
      ]
     },
     "execution_count": 117,
     "metadata": {},
     "output_type": "execute_result"
    }
   ],
   "source": [
    "def letter_counter(word):\n",
    "    letter_list = []\n",
    "    for i in word.lower():\n",
    "        letter_list.append(string.ascii_lowercase.index(i) + 1)\n",
    "    total = 0\n",
    "    for i in range(0, len(letter_list)):\n",
    "        total = total + letter_list[i]\n",
    "    return total\n",
    "\n",
    "letter_counter('cccc')"
   ]
  }
 ],
 "metadata": {
  "anaconda-cloud": {},
  "kernelspec": {
   "display_name": "Python 3",
   "language": "python",
   "name": "python3"
  },
  "language_info": {
   "codemirror_mode": {
    "name": "ipython",
    "version": 3
   },
   "file_extension": ".py",
   "mimetype": "text/x-python",
   "name": "python",
   "nbconvert_exporter": "python",
   "pygments_lexer": "ipython3",
   "version": "3.7.3"
  }
 },
 "nbformat": 4,
 "nbformat_minor": 2
}
