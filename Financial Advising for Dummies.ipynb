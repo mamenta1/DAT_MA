{
 "cells": [
  {
   "cell_type": "code",
   "execution_count": 144,
   "metadata": {},
   "outputs": [],
   "source": [
    "import pandas as pd\n",
    "import matplotlib.pyplot as plt\n",
    "import random\n",
    "import datetime\n",
    "import webbrowser\n",
    "from scipy import stats\n",
    "import numpy as np"
   ]
  },
  {
   "cell_type": "code",
   "execution_count": 12,
   "metadata": {},
   "outputs": [],
   "source": [
    "#Baseline assumptions\n",
    "\n",
    "arr = 6/100\n",
    "#arr = annual rate of return\n",
    "time = 40\n",
    "start_value = 10000\n",
    "annual_contrib = 1000"
   ]
  },
  {
   "cell_type": "code",
   "execution_count": 13,
   "metadata": {},
   "outputs": [],
   "source": [
    "#Formula for an investment\n",
    "\n",
    "def future_value(rate,time,start_value):\n",
    "    return start_value * (1 + rate)**time"
   ]
  },
  {
   "cell_type": "code",
   "execution_count": 14,
   "metadata": {},
   "outputs": [
    {
     "data": {
      "text/plain": [
       "11236.000000000002"
      ]
     },
     "execution_count": 14,
     "metadata": {},
     "output_type": "execute_result"
    }
   ],
   "source": [
    "future_value(arr,2,start_value)"
   ]
  },
  {
   "cell_type": "code",
   "execution_count": 15,
   "metadata": {},
   "outputs": [
    {
     "data": {
      "text/plain": [
       "11236.0"
      ]
     },
     "execution_count": 15,
     "metadata": {},
     "output_type": "execute_result"
    }
   ],
   "source": [
    "#math check\n",
    "((10000 * 1.06) * 1.06)"
   ]
  },
  {
   "cell_type": "markdown",
   "metadata": {},
   "source": [
    "## Power of Compounding / Time\n",
    "### > Twice the Return and Triple the Starting Value"
   ]
  },
  {
   "cell_type": "code",
   "execution_count": 16,
   "metadata": {},
   "outputs": [],
   "source": [
    "#Baseline: 40 years, 6% arr, $10,000 start value\n",
    "\n",
    "baseline = future_value(arr,time,start_value)"
   ]
  },
  {
   "cell_type": "code",
   "execution_count": 17,
   "metadata": {},
   "outputs": [],
   "source": [
    "#Half the time\n",
    "\n",
    "half_time = future_value(arr,time/2,start_value)"
   ]
  },
  {
   "cell_type": "code",
   "execution_count": 76,
   "metadata": {},
   "outputs": [
    {
     "name": "stdout",
     "output_type": "stream",
     "text": [
      "Baseline 40 years return premium over investment over 20 years =  3.207135472212848\n"
     ]
    }
   ],
   "source": [
    "#Twice the time = 3.2x the return\n",
    "\n",
    "print('Baseline 40 years return premium over investment over 20 years = ',baseline / half_time)"
   ]
  },
  {
   "cell_type": "code",
   "execution_count": 70,
   "metadata": {},
   "outputs": [],
   "source": [
    "def returns_array(rate,time,start_val):\n",
    "    return_list = []\n",
    "    for i in range(1,time+1):\n",
    "        return_list.append(future_value(rate,i,start_val))\n",
    "    return return_list"
   ]
  },
  {
   "cell_type": "code",
   "execution_count": 71,
   "metadata": {},
   "outputs": [],
   "source": [
    "x40 = [i for i in range(1,time+1)]\n",
    "x20 = [i for i in range(1,20+1)]"
   ]
  },
  {
   "cell_type": "code",
   "execution_count": 72,
   "metadata": {},
   "outputs": [
    {
     "name": "stderr",
     "output_type": "stream",
     "text": [
      "C:\\Users\\michael.amenta\\AppData\\Local\\Continuum\\anaconda3\\lib\\site-packages\\ipykernel_launcher.py:15: UserWarning: Matplotlib is currently using module://ipykernel.pylab.backend_inline, which is a non-GUI backend, so cannot show the figure.\n",
      "  from ipykernel import kernelapp as app\n"
     ]
    },
    {
     "data": {
      "image/png": "[encoded data removed]",
      "text/plain": [
       "<Figure size 864x576 with 2 Axes>"
      ]
     },
     "metadata": {
      "needs_background": "light"
     },
     "output_type": "display_data"
    }
   ],
   "source": [
    "#chart financial return over 40 years\n",
    "y40 = returns_array(arr,time,start_value)\n",
    "y20 = returns_array(arr,20,start_value)\n",
    "\n",
    "fig = plt.figure(figsize=(12,8))\n",
    "ax = plt.subplot(121)\n",
    "ax.plot(x40,y40,label='40 yrs')\n",
    "ax.legend(loc='best')\n",
    "\n",
    "ax2 = plt.subplot(122, sharey = ax, sharex = ax)\n",
    "ax2.plot(x20,y20,label='20yrs')\n",
    "ax2.legend(loc='best')\n",
    "\n",
    "plt.suptitle('40 v 20 yrs in Market')\n",
    "fig.show()"
   ]
  },
  {
   "cell_type": "markdown",
   "metadata": {},
   "source": [
    "### Triple start value --> still not enough"
   ]
  },
  {
   "cell_type": "code",
   "execution_count": 74,
   "metadata": {},
   "outputs": [
    {
     "name": "stdout",
     "output_type": "stream",
     "text": [
      "Baseline return premium over 3x value in half the time =  1.0690451574042827\n"
     ]
    }
   ],
   "source": [
    "half_time_triple_start = future_value(arr,time/2,start_value * 3)\n",
    "\n",
    "print('Baseline return premium over 3x value in half the time = ',baseline / half_time_triple_start)"
   ]
  },
  {
   "cell_type": "markdown",
   "metadata": {},
   "source": [
    "### Double the return over half the time --> still not enough"
   ]
  },
  {
   "cell_type": "code",
   "execution_count": 20,
   "metadata": {},
   "outputs": [],
   "source": [
    "high_rate = future_value(arr * 2,time / 2,start_value)"
   ]
  },
  {
   "cell_type": "code",
   "execution_count": 75,
   "metadata": {},
   "outputs": [
    {
     "name": "stdout",
     "output_type": "stream",
     "text": [
      "Baseline return premium over double the rate of return in half the time =  1.0662871050742548\n"
     ]
    }
   ],
   "source": [
    "#still not enough\n",
    "\n",
    "baseline / high_rate\n",
    "print('Baseline return premium over double the rate of return in half the time = ',baseline / high_rate)"
   ]
  },
  {
   "cell_type": "markdown",
   "metadata": {},
   "source": [
    "## Power of Low Fee Funds"
   ]
  },
  {
   "cell_type": "code",
   "execution_count": 77,
   "metadata": {},
   "outputs": [],
   "source": [
    "def net_perf(rate,fee,time,start_value):\n",
    "    return start_value * (1 + ((rate-fee)/100))**time"
   ]
  },
  {
   "cell_type": "code",
   "execution_count": 91,
   "metadata": {},
   "outputs": [
    {
     "data": {
      "text/plain": [
       "70399.88712124657"
      ]
     },
     "execution_count": 91,
     "metadata": {},
     "output_type": "execute_result"
    }
   ],
   "source": [
    "high_fee = 1\n",
    "\n",
    "hf_perf = net_perf(6,high_fee,40,10000)\n",
    "hf_perf"
   ]
  },
  {
   "cell_type": "code",
   "execution_count": 90,
   "metadata": {},
   "outputs": [
    {
     "data": {
      "text/plain": [
       "95373.27762256959"
      ]
     },
     "execution_count": 90,
     "metadata": {},
     "output_type": "execute_result"
    }
   ],
   "source": [
    "low_fee = 0.2\n",
    "\n",
    "lf_perf = net_perf(6,low_fee,40,10000)\n",
    "lf_perf"
   ]
  },
  {
   "cell_type": "code",
   "execution_count": 96,
   "metadata": {},
   "outputs": [
    {
     "name": "stdout",
     "output_type": "stream",
     "text": [
      "Additional amount earned over 40 yrs with low fee =  35.473622931117 %\n"
     ]
    }
   ],
   "source": [
    "low_fee_multiplier = (lf_perf/hf_perf - 1) * 100\n",
    "print('Additional amount earned over 40 yrs with low fee = ', low_fee_multiplier, '%')"
   ]
  },
  {
   "cell_type": "code",
   "execution_count": 105,
   "metadata": {},
   "outputs": [
    {
     "data": {
      "image/png": "[encoded data removed]",
      "text/plain": [
       "<Figure size 576x288 with 1 Axes>"
      ]
     },
     "metadata": {
      "needs_background": "light"
     },
     "output_type": "display_data"
    }
   ],
   "source": [
    "fig = plt.figure(figsize=(8,4))\n",
    "ax = fig.add_axes([0,0,1,1])\n",
    "cats = ['Low Fee', 'High Fee']\n",
    "returns = [lf_perf,hf_perf]\n",
    "ax.bar(cats,returns)\n",
    "plt.show()"
   ]
  },
  {
   "cell_type": "markdown",
   "metadata": {},
   "source": [
    "Mutual Funds sometimes have 12b-1 fees, which must be added to the expense ratio, and loads which is a percent of your purchase (for front load) or final sale (back load) that the fund keeps. You should account for these in a purchase decision.\n",
    "\n",
    "ETFs don't have these fees, but they do charge a ~$10 transaction fee per purchase."
   ]
  },
  {
   "cell_type": "markdown",
   "metadata": {},
   "source": [
    "### Hidden Costs: Turnover + Taxes (Equity Funds)"
   ]
  },
  {
   "cell_type": "markdown",
   "metadata": {},
   "source": [
    "Turnover estimated as (1) Double the fund's reported turnover, (2) multiply that figure by estimated transaction costs of 0.6%, and (3) calculate the resultant number as a percentage of the fund's average assets. Or 1% for every 100% in turnover.\n",
    "\n",
    "https://www.bogleheads.org/forum/viewtopic.php?t=188023"
   ]
  },
  {
   "cell_type": "markdown",
   "metadata": {},
   "source": [
    "Tax inefficiency of active fund (high turnover) estimated to be 75bps versus 30 bps for index fund\n",
    "\n",
    "http://johncbogle.com/wordpress/wp-content/uploads/2010/04/FAJ-All-In-Investment-Expenses-Jan-Feb-2014.pdf"
   ]
  },
  {
   "cell_type": "markdown",
   "metadata": {},
   "source": [
    "Add tax inefficiency and turnover estimate to management fee before making a final decision."
   ]
  },
  {
   "cell_type": "markdown",
   "metadata": {},
   "source": [
    "### Will a fund perform well enough to compensate for the difference in management fee? \n",
    "It's impossible to know, and best to categorize a decision like this as a \"bet\"."
   ]
  },
  {
   "cell_type": "code",
   "execution_count": 107,
   "metadata": {},
   "outputs": [
    {
     "data": {
      "text/plain": [
       "True"
      ]
     },
     "execution_count": 107,
     "metadata": {},
     "output_type": "execute_result"
    }
   ],
   "source": [
    "webbrowser.open('https://www.morningstar.com/blog/2019/02/12/active-passive-funds.html')"
   ]
  },
  {
   "cell_type": "markdown",
   "metadata": {},
   "source": [
    "## Roth vs Non-Roth\n",
    "### Only thing that matters is whether income tax rate is higher on contribution versus on withdrawal (when you're 60+)"
   ]
  },
  {
   "cell_type": "code",
   "execution_count": 51,
   "metadata": {},
   "outputs": [],
   "source": [
    "#Assume 100k salary with 30% tax rate and 10% after-tax savings rate\n",
    "\n",
    "def annuity(contribution, rate, time,cap_gains_tax):\n",
    "    return (contribution * (((1 + rate/100) ** time - 1) / rate)) * (1-cap_gains_tax)"
   ]
  },
  {
   "cell_type": "code",
   "execution_count": 57,
   "metadata": {},
   "outputs": [
    {
     "data": {
      "text/plain": [
       "8000.0"
      ]
     },
     "execution_count": 57,
     "metadata": {},
     "output_type": "execute_result"
    }
   ],
   "source": [
    "roth_contribution = 100000 * 0.8 * 0.1\n",
    "roth_contribution"
   ]
  },
  {
   "cell_type": "code",
   "execution_count": 58,
   "metadata": {},
   "outputs": [
    {
     "data": {
      "text/plain": [
       "10000.0"
      ]
     },
     "execution_count": 58,
     "metadata": {},
     "output_type": "execute_result"
    }
   ],
   "source": [
    "nonroth_contribution = 100000 * 0.1\n",
    "nonroth_contribution"
   ]
  },
  {
   "cell_type": "code",
   "execution_count": 59,
   "metadata": {},
   "outputs": [
    {
     "data": {
      "text/plain": [
       "12380.957249501236"
      ]
     },
     "execution_count": 59,
     "metadata": {},
     "output_type": "execute_result"
    }
   ],
   "source": [
    "#Roth\n",
    "\n",
    "annuity(roth_contribution,6,40,0)"
   ]
  },
  {
   "cell_type": "code",
   "execution_count": 60,
   "metadata": {},
   "outputs": [
    {
     "data": {
      "text/plain": [
       "12380.957249501236"
      ]
     },
     "execution_count": 60,
     "metadata": {},
     "output_type": "execute_result"
    }
   ],
   "source": [
    "#Standard (non-Roth)\n",
    "\n",
    "annuity(nonroth_contribution,6,40,.2)"
   ]
  },
  {
   "cell_type": "markdown",
   "metadata": {},
   "source": [
    "## Power of Market Timing"
   ]
  },
  {
   "cell_type": "code",
   "execution_count": 164,
   "metadata": {},
   "outputs": [],
   "source": [
    "#Import 50 years of S&P 500 returns\n",
    "file = './SP50_hist.csv'\n",
    "sp50 = pd.read_csv(file)\n",
    "sp50['Date'] = pd.to_datetime(sp50.Date)\n"
   ]
  },
  {
   "cell_type": "code",
   "execution_count": 170,
   "metadata": {},
   "outputs": [
    {
     "data": {
      "text/plain": [
       "datetime.date(2018, 12, 15)"
      ]
     },
     "execution_count": 170,
     "metadata": {},
     "output_type": "execute_result"
    }
   ],
   "source": [
    "start_date = datetime.date(2018, 12, 15)\n",
    "one_year_prior = datetime(start_date.year-1, start_date.month, start_date.day)\n",
    "one_year_prior"
   ]
  },
  {
   "cell_type": "code",
   "execution_count": 163,
   "metadata": {},
   "outputs": [
    {
     "ename": "AttributeError",
     "evalue": "'str' object has no attribute 'year'",
     "output_type": "error",
     "traceback": [
      "\u001b[1;31m---------------------------------------------------------------------------\u001b[0m",
      "\u001b[1;31mAttributeError\u001b[0m                            Traceback (most recent call last)",
      "\u001b[1;32m<ipython-input-163-0ec3d349d71d>\u001b[0m in \u001b[0;36m<module>\u001b[1;34m\u001b[0m\n\u001b[1;32m----> 1\u001b[1;33m \u001b[0mdatetime\u001b[0m\u001b[1;33m(\u001b[0m\u001b[0mstart_date\u001b[0m\u001b[1;33m.\u001b[0m\u001b[0myear\u001b[0m\u001b[1;33m-\u001b[0m\u001b[1;36m1\u001b[0m\u001b[1;33m,\u001b[0m \u001b[0mstart_date\u001b[0m\u001b[1;33m.\u001b[0m\u001b[0mmonth\u001b[0m\u001b[1;33m,\u001b[0m \u001b[0mstart_date\u001b[0m\u001b[1;33m.\u001b[0m\u001b[0mday\u001b[0m\u001b[1;33m)\u001b[0m\u001b[1;33m\u001b[0m\u001b[1;33m\u001b[0m\u001b[0m\n\u001b[0m",
      "\u001b[1;31mAttributeError\u001b[0m: 'str' object has no attribute 'year'"
     ]
    }
   ],
   "source": [
    "datetime(start_date.year-1, start_date.month, start_date.day)"
   ]
  },
  {
   "cell_type": "code",
   "execution_count": null,
   "metadata": {},
   "outputs": [],
   "source": [
    "sp50.set_index('Date',inplace=True)\n",
    "sp50.tail()"
   ]
  },
  {
   "cell_type": "code",
   "execution_count": 162,
   "metadata": {},
   "outputs": [
    {
     "ename": "AttributeError",
     "evalue": "'str' object has no attribute 'year'",
     "output_type": "error",
     "traceback": [
      "\u001b[1;31m---------------------------------------------------------------------------\u001b[0m",
      "\u001b[1;31mAttributeError\u001b[0m                            Traceback (most recent call last)",
      "\u001b[1;32m<ipython-input-162-1a615bb30400>\u001b[0m in \u001b[0;36m<module>\u001b[1;34m\u001b[0m\n\u001b[1;32m----> 1\u001b[1;33m \u001b[0msp50\u001b[0m\u001b[1;33m.\u001b[0m\u001b[0mloc\u001b[0m\u001b[1;33m[\u001b[0m\u001b[0msp50\u001b[0m\u001b[1;33m.\u001b[0m\u001b[0mindex\u001b[0m \u001b[1;33m==\u001b[0m \u001b[0mdatetime\u001b[0m\u001b[1;33m(\u001b[0m\u001b[0mstart_date\u001b[0m\u001b[1;33m.\u001b[0m\u001b[0myear\u001b[0m\u001b[1;33m-\u001b[0m\u001b[1;36m1\u001b[0m\u001b[1;33m,\u001b[0m \u001b[0mstart_date\u001b[0m\u001b[1;33m.\u001b[0m\u001b[0mmonth\u001b[0m\u001b[1;33m,\u001b[0m \u001b[0mstart_date\u001b[0m\u001b[1;33m.\u001b[0m\u001b[0mday\u001b[0m\u001b[1;33m)\u001b[0m\u001b[1;33m]\u001b[0m\u001b[1;33m\u001b[0m\u001b[1;33m\u001b[0m\u001b[0m\n\u001b[0m",
      "\u001b[1;31mAttributeError\u001b[0m: 'str' object has no attribute 'year'"
     ]
    }
   ],
   "source": [
    "sp50.loc[sp50.index == datetime(start_date.year-1, start_date.month, start_date.day)]"
   ]
  },
  {
   "cell_type": "code",
   "execution_count": 151,
   "metadata": {},
   "outputs": [
    {
     "data": {
      "image/png": "[encoded data removed]",
      "text/plain": [
       "<Figure size 432x288 with 1 Axes>"
      ]
     },
     "metadata": {
      "needs_background": "light"
     },
     "output_type": "display_data"
    }
   ],
   "source": [
    "mask = sp50.loc[(sp50.index < '2017-12-15') & (sp50.index >= start_date]['Close']\n",
    "mask2 = sp50.loc[(sp50.index < start_date) & (sp50.index >= start_date - 1)]['Close']\n",
    "plt.plot(mask);"
   ]
  },
  {
   "cell_type": "code",
   "execution_count": 150,
   "metadata": {},
   "outputs": [
    {
     "name": "stdout",
     "output_type": "stream",
     "text": [
      "2652.01001  = purchase price\n",
      "2599.949951  = price one year later\n",
      "year-over-year growth =  -1.963041572380786 %\n",
      "11.55378486055777  percentile of all prices in next 12 months\n",
      "Good time to buy!\n"
     ]
    }
   ],
   "source": [
    "print(mask[-1], ' = purchase price')\n",
    "print(mask2[-1], ' = price one year later')\n",
    "print('year-over-year growth = ', (mask2[-1]/mask[-1] - 1)*100,'%')\n",
    "print(stats.percentileofscore(mask2, mask[-1]), ' percentile of all prices in next 12 months')\n",
    "if stats.percentileofscore(mask2, mask[-1]) < 50:\n",
    "    print('Good time to buy!')\n",
    "else:\n",
    "    print('Not a good time to buy')"
   ]
  },
  {
   "cell_type": "code",
   "execution_count": 9,
   "metadata": {},
   "outputs": [
    {
     "data": {
      "text/plain": [
       "datetime.datetime(1974, 7, 27, 0, 0)"
      ]
     },
     "execution_count": 9,
     "metadata": {},
     "output_type": "execute_result"
    }
   ],
   "source": [
    "def get_random_date(year):\n",
    "\n",
    "    # try to get a date\n",
    "    try:\n",
    "        return datetime.datetime.strptime('{} {}'.format(random.randint(1, 366), year), '%j %Y')\n",
    "\n",
    "    # if the value happens to be in the leap year range, try again\n",
    "    except ValueError:\n",
    "        return get_random_date(year)\n",
    "    \n",
    "get_random_date(1974)"
   ]
  },
  {
   "cell_type": "code",
   "execution_count": null,
   "metadata": {},
   "outputs": [],
   "source": [
    "#Baseline: show boxplot of returns of purchasing $1000 over 40 years on the same day every year - for each day chosen\n",
    "##Hypothesis is that distribution should be fairly consistent"
   ]
  },
  {
   "cell_type": "code",
   "execution_count": null,
   "metadata": {},
   "outputs": [],
   "source": [
    "#Compare this boxplot to one over 30 years, 20, 10, 5, 1. Prove that returns are predictable only in the long term.\n",
    "##Overlay all boxplotson one chart showing annualized return distributions"
   ]
  },
  {
   "cell_type": "code",
   "execution_count": null,
   "metadata": {},
   "outputs": [],
   "source": [
    "#Serve up random 1 year trailing price chart from each of the last 25 years and ask user whether they'd buy or hold on that date\n",
    "##Display percentile of that day's price relative to price distribution going forward one year  \n",
    "    ###If buy and above 50th percentile, poor decision\n",
    "    ###If hold and below price 50th percentile, poor decision\n",
    "        ####Show user how much additional money they would have made buying on those dates versus Apr 30 each year"
   ]
  }
 ],
 "metadata": {
  "kernelspec": {
   "display_name": "Python 3",
   "language": "python",
   "name": "python3"
  },
  "language_info": {
   "codemirror_mode": {
    "name": "ipython",
    "version": 3
   },
   "file_extension": ".py",
   "mimetype": "text/x-python",
   "name": "python",
   "nbconvert_exporter": "python",
   "pygments_lexer": "ipython3",
   "version": "3.7.3"
  }
 },
 "nbformat": 4,
 "nbformat_minor": 2
}
