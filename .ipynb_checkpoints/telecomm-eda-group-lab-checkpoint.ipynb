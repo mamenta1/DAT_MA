{
 "cells": [
  {
   "cell_type": "markdown",
   "metadata": {
    "collapsed": true
   },
   "source": [
    "<img src=\"http://imgur.com/1ZcRyrc.png\" style=\"float: left; margin: 20px; height: 55px\">\n",
    "\n",
    "\n",
    "# Telecomm EDA Challenge Lab\n",
    "\n",
    "_Author: Alex Combs (NYC) _\n",
    "\n",
    "---"
   ]
  },
  {
   "cell_type": "markdown",
   "metadata": {},
   "source": [
    "Let's do some Exploratory Data Analysis (EDA)! As a data scientist, you often may find yourself given a data set you've never seen before, and asked to do a rapid analysis. This is today's goal.\n",
    "\n",
    "# Prompt\n",
    "\n",
    "You work for a telecommunications company. The company has been storing metadata about customer phone usage, as part of the regular course of business. Currently, this data is sitting in an unsecured database. The company doesn't want to pay to increase their database security, because they don't think there's really anything to be learned from the metadata.\n",
    "\n",
    "They are under pressure from \"right to privacy\" organizations to beef up the database security. These organizations argue that you can learn a lot about a person from their cell phone metadata.\n",
    "\n",
    "The telecom company wants to understand if this is true, and they want your help. They will give you one person's metadata for 2014 and want to see what you can learn from it.\n",
    "\n",
    "Working in teams, create a report revealing everything you can about the person. Prepare a presentation, with slides, showcasing your findings.\n",
    "\n",
    "\n",
    "# The Data\n",
    "\n",
    "The [person's metadata](./datasets/metadata.csv) has the following fields:\n",
    "\n",
    "| Field Name          | Description\n",
    "| ---                 | ---\n",
    "| **Cell Cgi**        | cell phone tower identifier\n",
    "| **Cell Tower**      | cell phone tower location\n",
    "| **Comm Identifier** |\tde-identified recipient of communication\n",
    "| **Comm Timedate String** | time of communication\n",
    "| **Comm Type\tId**  | type of communication\n",
    "| **Latitude**        | latitude of communication\n",
    "| **Longitude**       | longitude of communication\n"
   ]
  },
  {
   "cell_type": "markdown",
   "metadata": {},
   "source": [
    "# Hints\n",
    "\n",
    "This is totally open-ended! If you're totally stumped -- and only if stumped -- should you look below for prompts. As a starting point, given that you have geo-locations, consider investigating ways to display this type of information (i.e. mapping functionality).\n",
    "\n",
    "<font color='white'>\n",
    "Well for starters, he's in Australia!\n",
    "\n",
    "Ideas for things to look into:\n",
    "- where does he work?\n",
    "- where does he live?\n",
    "- who does he contact most often?\n",
    "- what hours does he work?\n",
    "- did he move?\n",
    "- did he go on holiday?  If so, where did he go?\n",
    "- did he get a new phone?\n",
    "\n",
    "Challenges:\n",
    "- how does he get to work?\n",
    "- where does his family live?\n",
    "- if he went on holiday, can you find which flights he took?\n",
    "- can you guess who some of his contacts are, based on the frequency, location, time and mode (phone/text) of communications?\n",
    "\n",
    "\n",
    "If you're stuck on how to map the data, you can try \"basemap\" or \"gmplot\", or anything else you find online.\n",
    "</font>"
   ]
  },
  {
   "cell_type": "code",
   "execution_count": 66,
   "metadata": {},
   "outputs": [],
   "source": [
    "import pandas as pd\n",
    "from shapely.geometry import Point, Polygon\n",
    "import geopandas as gpd\n",
    "import matplotlib.pyplot as plt\n",
    "import datetime as dt"
   ]
  },
  {
   "cell_type": "code",
   "execution_count": 31,
   "metadata": {},
   "outputs": [
    {
     "data": {
      "text/html": [
       "<div>\n",
       "<style scoped>\n",
       "    .dataframe tbody tr th:only-of-type {\n",
       "        vertical-align: middle;\n",
       "    }\n",
       "\n",
       "    .dataframe tbody tr th {\n",
       "        vertical-align: top;\n",
       "    }\n",
       "\n",
       "    .dataframe thead th {\n",
       "        text-align: right;\n",
       "    }\n",
       "</style>\n",
       "<table border=\"1\" class=\"dataframe\">\n",
       "  <thead>\n",
       "    <tr style=\"text-align: right;\">\n",
       "      <th></th>\n",
       "      <th>Cell Cgi</th>\n",
       "      <th>Cell Tower Location</th>\n",
       "      <th>Comm Identifier</th>\n",
       "      <th>Comm Timedate String</th>\n",
       "      <th>Comm Type</th>\n",
       "      <th>Latitude</th>\n",
       "      <th>Longitude</th>\n",
       "    </tr>\n",
       "  </thead>\n",
       "  <tbody>\n",
       "    <tr>\n",
       "      <th>0</th>\n",
       "      <td>50501015388B9</td>\n",
       "      <td>REDFERN TE</td>\n",
       "      <td>f1a6836c0b7a3415a19a90fdd6f0ae18484d6d1e</td>\n",
       "      <td>4/1/14 9:40</td>\n",
       "      <td>Phone</td>\n",
       "      <td>-33.892933</td>\n",
       "      <td>151.202296</td>\n",
       "    </tr>\n",
       "    <tr>\n",
       "      <th>1</th>\n",
       "      <td>50501015388B9</td>\n",
       "      <td>REDFERN TE</td>\n",
       "      <td>62157ccf2910019ffd915b11fa037243b75c1624</td>\n",
       "      <td>4/1/14 9:42</td>\n",
       "      <td>Phone</td>\n",
       "      <td>-33.892933</td>\n",
       "      <td>151.202296</td>\n",
       "    </tr>\n",
       "    <tr>\n",
       "      <th>2</th>\n",
       "      <td>505010153111F</td>\n",
       "      <td>HAYMARKET #</td>\n",
       "      <td>c8f92bd0f4e6fb45ed7fce96fc831b283db2b642</td>\n",
       "      <td>4/1/14 13:13</td>\n",
       "      <td>Phone</td>\n",
       "      <td>-33.880329</td>\n",
       "      <td>151.205690</td>\n",
       "    </tr>\n",
       "    <tr>\n",
       "      <th>3</th>\n",
       "      <td>505010153111F</td>\n",
       "      <td>HAYMARKET #</td>\n",
       "      <td>f1a6836c0b7a3415a19a90fdd6f0ae18484d6d1e</td>\n",
       "      <td>4/1/14 13:13</td>\n",
       "      <td>Phone</td>\n",
       "      <td>-33.880329</td>\n",
       "      <td>151.205690</td>\n",
       "    </tr>\n",
       "    <tr>\n",
       "      <th>4</th>\n",
       "      <td>5.05E+106</td>\n",
       "      <td>HAYMARKET #</td>\n",
       "      <td>f1a6836c0b7a3415a19a90fdd6f0ae18484d6d1e</td>\n",
       "      <td>4/1/14 17:27</td>\n",
       "      <td>Phone</td>\n",
       "      <td>-33.880329</td>\n",
       "      <td>151.205690</td>\n",
       "    </tr>\n",
       "  </tbody>\n",
       "</table>\n",
       "</div>"
      ],
      "text/plain": [
       "        Cell Cgi Cell Tower Location  \\\n",
       "0  50501015388B9          REDFERN TE   \n",
       "1  50501015388B9          REDFERN TE   \n",
       "2  505010153111F         HAYMARKET #   \n",
       "3  505010153111F         HAYMARKET #   \n",
       "4      5.05E+106         HAYMARKET #   \n",
       "\n",
       "                            Comm Identifier Comm Timedate String Comm Type  \\\n",
       "0  f1a6836c0b7a3415a19a90fdd6f0ae18484d6d1e          4/1/14 9:40     Phone   \n",
       "1  62157ccf2910019ffd915b11fa037243b75c1624          4/1/14 9:42     Phone   \n",
       "2  c8f92bd0f4e6fb45ed7fce96fc831b283db2b642         4/1/14 13:13     Phone   \n",
       "3  f1a6836c0b7a3415a19a90fdd6f0ae18484d6d1e         4/1/14 13:13     Phone   \n",
       "4  f1a6836c0b7a3415a19a90fdd6f0ae18484d6d1e         4/1/14 17:27     Phone   \n",
       "\n",
       "    Latitude   Longitude  \n",
       "0 -33.892933  151.202296  \n",
       "1 -33.892933  151.202296  \n",
       "2 -33.880329  151.205690  \n",
       "3 -33.880329  151.205690  \n",
       "4 -33.880329  151.205690  "
      ]
     },
     "execution_count": 31,
     "metadata": {},
     "output_type": "execute_result"
    }
   ],
   "source": [
    "metadata = pd.read_csv('./datasets/metadata.csv')\n",
    "metadata.head()"
   ]
  },
  {
   "cell_type": "code",
   "execution_count": 32,
   "metadata": {},
   "outputs": [
    {
     "data": {
      "text/html": [
       "<div>\n",
       "<style scoped>\n",
       "    .dataframe tbody tr th:only-of-type {\n",
       "        vertical-align: middle;\n",
       "    }\n",
       "\n",
       "    .dataframe tbody tr th {\n",
       "        vertical-align: top;\n",
       "    }\n",
       "\n",
       "    .dataframe thead th {\n",
       "        text-align: right;\n",
       "    }\n",
       "</style>\n",
       "<table border=\"1\" class=\"dataframe\">\n",
       "  <thead>\n",
       "    <tr style=\"text-align: right;\">\n",
       "      <th></th>\n",
       "      <th>Latitude</th>\n",
       "      <th>Longitude</th>\n",
       "    </tr>\n",
       "  </thead>\n",
       "  <tbody>\n",
       "    <tr>\n",
       "      <th>count</th>\n",
       "      <td>10476.000000</td>\n",
       "      <td>10476.000000</td>\n",
       "    </tr>\n",
       "    <tr>\n",
       "      <th>mean</th>\n",
       "      <td>-35.136188</td>\n",
       "      <td>150.612841</td>\n",
       "    </tr>\n",
       "    <tr>\n",
       "      <th>std</th>\n",
       "      <td>3.141723</td>\n",
       "      <td>1.470169</td>\n",
       "    </tr>\n",
       "    <tr>\n",
       "      <th>min</th>\n",
       "      <td>-42.884810</td>\n",
       "      <td>144.848243</td>\n",
       "    </tr>\n",
       "    <tr>\n",
       "      <th>25%</th>\n",
       "      <td>-33.884603</td>\n",
       "      <td>151.202296</td>\n",
       "    </tr>\n",
       "    <tr>\n",
       "      <th>50%</th>\n",
       "      <td>-33.796610</td>\n",
       "      <td>151.266540</td>\n",
       "    </tr>\n",
       "    <tr>\n",
       "      <th>75%</th>\n",
       "      <td>-33.788150</td>\n",
       "      <td>151.266540</td>\n",
       "    </tr>\n",
       "    <tr>\n",
       "      <th>max</th>\n",
       "      <td>-33.557310</td>\n",
       "      <td>151.289340</td>\n",
       "    </tr>\n",
       "  </tbody>\n",
       "</table>\n",
       "</div>"
      ],
      "text/plain": [
       "           Latitude     Longitude\n",
       "count  10476.000000  10476.000000\n",
       "mean     -35.136188    150.612841\n",
       "std        3.141723      1.470169\n",
       "min      -42.884810    144.848243\n",
       "25%      -33.884603    151.202296\n",
       "50%      -33.796610    151.266540\n",
       "75%      -33.788150    151.266540\n",
       "max      -33.557310    151.289340"
      ]
     },
     "execution_count": 32,
     "metadata": {},
     "output_type": "execute_result"
    }
   ],
   "source": [
    "metadata.describe()"
   ]
  },
  {
   "cell_type": "code",
   "execution_count": 33,
   "metadata": {},
   "outputs": [
    {
     "name": "stdout",
     "output_type": "stream",
     "text": [
      "<class 'pandas.core.frame.DataFrame'>\n",
      "RangeIndex: 10476 entries, 0 to 10475\n",
      "Data columns (total 7 columns):\n",
      "Cell Cgi                10476 non-null object\n",
      "Cell Tower Location     10476 non-null object\n",
      "Comm Identifier         1374 non-null object\n",
      "Comm Timedate String    10476 non-null object\n",
      "Comm Type               10476 non-null object\n",
      "Latitude                10476 non-null float64\n",
      "Longitude               10476 non-null float64\n",
      "dtypes: float64(2), object(5)\n",
      "memory usage: 573.0+ KB\n"
     ]
    }
   ],
   "source": [
    "metadata.info()"
   ]
  },
  {
   "cell_type": "code",
   "execution_count": 34,
   "metadata": {},
   "outputs": [
    {
     "data": {
      "text/plain": [
       "array(['REDFERN TE', 'HAYMARKET #', 'CHIPPENDALE',\n",
       "       'HAYMARKET TE LEVEL 5 SRA BTS HOTEL', '71 MACQUARIE ST',\n",
       "       'FAIRLIGHT 137 SYDNEY RD', 'MANLY #', 'SURRY HILLS', 'CHINATOWN',\n",
       "       'SURRY HILLS 418A ELIZABETH ST',\n",
       "       'SYDNEY DOMESTIC TERMINAL T2 - VIRGIN', 'HOBART AIRPORT',\n",
       "       'SUNDERLAND ST', 'BRICKWORKS', 'NEW TOWN', 'MOUNT RUMNEY',\n",
       "       'SYDNEY 2 CASTLEREAGH STREET', 'EDGECLIFF EXCHANGE (PO)',\n",
       "       'NEWTOWN TE', 'REDFERN; 495 CLEVELAND ST', 'CENTRAL SRA DONOR',\n",
       "       'DARLINGHURST', 'SYDNEY 450 GEORGE ST', 'DAVID JONES',\n",
       "       'SYDNEY 131 YORK ST', 'BALGOWLAH VILLAGE SHOPPING CENTRE IBC',\n",
       "       'SPIT BRIDGE', 'CREMORNE #', 'MASCOT 201 COWARD ST',\n",
       "       'COLLINS ST (HOBART)', 'GRAND CHANCELLOR 1800', 'BROADWAY OTC',\n",
       "       'MELB AIRPORT TERM', 'ASCOT VALE SOUTH', 'CARLTON COLLEGE SQ',\n",
       "       'CREMORNE JUNCTION; GERARD ST', 'MANLY SOUTH STEYNE',\n",
       "       'ULTIMO BULWARA RD', 'HARBORD 22 WAINE ST', 'KENT #',\n",
       "       'BALGOWLAH HAYES ST', 'SYDNEY 505 GEORGE ST', 'BALGOWLAH TE',\n",
       "       'SEAFORTH', 'SYDNEY INTERNATIONAL AIRPORT RAILWAY STN',\n",
       "       'AIRPORT LINK', 'MASCOT INTERNATIONAL AIRPORT TERMINAL T1',\n",
       "       'MASCOT M5 MOTORWAY EMERGENCY STAIRS', 'MASCOT AIRPORT FAC3',\n",
       "       'ZETLAND 757 ELIZABETH ST', 'THE ROCKS 55 HARRINGTON ST',\n",
       "       'NEUTRAL BAY MILITARYRD', 'MANLY NTH STEYNE', 'NORTH HOBART 1800',\n",
       "       'POLICE HEADQUARTERS', 'NORTH SYDNEY 54 MCLAREN',\n",
       "       'ULTIMO; 616-620 HARRIS ST', 'LUTANA', 'MAQUARIE ST', 'DEE WHY',\n",
       "       'BEROWRA WINDY BANKS INTERCHANGE', 'WAHROONGA #', 'COWAN LOT 1',\n",
       "       'COWAN 1051 PACIFIC HWY', 'BROOKLYN PACIFIC HWY', 'DALLEY2 #',\n",
       "       'ROSEBERY DUNNING AVE', 'LENEVA; WODONGA TIP OFF BEACHWORTH RD',\n",
       "       'BEECHWORTH', 'THOONA', 'BENALLA EAST'], dtype=object)"
      ]
     },
     "execution_count": 34,
     "metadata": {},
     "output_type": "execute_result"
    }
   ],
   "source": [
    "metadata['Cell Tower Location'].unique()"
   ]
  },
  {
   "cell_type": "code",
   "execution_count": 51,
   "metadata": {},
   "outputs": [
    {
     "data": {
      "text/plain": [
       "array(['Phone', 'SMS', 'Internet'], dtype=object)"
      ]
     },
     "execution_count": 51,
     "metadata": {},
     "output_type": "execute_result"
    }
   ],
   "source": [
    "metadata['Comm Type'].unique()"
   ]
  },
  {
   "cell_type": "code",
   "execution_count": 35,
   "metadata": {},
   "outputs": [
    {
     "data": {
      "text/plain": [
       "<matplotlib.axes._subplots.AxesSubplot at 0x22f3a691668>"
      ]
     },
     "execution_count": 35,
     "metadata": {},
     "output_type": "execute_result"
    },
    {
     "data": {
      "image/png": "[encoded data removed]",
      "text/plain": [
       "<Figure size 1080x1080 with 1 Axes>"
      ]
     },
     "metadata": {
      "needs_background": "light"
     },
     "output_type": "display_data"
    }
   ],
   "source": [
    "street_map = gpd.read_file('./datasets/Ashmore and Cartier Islands_AL4-AL4.shp')\n",
    "fix, ax = plt.subplots(figsize = (15,15))\n",
    "street_map.plot(ax=ax)"
   ]
  },
  {
   "cell_type": "code",
   "execution_count": 36,
   "metadata": {},
   "outputs": [
    {
     "data": {
      "text/plain": [
       "Cell Cgi                   0\n",
       "Cell Tower Location        0\n",
       "Comm Identifier         9102\n",
       "Comm Timedate String       0\n",
       "Comm Type                  0\n",
       "Latitude                   0\n",
       "Longitude                  0\n",
       "dtype: int64"
      ]
     },
     "execution_count": 36,
     "metadata": {},
     "output_type": "execute_result"
    }
   ],
   "source": [
    "metadata.isnull().sum()"
   ]
  },
  {
   "cell_type": "code",
   "execution_count": 38,
   "metadata": {},
   "outputs": [],
   "source": [
    "#one user's data in 2014. Map their location data on a graph using longitude and latitude and color it by intensity using the time stamp. \n",
    "#Can also categorize color by phone, internet, and SMS"
   ]
  },
  {
   "cell_type": "code",
   "execution_count": 39,
   "metadata": {},
   "outputs": [
    {
     "data": {
      "text/plain": [
       "[<shapely.geometry.point.Point at 0x22f3c7f6748>,\n",
       " <shapely.geometry.point.Point at 0x22f3c7f6780>,\n",
       " <shapely.geometry.point.Point at 0x22f3c7f66d8>]"
      ]
     },
     "execution_count": 39,
     "metadata": {},
     "output_type": "execute_result"
    }
   ],
   "source": [
    "geometry = [Point(xy) for xy in zip(metadata.Longitude,metadata.Latitude)]\n",
    "geometry[0:3]"
   ]
  },
  {
   "cell_type": "code",
   "execution_count": 44,
   "metadata": {},
   "outputs": [],
   "source": [
    "crs = {'init' :'epsg:4326'}\n",
    "\n",
    "#specifies that we're using a coordinate reference system (CRS) based on latitude & longitude"
   ]
  },
  {
   "cell_type": "code",
   "execution_count": 45,
   "metadata": {},
   "outputs": [
    {
     "data": {
      "text/html": [
       "<div>\n",
       "<style scoped>\n",
       "    .dataframe tbody tr th:only-of-type {\n",
       "        vertical-align: middle;\n",
       "    }\n",
       "\n",
       "    .dataframe tbody tr th {\n",
       "        vertical-align: top;\n",
       "    }\n",
       "\n",
       "    .dataframe thead th {\n",
       "        text-align: right;\n",
       "    }\n",
       "</style>\n",
       "<table border=\"1\" class=\"dataframe\">\n",
       "  <thead>\n",
       "    <tr style=\"text-align: right;\">\n",
       "      <th></th>\n",
       "      <th>Cell Cgi</th>\n",
       "      <th>Cell Tower Location</th>\n",
       "      <th>Comm Identifier</th>\n",
       "      <th>Comm Timedate String</th>\n",
       "      <th>Comm Type</th>\n",
       "      <th>Latitude</th>\n",
       "      <th>Longitude</th>\n",
       "      <th>geometry</th>\n",
       "    </tr>\n",
       "  </thead>\n",
       "  <tbody>\n",
       "    <tr>\n",
       "      <th>0</th>\n",
       "      <td>50501015388B9</td>\n",
       "      <td>REDFERN TE</td>\n",
       "      <td>f1a6836c0b7a3415a19a90fdd6f0ae18484d6d1e</td>\n",
       "      <td>4/1/14 9:40</td>\n",
       "      <td>Phone</td>\n",
       "      <td>-33.892933</td>\n",
       "      <td>151.202296</td>\n",
       "      <td>POINT (151.20230 -33.89293)</td>\n",
       "    </tr>\n",
       "    <tr>\n",
       "      <th>1</th>\n",
       "      <td>50501015388B9</td>\n",
       "      <td>REDFERN TE</td>\n",
       "      <td>62157ccf2910019ffd915b11fa037243b75c1624</td>\n",
       "      <td>4/1/14 9:42</td>\n",
       "      <td>Phone</td>\n",
       "      <td>-33.892933</td>\n",
       "      <td>151.202296</td>\n",
       "      <td>POINT (151.20230 -33.89293)</td>\n",
       "    </tr>\n",
       "    <tr>\n",
       "      <th>2</th>\n",
       "      <td>505010153111F</td>\n",
       "      <td>HAYMARKET #</td>\n",
       "      <td>c8f92bd0f4e6fb45ed7fce96fc831b283db2b642</td>\n",
       "      <td>4/1/14 13:13</td>\n",
       "      <td>Phone</td>\n",
       "      <td>-33.880329</td>\n",
       "      <td>151.205690</td>\n",
       "      <td>POINT (151.20569 -33.88033)</td>\n",
       "    </tr>\n",
       "    <tr>\n",
       "      <th>3</th>\n",
       "      <td>505010153111F</td>\n",
       "      <td>HAYMARKET #</td>\n",
       "      <td>f1a6836c0b7a3415a19a90fdd6f0ae18484d6d1e</td>\n",
       "      <td>4/1/14 13:13</td>\n",
       "      <td>Phone</td>\n",
       "      <td>-33.880329</td>\n",
       "      <td>151.205690</td>\n",
       "      <td>POINT (151.20569 -33.88033)</td>\n",
       "    </tr>\n",
       "    <tr>\n",
       "      <th>4</th>\n",
       "      <td>5.05E+106</td>\n",
       "      <td>HAYMARKET #</td>\n",
       "      <td>f1a6836c0b7a3415a19a90fdd6f0ae18484d6d1e</td>\n",
       "      <td>4/1/14 17:27</td>\n",
       "      <td>Phone</td>\n",
       "      <td>-33.880329</td>\n",
       "      <td>151.205690</td>\n",
       "      <td>POINT (151.20569 -33.88033)</td>\n",
       "    </tr>\n",
       "  </tbody>\n",
       "</table>\n",
       "</div>"
      ],
      "text/plain": [
       "        Cell Cgi Cell Tower Location  \\\n",
       "0  50501015388B9          REDFERN TE   \n",
       "1  50501015388B9          REDFERN TE   \n",
       "2  505010153111F         HAYMARKET #   \n",
       "3  505010153111F         HAYMARKET #   \n",
       "4      5.05E+106         HAYMARKET #   \n",
       "\n",
       "                            Comm Identifier Comm Timedate String Comm Type  \\\n",
       "0  f1a6836c0b7a3415a19a90fdd6f0ae18484d6d1e          4/1/14 9:40     Phone   \n",
       "1  62157ccf2910019ffd915b11fa037243b75c1624          4/1/14 9:42     Phone   \n",
       "2  c8f92bd0f4e6fb45ed7fce96fc831b283db2b642         4/1/14 13:13     Phone   \n",
       "3  f1a6836c0b7a3415a19a90fdd6f0ae18484d6d1e         4/1/14 13:13     Phone   \n",
       "4  f1a6836c0b7a3415a19a90fdd6f0ae18484d6d1e         4/1/14 17:27     Phone   \n",
       "\n",
       "    Latitude   Longitude                     geometry  \n",
       "0 -33.892933  151.202296  POINT (151.20230 -33.89293)  \n",
       "1 -33.892933  151.202296  POINT (151.20230 -33.89293)  \n",
       "2 -33.880329  151.205690  POINT (151.20569 -33.88033)  \n",
       "3 -33.880329  151.205690  POINT (151.20569 -33.88033)  \n",
       "4 -33.880329  151.205690  POINT (151.20569 -33.88033)  "
      ]
     },
     "execution_count": 45,
     "metadata": {},
     "output_type": "execute_result"
    }
   ],
   "source": [
    "geo_df = gpd.GeoDataFrame(metadata, crs=crs, geometry=geometry)\n",
    "geo_df.head()"
   ]
  },
  {
   "cell_type": "code",
   "execution_count": 53,
   "metadata": {},
   "outputs": [
    {
     "data": {
      "text/plain": [
       "<matplotlib.legend.Legend at 0x22f3a4bba90>"
      ]
     },
     "execution_count": 53,
     "metadata": {},
     "output_type": "execute_result"
    },
    {
     "data": {
      "image/png": "[encoded data removed]",
      "text/plain": [
       "<Figure size 1080x1080 with 1 Axes>"
      ]
     },
     "metadata": {
      "needs_background": "light"
     },
     "output_type": "display_data"
    }
   ],
   "source": [
    "#plot by type\n",
    "\n",
    "fix, ax = plt.subplots(figsize = (15,15))\n",
    "street_map.plot(ax=ax, alpha = 0.3, color ='grey')\n",
    "geo_df[geo_df['Comm Type'] == 'Phone'].plot(ax = ax, markersize =10, color = 'blue', marker = 'o', label = 'voice')\n",
    "geo_df[geo_df['Comm Type'] == 'SMS'].plot(ax = ax, markersize =10, color = 'red', marker = 'o', label = 'text')\n",
    "geo_df[geo_df['Comm Type'] == 'Internet'].plot(ax = ax, markersize =10, color = 'green', marker = 'o', label = 'browsing')\n",
    "plt.legend(prop={'size': 15})"
   ]
  },
  {
   "cell_type": "code",
   "execution_count": 61,
   "metadata": {},
   "outputs": [],
   "source": [
    "#plot by date\n",
    "\n",
    "geo_df.DateTime = pd.to_datetime(geo_df['Comm Timedate String']) "
   ]
  },
  {
   "cell_type": "code",
   "execution_count": 62,
   "metadata": {},
   "outputs": [
    {
     "data": {
      "text/html": [
       "<div>\n",
       "<style scoped>\n",
       "    .dataframe tbody tr th:only-of-type {\n",
       "        vertical-align: middle;\n",
       "    }\n",
       "\n",
       "    .dataframe tbody tr th {\n",
       "        vertical-align: top;\n",
       "    }\n",
       "\n",
       "    .dataframe thead th {\n",
       "        text-align: right;\n",
       "    }\n",
       "</style>\n",
       "<table border=\"1\" class=\"dataframe\">\n",
       "  <thead>\n",
       "    <tr style=\"text-align: right;\">\n",
       "      <th></th>\n",
       "      <th>Cell Cgi</th>\n",
       "      <th>Cell Tower Location</th>\n",
       "      <th>Comm Identifier</th>\n",
       "      <th>Comm Timedate String</th>\n",
       "      <th>Comm Type</th>\n",
       "      <th>Latitude</th>\n",
       "      <th>Longitude</th>\n",
       "      <th>geometry</th>\n",
       "      <th>DateTime</th>\n",
       "    </tr>\n",
       "  </thead>\n",
       "  <tbody>\n",
       "    <tr>\n",
       "      <th>10471</th>\n",
       "      <td>50501015388B9</td>\n",
       "      <td>REDFERN TE</td>\n",
       "      <td>NaN</td>\n",
       "      <td>4/1/15 22:40</td>\n",
       "      <td>Internet</td>\n",
       "      <td>-33.892933</td>\n",
       "      <td>151.202296</td>\n",
       "      <td>POINT (151.20230 -33.89293)</td>\n",
       "      <td>2015-04-01 22:40:00</td>\n",
       "    </tr>\n",
       "    <tr>\n",
       "      <th>10472</th>\n",
       "      <td>50501015388B9</td>\n",
       "      <td>REDFERN TE</td>\n",
       "      <td>NaN</td>\n",
       "      <td>4/1/15 22:41</td>\n",
       "      <td>Internet</td>\n",
       "      <td>-33.892933</td>\n",
       "      <td>151.202296</td>\n",
       "      <td>POINT (151.20230 -33.89293)</td>\n",
       "      <td>2015-04-01 22:41:00</td>\n",
       "    </tr>\n",
       "    <tr>\n",
       "      <th>10473</th>\n",
       "      <td>50501015388B9</td>\n",
       "      <td>REDFERN TE</td>\n",
       "      <td>NaN</td>\n",
       "      <td>4/1/15 22:44</td>\n",
       "      <td>Internet</td>\n",
       "      <td>-33.892933</td>\n",
       "      <td>151.202296</td>\n",
       "      <td>POINT (151.20230 -33.89293)</td>\n",
       "      <td>2015-04-01 22:44:00</td>\n",
       "    </tr>\n",
       "    <tr>\n",
       "      <th>10474</th>\n",
       "      <td>50501015388B9</td>\n",
       "      <td>REDFERN TE</td>\n",
       "      <td>NaN</td>\n",
       "      <td>4/1/15 22:45</td>\n",
       "      <td>Internet</td>\n",
       "      <td>-33.892933</td>\n",
       "      <td>151.202296</td>\n",
       "      <td>POINT (151.20230 -33.89293)</td>\n",
       "      <td>2015-04-01 22:45:00</td>\n",
       "    </tr>\n",
       "    <tr>\n",
       "      <th>10475</th>\n",
       "      <td>50501015388B9</td>\n",
       "      <td>REDFERN TE</td>\n",
       "      <td>NaN</td>\n",
       "      <td>4/1/15 23:49</td>\n",
       "      <td>Internet</td>\n",
       "      <td>-33.892933</td>\n",
       "      <td>151.202296</td>\n",
       "      <td>POINT (151.20230 -33.89293)</td>\n",
       "      <td>2015-04-01 23:49:00</td>\n",
       "    </tr>\n",
       "  </tbody>\n",
       "</table>\n",
       "</div>"
      ],
      "text/plain": [
       "            Cell Cgi Cell Tower Location Comm Identifier Comm Timedate String  \\\n",
       "10471  50501015388B9          REDFERN TE             NaN         4/1/15 22:40   \n",
       "10472  50501015388B9          REDFERN TE             NaN         4/1/15 22:41   \n",
       "10473  50501015388B9          REDFERN TE             NaN         4/1/15 22:44   \n",
       "10474  50501015388B9          REDFERN TE             NaN         4/1/15 22:45   \n",
       "10475  50501015388B9          REDFERN TE             NaN         4/1/15 23:49   \n",
       "\n",
       "      Comm Type   Latitude   Longitude                     geometry  \\\n",
       "10471  Internet -33.892933  151.202296  POINT (151.20230 -33.89293)   \n",
       "10472  Internet -33.892933  151.202296  POINT (151.20230 -33.89293)   \n",
       "10473  Internet -33.892933  151.202296  POINT (151.20230 -33.89293)   \n",
       "10474  Internet -33.892933  151.202296  POINT (151.20230 -33.89293)   \n",
       "10475  Internet -33.892933  151.202296  POINT (151.20230 -33.89293)   \n",
       "\n",
       "                 DateTime  \n",
       "10471 2015-04-01 22:40:00  \n",
       "10472 2015-04-01 22:41:00  \n",
       "10473 2015-04-01 22:44:00  \n",
       "10474 2015-04-01 22:45:00  \n",
       "10475 2015-04-01 23:49:00  "
      ]
     },
     "execution_count": 62,
     "metadata": {},
     "output_type": "execute_result"
    }
   ],
   "source": [
    "geo_df.tail()"
   ]
  },
  {
   "cell_type": "code",
   "execution_count": 65,
   "metadata": {},
   "outputs": [
    {
     "name": "stdout",
     "output_type": "stream",
     "text": [
      "<class 'geopandas.geodataframe.GeoDataFrame'>\n",
      "RangeIndex: 10476 entries, 0 to 10475\n",
      "Data columns (total 9 columns):\n",
      "Cell Cgi                10476 non-null object\n",
      "Cell Tower Location     10476 non-null object\n",
      "Comm Identifier         1374 non-null object\n",
      "Comm Timedate String    10476 non-null object\n",
      "Comm Type               10476 non-null object\n",
      "Latitude                10476 non-null float64\n",
      "Longitude               10476 non-null float64\n",
      "geometry                10476 non-null geometry\n",
      "DateTime                10476 non-null datetime64[ns]\n",
      "dtypes: datetime64[ns](1), float64(2), geometry(1), object(5)\n",
      "memory usage: 736.7+ KB\n"
     ]
    }
   ],
   "source": [
    "geo_df.info()"
   ]
  },
  {
   "cell_type": "code",
   "execution_count": 91,
   "metadata": {},
   "outputs": [
    {
     "data": {
      "text/html": [
       "<div>\n",
       "<style scoped>\n",
       "    .dataframe tbody tr th:only-of-type {\n",
       "        vertical-align: middle;\n",
       "    }\n",
       "\n",
       "    .dataframe tbody tr th {\n",
       "        vertical-align: top;\n",
       "    }\n",
       "\n",
       "    .dataframe thead th {\n",
       "        text-align: right;\n",
       "    }\n",
       "</style>\n",
       "<table border=\"1\" class=\"dataframe\">\n",
       "  <thead>\n",
       "    <tr style=\"text-align: right;\">\n",
       "      <th></th>\n",
       "      <th>Cell Cgi</th>\n",
       "      <th>Cell Tower Location</th>\n",
       "      <th>Comm Identifier</th>\n",
       "      <th>Comm Timedate String</th>\n",
       "      <th>Comm Type</th>\n",
       "      <th>Latitude</th>\n",
       "      <th>Longitude</th>\n",
       "      <th>geometry</th>\n",
       "      <th>DateTime</th>\n",
       "    </tr>\n",
       "    <tr>\n",
       "      <th>DateTime</th>\n",
       "      <th></th>\n",
       "      <th></th>\n",
       "      <th></th>\n",
       "      <th></th>\n",
       "      <th></th>\n",
       "      <th></th>\n",
       "      <th></th>\n",
       "      <th></th>\n",
       "      <th></th>\n",
       "    </tr>\n",
       "  </thead>\n",
       "  <tbody>\n",
       "    <tr>\n",
       "      <th>2015-04-01 22:40:00</th>\n",
       "      <td>50501015388B9</td>\n",
       "      <td>REDFERN TE</td>\n",
       "      <td>NaN</td>\n",
       "      <td>4/1/15 22:40</td>\n",
       "      <td>Internet</td>\n",
       "      <td>-33.892933</td>\n",
       "      <td>151.202296</td>\n",
       "      <td>POINT (151.20230 -33.89293)</td>\n",
       "      <td>2015-04-01 22:40:00</td>\n",
       "    </tr>\n",
       "    <tr>\n",
       "      <th>2015-04-01 22:41:00</th>\n",
       "      <td>50501015388B9</td>\n",
       "      <td>REDFERN TE</td>\n",
       "      <td>NaN</td>\n",
       "      <td>4/1/15 22:41</td>\n",
       "      <td>Internet</td>\n",
       "      <td>-33.892933</td>\n",
       "      <td>151.202296</td>\n",
       "      <td>POINT (151.20230 -33.89293)</td>\n",
       "      <td>2015-04-01 22:41:00</td>\n",
       "    </tr>\n",
       "    <tr>\n",
       "      <th>2015-04-01 22:44:00</th>\n",
       "      <td>50501015388B9</td>\n",
       "      <td>REDFERN TE</td>\n",
       "      <td>NaN</td>\n",
       "      <td>4/1/15 22:44</td>\n",
       "      <td>Internet</td>\n",
       "      <td>-33.892933</td>\n",
       "      <td>151.202296</td>\n",
       "      <td>POINT (151.20230 -33.89293)</td>\n",
       "      <td>2015-04-01 22:44:00</td>\n",
       "    </tr>\n",
       "    <tr>\n",
       "      <th>2015-04-01 22:45:00</th>\n",
       "      <td>50501015388B9</td>\n",
       "      <td>REDFERN TE</td>\n",
       "      <td>NaN</td>\n",
       "      <td>4/1/15 22:45</td>\n",
       "      <td>Internet</td>\n",
       "      <td>-33.892933</td>\n",
       "      <td>151.202296</td>\n",
       "      <td>POINT (151.20230 -33.89293)</td>\n",
       "      <td>2015-04-01 22:45:00</td>\n",
       "    </tr>\n",
       "  </tbody>\n",
       "</table>\n",
       "</div>"
      ],
      "text/plain": [
       "                          Cell Cgi Cell Tower Location Comm Identifier  \\\n",
       "DateTime                                                                 \n",
       "2015-04-01 22:40:00  50501015388B9          REDFERN TE             NaN   \n",
       "2015-04-01 22:41:00  50501015388B9          REDFERN TE             NaN   \n",
       "2015-04-01 22:44:00  50501015388B9          REDFERN TE             NaN   \n",
       "2015-04-01 22:45:00  50501015388B9          REDFERN TE             NaN   \n",
       "\n",
       "                    Comm Timedate String Comm Type   Latitude   Longitude  \\\n",
       "DateTime                                                                    \n",
       "2015-04-01 22:40:00         4/1/15 22:40  Internet -33.892933  151.202296   \n",
       "2015-04-01 22:41:00         4/1/15 22:41  Internet -33.892933  151.202296   \n",
       "2015-04-01 22:44:00         4/1/15 22:44  Internet -33.892933  151.202296   \n",
       "2015-04-01 22:45:00         4/1/15 22:45  Internet -33.892933  151.202296   \n",
       "\n",
       "                                        geometry            DateTime  \n",
       "DateTime                                                              \n",
       "2015-04-01 22:40:00  POINT (151.20230 -33.89293) 2015-04-01 22:40:00  \n",
       "2015-04-01 22:41:00  POINT (151.20230 -33.89293) 2015-04-01 22:41:00  \n",
       "2015-04-01 22:44:00  POINT (151.20230 -33.89293) 2015-04-01 22:44:00  \n",
       "2015-04-01 22:45:00  POINT (151.20230 -33.89293) 2015-04-01 22:45:00  "
      ]
     },
     "execution_count": 91,
     "metadata": {},
     "output_type": "execute_result"
    }
   ],
   "source": [
    "geo_df.index = geo_df.DateTime\n",
    "start = dt.datetime.strptime('2015-04-01 22:07:00', '%Y-%m-%d %H:%M:%S')\n",
    "end = dt.datetime.strptime('2015-04-01 23:07:00', '%Y-%m-%d %H:%M:%S')\n",
    "geo_df.loc[(geo_df.index > start) & (geo_df.index < end)]"
   ]
  },
  {
   "cell_type": "code",
   "execution_count": 92,
   "metadata": {},
   "outputs": [
    {
     "data": {
      "text/plain": [
       "<matplotlib.axes._subplots.AxesSubplot at 0x22f3a74f0b8>"
      ]
     },
     "execution_count": 92,
     "metadata": {},
     "output_type": "execute_result"
    },
    {
     "data": {
      "image/png": "[encoded data removed]",
      "text/plain": [
       "<Figure size 1080x1080 with 1 Axes>"
      ]
     },
     "metadata": {
      "needs_background": "light"
     },
     "output_type": "display_data"
    }
   ],
   "source": [
    "fix, ax = plt.subplots(figsize = (15,15))\n",
    "street_map.plot(ax=ax, alpha = 0.3, color ='grey')\n",
    "geo_df.loc[(geo_df.index > start) & (geo_df.index < end)].plot(ax = ax, markersize =10, color = 'blue', marker = 'o', label = 'place')"
   ]
  },
  {
   "cell_type": "code",
   "execution_count": null,
   "metadata": {},
   "outputs": [],
   "source": [
    "#plot with interactive time element\n",
    "\n",
    "#TO DO ????"
   ]
  }
 ],
 "metadata": {
  "kernelspec": {
   "display_name": "Python 3",
   "language": "python",
   "name": "python3"
  },
  "language_info": {
   "codemirror_mode": {
    "name": "ipython",
    "version": 3
   },
   "file_extension": ".py",
   "mimetype": "text/x-python",
   "name": "python",
   "nbconvert_exporter": "python",
   "pygments_lexer": "ipython3",
   "version": "3.7.3"
  }
 },
 "nbformat": 4,
 "nbformat_minor": 2
}
