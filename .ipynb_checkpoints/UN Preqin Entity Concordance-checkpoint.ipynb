{
 "cells": [
  {
   "cell_type": "markdown",
   "metadata": {},
   "source": [
    "# Combining Web Scrape with Company Data via Entity Concordance\n",
    "\n",
    "Company data was fetched via SQL and now needs to be combined with the data scraped from UN PRI to determine whether UN PRI data has predictive power over some of our fields. However, we must first handle entity concordance between the two data sets, as the naming conventions differ from UN PRI to Preqin."
   ]
  },
  {
   "cell_type": "code",
   "execution_count": 3,
   "metadata": {},
   "outputs": [],
   "source": [
    "import pandas as pd\n",
    "import numpy as np\n",
    "import matplotlib.pyplot as plt"
   ]
  },
  {
   "cell_type": "code",
   "execution_count": 4,
   "metadata": {},
   "outputs": [],
   "source": [
    "pd.set_option('display.max_columns', 200)"
   ]
  },
  {
   "cell_type": "markdown",
   "metadata": {},
   "source": [
    "UN PRI Name Upload"
   ]
  },
  {
   "cell_type": "code",
   "execution_count": 5,
   "metadata": {},
   "outputs": [],
   "source": [
    "entities = pd.read_csv('./datasets/PRI_urls.csv')"
   ]
  },
  {
   "cell_type": "code",
   "execution_count": 6,
   "metadata": {},
   "outputs": [
    {
     "data": {
      "text/html": [
       "<div>\n",
       "<style scoped>\n",
       "    .dataframe tbody tr th:only-of-type {\n",
       "        vertical-align: middle;\n",
       "    }\n",
       "\n",
       "    .dataframe tbody tr th {\n",
       "        vertical-align: top;\n",
       "    }\n",
       "\n",
       "    .dataframe thead th {\n",
       "        text-align: right;\n",
       "    }\n",
       "</style>\n",
       "<table border=\"1\" class=\"dataframe\">\n",
       "  <thead>\n",
       "    <tr style=\"text-align: right;\">\n",
       "      <th></th>\n",
       "      <th>name</th>\n",
       "      <th>id</th>\n",
       "    </tr>\n",
       "  </thead>\n",
       "  <tbody>\n",
       "    <tr>\n",
       "      <th>0</th>\n",
       "      <td>123 Investment Managers (123 IM)</td>\n",
       "      <td>8D30DD50-49F0-4CD1-A6B1-406A18F02F37</td>\n",
       "    </tr>\n",
       "    <tr>\n",
       "      <th>1</th>\n",
       "      <td>1919 Investment Counsel</td>\n",
       "      <td>6DD817D4-87D8-4110-975B-698F8DCB7792</td>\n",
       "    </tr>\n",
       "    <tr>\n",
       "      <th>2</th>\n",
       "      <td>1Sharpe Capital LLC</td>\n",
       "      <td>E740F8EA-BD88-4EC5-836C-50515F749B20</td>\n",
       "    </tr>\n",
       "    <tr>\n",
       "      <th>3</th>\n",
       "      <td>21 Invest</td>\n",
       "      <td>553A060D-E007-4ACF-A26F-77C88EDD4D26</td>\n",
       "    </tr>\n",
       "    <tr>\n",
       "      <th>4</th>\n",
       "      <td>27Four Investment Managers</td>\n",
       "      <td>5047A032-8A36-406C-A32C-5201E24F9FA2</td>\n",
       "    </tr>\n",
       "  </tbody>\n",
       "</table>\n",
       "</div>"
      ],
      "text/plain": [
       "                               name                                    id\n",
       "0  123 Investment Managers (123 IM)  8D30DD50-49F0-4CD1-A6B1-406A18F02F37\n",
       "1           1919 Investment Counsel  6DD817D4-87D8-4110-975B-698F8DCB7792\n",
       "2               1Sharpe Capital LLC  E740F8EA-BD88-4EC5-836C-50515F749B20\n",
       "3                         21 Invest  553A060D-E007-4ACF-A26F-77C88EDD4D26\n",
       "4        27Four Investment Managers  5047A032-8A36-406C-A32C-5201E24F9FA2"
      ]
     },
     "execution_count": 6,
     "metadata": {},
     "output_type": "execute_result"
    }
   ],
   "source": [
    "entities.head()"
   ]
  },
  {
   "cell_type": "markdown",
   "metadata": {},
   "source": [
    "Preqin Name Upload"
   ]
  },
  {
   "cell_type": "code",
   "execution_count": 7,
   "metadata": {},
   "outputs": [],
   "source": [
    "preqin_esg = pd.read_csv('./datasets/preqin_esg.csv')"
   ]
  },
  {
   "cell_type": "code",
   "execution_count": 8,
   "metadata": {},
   "outputs": [],
   "source": [
    "entityname_list = entities['name'].tolist()"
   ]
  },
  {
   "cell_type": "code",
   "execution_count": null,
   "metadata": {},
   "outputs": [],
   "source": [
    "#When you web scrape, sometimes the encoding is lost in translation so you have to encode it to utf-8 proactively\n",
    "entityname_list = entittyname_list.str.encode('utf-8')"
   ]
  },
  {
   "cell_type": "markdown",
   "metadata": {},
   "source": [
    "Need to clean both series (lower, delete corporate suffixes) and make new series for both of identical length with clean names."
   ]
  },
  {
   "cell_type": "code",
   "execution_count": 9,
   "metadata": {},
   "outputs": [
    {
     "data": {
      "text/plain": [
       "0           private advisors\n",
       "2            tkp investments\n",
       "4    access capital partners\n",
       "6      adams street partners\n",
       "8             schroder adveq\n",
       "Name: Firm Name, dtype: object"
      ]
     },
     "execution_count": 9,
     "metadata": {},
     "output_type": "execute_result"
    }
   ],
   "source": [
    "preqin_names = preqin_esg['Firm Name'].str.lower()\n",
    "preqin_names.drop_duplicates(inplace=True)\n",
    "preqin_names.str.strip()\n",
    "preqin_names = preqin_names.replace(to_replace=[' llc',' ltd',' inc',' oy',',','.',' sà rl',' sarl',' nv',' pty','(pty)',' plc',' pte',' limited',' llp',' bv',' sgr',' sàrl',' spa',' avh',' lp'], value='')\n",
    "preqin_names = preqin_names.replace(to_replace='-Fonden ', value='')\n",
    "preqin_names.head()"
   ]
  },
  {
   "cell_type": "code",
   "execution_count": 10,
   "metadata": {},
   "outputs": [
    {
     "data": {
      "text/plain": [
       "0    123 investment managers (123 im)\n",
       "1             1919 investment counsel\n",
       "2                 1sharpe capital llc\n",
       "3                           21 invest\n",
       "4          27four investment managers\n",
       "Name: name, dtype: object"
      ]
     },
     "execution_count": 10,
     "metadata": {},
     "output_type": "execute_result"
    }
   ],
   "source": [
    "unpri_names = entities['name'].str.lower()\n",
    "unpri_names = unpri_names.str.replace('&amp;','&')\n",
    "unpri_names.str.strip()\n",
    "unpri_names = unpri_names.replace(to_replace=[' llc',' ltd',' inc',' oy',',','.',' sà rl',' sarl',' nv',' pty','(pty)','(provisional signatory)',' plc',' pte',' limited',' llp',' bv',' sgr',' sàrl',' spa',' avh',' lp'], value='')\n",
    "unpri_names = unpri_names.replace(to_replace='kohlberg kravis roberts & co', value='kkr')\n",
    "unpri_names.head()"
   ]
  },
  {
   "cell_type": "markdown",
   "metadata": {},
   "source": [
    "With clean names between the Preqin and UN PRI data sets, I must now run a distance algorithm between the strings in a resulting match_df (with duplicating entries for both unpri and preqin). The string distance function was stolen online from https://stackabuse.com/levenshtein-distance-and-text-similarity-in-python/."
   ]
  },
  {
   "cell_type": "code",
   "execution_count": 11,
   "metadata": {},
   "outputs": [],
   "source": [
    "def levenshtein_ratio_and_distance(s, t, ratio_calc = False):\n",
    "    \"\"\" levenshtein_ratio_and_distance:\n",
    "        Calculates levenshtein distance between two strings.\n",
    "        If ratio_calc = True, the function computes the\n",
    "        levenshtein distance ratio of similarity between two strings\n",
    "        For all i and j, distance[i,j] will contain the Levenshtein\n",
    "        distance between the first i characters of s and the\n",
    "        first j characters of t\n",
    "    \"\"\"\n",
    "    # Initialize matrix of zeros\n",
    "    rows = len(s)+1\n",
    "    cols = len(t)+1\n",
    "    distance = np.zeros((rows,cols),dtype = int)\n",
    "\n",
    "    # Populate matrix of zeros with the indeces of each character of both strings\n",
    "    for i in range(1, rows):\n",
    "        for k in range(1,cols):\n",
    "            distance[i][0] = i\n",
    "            distance[0][k] = k\n",
    "\n",
    "    # Iterate over the matrix to compute the cost of deletions,insertions and/or substitutions    \n",
    "    for col in range(1, cols):\n",
    "        for row in range(1, rows):\n",
    "            if s[row-1] == t[col-1]:\n",
    "                cost = 0 # If the characters are the same in the two strings in a given position [i,j] then the cost is 0\n",
    "            else:\n",
    "                # In order to align the results with those of the Python Levenshtein package, if we choose to calculate the ratio\n",
    "                # the cost of a substitution is 2. If we calculate just distance, then the cost of a substitution is 1.\n",
    "                if ratio_calc == True:\n",
    "                    cost = 2\n",
    "                else:\n",
    "                    cost = 1\n",
    "            distance[row][col] = min(distance[row-1][col] + 1,      # Cost of deletions\n",
    "                                 distance[row][col-1] + 1,          # Cost of insertions\n",
    "                                 distance[row-1][col-1] + cost)     # Cost of substitutions\n",
    "    if ratio_calc == True:\n",
    "        # Computation of the Levenshtein Distance Ratio\n",
    "        Ratio = ((len(s)+len(t)) - distance[row][col]) / (len(s)+len(t))\n",
    "        return Ratio\n",
    "    else:\n",
    "        # print(distance) # Uncomment if you want to see the matrix showing how the algorithm computes the cost of deletions,\n",
    "        # insertions and/or substitutions\n",
    "        # This is the minimum number of edits needed to convert string a to string b\n",
    "        return \"{}\".format(distance[row][col])"
   ]
  },
  {
   "cell_type": "code",
   "execution_count": 12,
   "metadata": {},
   "outputs": [
    {
     "data": {
      "text/plain": [
       "0.8888888888888888"
      ]
     },
     "execution_count": 12,
     "metadata": {},
     "output_type": "execute_result"
    }
   ],
   "source": [
    "levenshtein_ratio_and_distance('word', 'wordy', ratio_calc = True)"
   ]
  },
  {
   "cell_type": "code",
   "execution_count": 13,
   "metadata": {},
   "outputs": [
    {
     "data": {
      "text/plain": [
       "0.9333333333333333"
      ]
     },
     "execution_count": 13,
     "metadata": {},
     "output_type": "execute_result"
    }
   ],
   "source": [
    "levenshtein_ratio_and_distance('wordiiiiiiiiii', 'wordyiiiiiiiiiii', ratio_calc = True)"
   ]
  },
  {
   "cell_type": "markdown",
   "metadata": {},
   "source": [
    "#### CAUTION: This loop takes ~14 hours to run!!!\n",
    "\n",
    "The following function runs the distance from every Preqin name for every single UN PRI name in the function. "
   ]
  },
  {
   "cell_type": "code",
   "execution_count": 147,
   "metadata": {},
   "outputs": [],
   "source": [
    "new_list = []\n",
    "for i in preqin_names:\n",
    "    for j in unpri_names:\n",
    "        new_list.append([i,j,levenshtein_ratio_and_distance(i,j,ratio_calc = True)])"
   ]
  },
  {
   "cell_type": "code",
   "execution_count": 54,
   "metadata": {},
   "outputs": [],
   "source": [
    "# new_list"
   ]
  },
  {
   "cell_type": "markdown",
   "metadata": {},
   "source": [
    "Convert resulting list to df"
   ]
  },
  {
   "cell_type": "code",
   "execution_count": 433,
   "metadata": {},
   "outputs": [
    {
     "data": {
      "text/html": [
       "<div>\n",
       "<style scoped>\n",
       "    .dataframe tbody tr th:only-of-type {\n",
       "        vertical-align: middle;\n",
       "    }\n",
       "\n",
       "    .dataframe tbody tr th {\n",
       "        vertical-align: top;\n",
       "    }\n",
       "\n",
       "    .dataframe thead th {\n",
       "        text-align: right;\n",
       "    }\n",
       "</style>\n",
       "<table border=\"1\" class=\"dataframe\">\n",
       "  <thead>\n",
       "    <tr style=\"text-align: right;\">\n",
       "      <th></th>\n",
       "      <th>preqin</th>\n",
       "      <th>unpri</th>\n",
       "      <th>score</th>\n",
       "    </tr>\n",
       "  </thead>\n",
       "  <tbody>\n",
       "    <tr>\n",
       "      <th>1835032</th>\n",
       "      <td>appian holdings</td>\n",
       "      <td>appian holdings</td>\n",
       "      <td>1.0</td>\n",
       "    </tr>\n",
       "    <tr>\n",
       "      <th>4043750</th>\n",
       "      <td>amundi</td>\n",
       "      <td>amundi</td>\n",
       "      <td>1.0</td>\n",
       "    </tr>\n",
       "    <tr>\n",
       "      <th>3098083</th>\n",
       "      <td>hudson clean energy partners</td>\n",
       "      <td>hudson clean energy partners</td>\n",
       "      <td>1.0</td>\n",
       "    </tr>\n",
       "    <tr>\n",
       "      <th>5392753</th>\n",
       "      <td>adamantem capital</td>\n",
       "      <td>adamantem capital</td>\n",
       "      <td>1.0</td>\n",
       "    </tr>\n",
       "    <tr>\n",
       "      <th>5086431</th>\n",
       "      <td>great lakes advisors</td>\n",
       "      <td>great lakes advisors</td>\n",
       "      <td>1.0</td>\n",
       "    </tr>\n",
       "  </tbody>\n",
       "</table>\n",
       "</div>"
      ],
      "text/plain": [
       "                               preqin                         unpri  score\n",
       "1835032               appian holdings               appian holdings    1.0\n",
       "4043750                        amundi                        amundi    1.0\n",
       "3098083  hudson clean energy partners  hudson clean energy partners    1.0\n",
       "5392753             adamantem capital             adamantem capital    1.0\n",
       "5086431          great lakes advisors          great lakes advisors    1.0"
      ]
     },
     "execution_count": 433,
     "metadata": {},
     "output_type": "execute_result"
    }
   ],
   "source": [
    "new_df = pd.DataFrame(new_list,columns=['preqin','unpri','score'])\n",
    "new_df.sort_values(by=\"score\", ascending=False).head()"
   ]
  },
  {
   "cell_type": "markdown",
   "metadata": {},
   "source": [
    "Need one best score per Preqin entity, rather than all the scores of all Preqin entities, so I group by score and only present max."
   ]
  },
  {
   "cell_type": "code",
   "execution_count": 434,
   "metadata": {},
   "outputs": [],
   "source": [
    "idx = new_df.groupby(['preqin'])['score'].transform(max) == new_df['score']\n",
    "matched_df = new_df[idx]"
   ]
  },
  {
   "cell_type": "code",
   "execution_count": 435,
   "metadata": {},
   "outputs": [
    {
     "data": {
      "text/html": [
       "<div>\n",
       "<style scoped>\n",
       "    .dataframe tbody tr th:only-of-type {\n",
       "        vertical-align: middle;\n",
       "    }\n",
       "\n",
       "    .dataframe tbody tr th {\n",
       "        vertical-align: top;\n",
       "    }\n",
       "\n",
       "    .dataframe thead th {\n",
       "        text-align: right;\n",
       "    }\n",
       "</style>\n",
       "<table border=\"1\" class=\"dataframe\">\n",
       "  <thead>\n",
       "    <tr style=\"text-align: right;\">\n",
       "      <th></th>\n",
       "      <th>preqin</th>\n",
       "      <th>unpri</th>\n",
       "      <th>score</th>\n",
       "    </tr>\n",
       "  </thead>\n",
       "  <tbody>\n",
       "    <tr>\n",
       "      <th>423508</th>\n",
       "      <td>kbc asset management</td>\n",
       "      <td>kbc asset management nv</td>\n",
       "      <td>0.930233</td>\n",
       "    </tr>\n",
       "    <tr>\n",
       "      <th>4992315</th>\n",
       "      <td>delcap asset management</td>\n",
       "      <td>ecp asset management</td>\n",
       "      <td>0.930233</td>\n",
       "    </tr>\n",
       "    <tr>\n",
       "      <th>3644855</th>\n",
       "      <td>causeway capital management</td>\n",
       "      <td>causeway capital management llc</td>\n",
       "      <td>0.931034</td>\n",
       "    </tr>\n",
       "    <tr>\n",
       "      <th>3000248</th>\n",
       "      <td>deerpath capital management</td>\n",
       "      <td>deerpath capital management, lp</td>\n",
       "      <td>0.931034</td>\n",
       "    </tr>\n",
       "    <tr>\n",
       "      <th>3604428</th>\n",
       "      <td>securis investment partners</td>\n",
       "      <td>securis investment partners llp</td>\n",
       "      <td>0.931034</td>\n",
       "    </tr>\n",
       "  </tbody>\n",
       "</table>\n",
       "</div>"
      ],
      "text/plain": [
       "                              preqin                            unpri  \\\n",
       "423508          kbc asset management          kbc asset management nv   \n",
       "4992315      delcap asset management             ecp asset management   \n",
       "3644855  causeway capital management  causeway capital management llc   \n",
       "3000248  deerpath capital management  deerpath capital management, lp   \n",
       "3604428  securis investment partners  securis investment partners llp   \n",
       "\n",
       "            score  \n",
       "423508   0.930233  \n",
       "4992315  0.930233  \n",
       "3644855  0.931034  \n",
       "3000248  0.931034  \n",
       "3604428  0.931034  "
      ]
     },
     "execution_count": 435,
     "metadata": {},
     "output_type": "execute_result"
    }
   ],
   "source": [
    "matched_df.loc[matched_df['score'] > 0.93].sort_values('score',ascending=True).head()"
   ]
  },
  {
   "cell_type": "markdown",
   "metadata": {},
   "source": [
    "A score of 0.93 or better seems to have a decent tradeoff between accuracy and false positives. I could create better matching model with identifying factors but only identifying factors that look interesting for potential overlap in UN PRI are AUM on first page--this is clarified in Phase 2 wish list below."
   ]
  },
  {
   "cell_type": "code",
   "execution_count": 436,
   "metadata": {},
   "outputs": [
    {
     "name": "stderr",
     "output_type": "stream",
     "text": [
      "C:\\Users\\michael.amenta\\AppData\\Local\\Continuum\\anaconda3\\lib\\site-packages\\ipykernel_launcher.py:1: SettingWithCopyWarning: \n",
      "A value is trying to be set on a copy of a slice from a DataFrame.\n",
      "Try using .loc[row_indexer,col_indexer] = value instead\n",
      "\n",
      "See the caveats in the documentation: http://pandas.pydata.org/pandas-docs/stable/indexing.html#indexing-view-versus-copy\n",
      "  \"\"\"Entry point for launching an IPython kernel.\n"
     ]
    },
    {
     "data": {
      "text/html": [
       "<div>\n",
       "<style scoped>\n",
       "    .dataframe tbody tr th:only-of-type {\n",
       "        vertical-align: middle;\n",
       "    }\n",
       "\n",
       "    .dataframe tbody tr th {\n",
       "        vertical-align: top;\n",
       "    }\n",
       "\n",
       "    .dataframe thead th {\n",
       "        text-align: right;\n",
       "    }\n",
       "</style>\n",
       "<table border=\"1\" class=\"dataframe\">\n",
       "  <thead>\n",
       "    <tr style=\"text-align: right;\">\n",
       "      <th></th>\n",
       "      <th>preqin</th>\n",
       "      <th>unpri</th>\n",
       "      <th>score</th>\n",
       "      <th>unpri match</th>\n",
       "    </tr>\n",
       "  </thead>\n",
       "  <tbody>\n",
       "    <tr>\n",
       "      <th>1331</th>\n",
       "      <td>private advisors</td>\n",
       "      <td>private advisors, llc</td>\n",
       "      <td>0.864865</td>\n",
       "      <td>None</td>\n",
       "    </tr>\n",
       "    <tr>\n",
       "      <th>3107</th>\n",
       "      <td>tkp investments</td>\n",
       "      <td>pggm investments</td>\n",
       "      <td>0.838710</td>\n",
       "      <td>None</td>\n",
       "    </tr>\n",
       "    <tr>\n",
       "      <th>3639</th>\n",
       "      <td>access capital partners</td>\n",
       "      <td>access capital partners</td>\n",
       "      <td>1.000000</td>\n",
       "      <td>access capital partners</td>\n",
       "    </tr>\n",
       "    <tr>\n",
       "      <th>5456</th>\n",
       "      <td>adams street partners</td>\n",
       "      <td>adams street partners llc</td>\n",
       "      <td>0.913043</td>\n",
       "      <td>None</td>\n",
       "    </tr>\n",
       "    <tr>\n",
       "      <th>8673</th>\n",
       "      <td>schroder adveq</td>\n",
       "      <td>schroders</td>\n",
       "      <td>0.695652</td>\n",
       "      <td>None</td>\n",
       "    </tr>\n",
       "  </tbody>\n",
       "</table>\n",
       "</div>"
      ],
      "text/plain": [
       "                       preqin                      unpri     score  \\\n",
       "1331         private advisors      private advisors, llc  0.864865   \n",
       "3107          tkp investments           pggm investments  0.838710   \n",
       "3639  access capital partners    access capital partners  1.000000   \n",
       "5456    adams street partners  adams street partners llc  0.913043   \n",
       "8673           schroder adveq                  schroders  0.695652   \n",
       "\n",
       "                  unpri match  \n",
       "1331                     None  \n",
       "3107                     None  \n",
       "3639  access capital partners  \n",
       "5456                     None  \n",
       "8673                     None  "
      ]
     },
     "execution_count": 436,
     "metadata": {},
     "output_type": "execute_result"
    }
   ],
   "source": [
    "matched_df['unpri match'] = np.where(matched_df['score']>=0.93, matched_df['unpri'], None)\n",
    "matched_df.head()"
   ]
  },
  {
   "cell_type": "markdown",
   "metadata": {},
   "source": [
    "Next few lines of code attempt to organize the dataframe to include score, and both clean and original entity names for both UN PRI and Preqin so that we can merge the data sets."
   ]
  },
  {
   "cell_type": "code",
   "execution_count": 437,
   "metadata": {},
   "outputs": [],
   "source": [
    "combined_df = matched_df.drop('unpri',axis=1)"
   ]
  },
  {
   "cell_type": "code",
   "execution_count": 479,
   "metadata": {},
   "outputs": [
    {
     "data": {
      "text/html": [
       "<div>\n",
       "<style scoped>\n",
       "    .dataframe tbody tr th:only-of-type {\n",
       "        vertical-align: middle;\n",
       "    }\n",
       "\n",
       "    .dataframe tbody tr th {\n",
       "        vertical-align: top;\n",
       "    }\n",
       "\n",
       "    .dataframe thead th {\n",
       "        text-align: right;\n",
       "    }\n",
       "</style>\n",
       "<table border=\"1\" class=\"dataframe\">\n",
       "  <thead>\n",
       "    <tr style=\"text-align: right;\">\n",
       "      <th></th>\n",
       "      <th>Firm Name</th>\n",
       "      <th>preqin_clean</th>\n",
       "    </tr>\n",
       "  </thead>\n",
       "  <tbody>\n",
       "    <tr>\n",
       "      <th>0</th>\n",
       "      <td>Private Advisors</td>\n",
       "      <td>private advisors</td>\n",
       "    </tr>\n",
       "    <tr>\n",
       "      <th>2</th>\n",
       "      <td>TKP Investments</td>\n",
       "      <td>tkp investments</td>\n",
       "    </tr>\n",
       "    <tr>\n",
       "      <th>4</th>\n",
       "      <td>Access Capital Partners</td>\n",
       "      <td>access capital partners</td>\n",
       "    </tr>\n",
       "    <tr>\n",
       "      <th>6</th>\n",
       "      <td>Adams Street Partners</td>\n",
       "      <td>adams street partners</td>\n",
       "    </tr>\n",
       "    <tr>\n",
       "      <th>8</th>\n",
       "      <td>Schroder Adveq</td>\n",
       "      <td>schroder adveq</td>\n",
       "    </tr>\n",
       "  </tbody>\n",
       "</table>\n",
       "</div>"
      ],
      "text/plain": [
       "                 Firm Name             preqin_clean\n",
       "0         Private Advisors         private advisors\n",
       "2          TKP Investments          tkp investments\n",
       "4  Access Capital Partners  access capital partners\n",
       "6    Adams Street Partners    adams street partners\n",
       "8           Schroder Adveq           schroder adveq"
      ]
     },
     "execution_count": 479,
     "metadata": {},
     "output_type": "execute_result"
    }
   ],
   "source": [
    "#combine cleaned Preqin name with original Preqin name\n",
    "preqin_matches = pd.DataFrame(preqin_esg['Firm Name'])\n",
    "preqin_matches['preqin_clean'] = preqin_names\n",
    "\n",
    "preqin_matches.head()"
   ]
  },
  {
   "cell_type": "markdown",
   "metadata": {},
   "source": [
    "Merging data is useful for disparate data sets (out of order) but that have a common set of columns--similar to joining in SQL. "
   ]
  },
  {
   "cell_type": "code",
   "execution_count": 439,
   "metadata": {},
   "outputs": [
    {
     "data": {
      "text/html": [
       "<div>\n",
       "<style scoped>\n",
       "    .dataframe tbody tr th:only-of-type {\n",
       "        vertical-align: middle;\n",
       "    }\n",
       "\n",
       "    .dataframe tbody tr th {\n",
       "        vertical-align: top;\n",
       "    }\n",
       "\n",
       "    .dataframe thead th {\n",
       "        text-align: right;\n",
       "    }\n",
       "</style>\n",
       "<table border=\"1\" class=\"dataframe\">\n",
       "  <thead>\n",
       "    <tr style=\"text-align: right;\">\n",
       "      <th></th>\n",
       "      <th>preqin</th>\n",
       "      <th>score</th>\n",
       "      <th>unpri match</th>\n",
       "      <th>Firm Name</th>\n",
       "      <th>preqin_clean</th>\n",
       "    </tr>\n",
       "  </thead>\n",
       "  <tbody>\n",
       "    <tr>\n",
       "      <th>3859</th>\n",
       "      <td>l&amp;r capital</td>\n",
       "      <td>0.818182</td>\n",
       "      <td>None</td>\n",
       "      <td>L&amp;R Capital</td>\n",
       "      <td>l&amp;r capital</td>\n",
       "    </tr>\n",
       "    <tr>\n",
       "      <th>3860</th>\n",
       "      <td>institutional investment partners denmark</td>\n",
       "      <td>0.705882</td>\n",
       "      <td>None</td>\n",
       "      <td>Institutional Investment Partners Denmark</td>\n",
       "      <td>institutional investment partners denmark</td>\n",
       "    </tr>\n",
       "    <tr>\n",
       "      <th>3861</th>\n",
       "      <td>yellowdog</td>\n",
       "      <td>0.413793</td>\n",
       "      <td>None</td>\n",
       "      <td>Yellowdog</td>\n",
       "      <td>yellowdog</td>\n",
       "    </tr>\n",
       "    <tr>\n",
       "      <th>3862</th>\n",
       "      <td>noles properties</td>\n",
       "      <td>0.592593</td>\n",
       "      <td>None</td>\n",
       "      <td>Noles Properties</td>\n",
       "      <td>noles properties</td>\n",
       "    </tr>\n",
       "    <tr>\n",
       "      <th>3863</th>\n",
       "      <td>agbe capital</td>\n",
       "      <td>0.846154</td>\n",
       "      <td>None</td>\n",
       "      <td>AGBE Capital</td>\n",
       "      <td>agbe capital</td>\n",
       "    </tr>\n",
       "  </tbody>\n",
       "</table>\n",
       "</div>"
      ],
      "text/plain": [
       "                                         preqin     score unpri match  \\\n",
       "3859                                l&r capital  0.818182        None   \n",
       "3860  institutional investment partners denmark  0.705882        None   \n",
       "3861                                  yellowdog  0.413793        None   \n",
       "3862                           noles properties  0.592593        None   \n",
       "3863                               agbe capital  0.846154        None   \n",
       "\n",
       "                                      Firm Name  \\\n",
       "3859                                L&R Capital   \n",
       "3860  Institutional Investment Partners Denmark   \n",
       "3861                                  Yellowdog   \n",
       "3862                           Noles Properties   \n",
       "3863                               AGBE Capital   \n",
       "\n",
       "                                   preqin_clean  \n",
       "3859                                l&r capital  \n",
       "3860  institutional investment partners denmark  \n",
       "3861                                  yellowdog  \n",
       "3862                           noles properties  \n",
       "3863                               agbe capital  "
      ]
     },
     "execution_count": 439,
     "metadata": {},
     "output_type": "execute_result"
    }
   ],
   "source": [
    "combined_df = pd.merge(left=combined_df,right=preqin_matches,on=None,left_on='preqin',right_on='preqin_clean')\n",
    "combined_df.tail()"
   ]
  },
  {
   "cell_type": "code",
   "execution_count": 441,
   "metadata": {},
   "outputs": [],
   "source": [
    "combined_df.to_csv(r'C:\\Users\\michael.amenta\\DAT_MA\\datasets\\entity_concord.csv')"
   ]
  }
 ],
 "metadata": {
  "kernelspec": {
   "display_name": "Python 3",
   "language": "python",
   "name": "python3"
  },
  "language_info": {
   "codemirror_mode": {
    "name": "ipython",
    "version": 3
   },
   "file_extension": ".py",
   "mimetype": "text/x-python",
   "name": "python",
   "nbconvert_exporter": "python",
   "pygments_lexer": "ipython3",
   "version": "3.7.3"
  }
 },
 "nbformat": 4,
 "nbformat_minor": 2
}
