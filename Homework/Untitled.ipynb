{
 "cells": [
  {
   "cell_type": "code",
   "execution_count": 5,
   "metadata": {},
   "outputs": [
    {
     "name": "stdout",
     "output_type": "stream",
     "text": [
      "(0, 'a')\n",
      "(1, 'b')\n",
      "(2, 'c')\n"
     ]
    }
   ],
   "source": [
    "b = ['a', 'b', 'c']\n",
    "for i in enumerate(b):\n",
    "    print(i)"
   ]
  },
  {
   "cell_type": "code",
   "execution_count": 8,
   "metadata": {},
   "outputs": [
    {
     "data": {
      "text/plain": [
       "(2, 'c')"
      ]
     },
     "execution_count": 8,
     "metadata": {},
     "output_type": "execute_result"
    }
   ],
   "source": [
    "i"
   ]
  },
  {
   "cell_type": "code",
   "execution_count": 9,
   "metadata": {},
   "outputs": [],
   "source": [
    "data = [['Alison', 3.0, 5.0, 4.0, 3.0, '', '', 5.0, 5.0, ''],\n",
    " ['April', 4.0, 5.0, 5.0, 3.0, '', '', 3.0, '', 5.0],\n",
    " ['Vijay', 3.0, 5.0, 5.0, 5.0, 3.0, 2.0, 1.0, 1.0, 1.0],\n",
    " ['Vanessa', 1.0, 5.0, 5.0, 2.0, '', '', 3.0, 2.0, 3.0],\n",
    " ['Isabel', 1.0, 4.0, 4.0, 2.0, 4.0, '', 4.0, 4.0, ''],\n",
    " ['India', 5.0, 3.0, 3.0, 3.0, 3.0, 1.0, '', '', 3.0],\n",
    " ['Dave H', 4.0, 5.0, '', 5.0, '', '', '', '', ''],\n",
    " ['Deepthi', 3.0, 5.0, '', 2.0, '', '', '', '', 2.0],\n",
    " ['Ramesh', 3.0, 4.0, '', 3.0, '', '', '', '', 4.0],\n",
    " ['Hugh', 1.0, 5.0, 5.0, 4.0, 5.0, 2.0, 5.0, 4.0, 1.0],\n",
    " ['Alex', 4.0, 5.0, '', 3.0, '', '', '', '', ''],\n",
    " ['Ajay Anand', 3.0, 4.0, 4.0, 3.0, 5.0, '', '', '', ''],\n",
    " ['David Feng', 2.0, 3.0, 4.0, 2.0, 2.0, '', 5.0, 4.0, 3.0],\n",
    " ['Zach', 3.0, 4.0, 4.0, 3.0, '', '', '', '', 5.0],\n",
    " ['Matt', 3.0, 5.0, 4.0, 3.0, 2.0, 2.0, 4.0, 3.0, 2.0],\n",
    " ['Markus', 3.0, 5.0, '', 3.0, '', '', 4.0, '', ''],\n",
    " ['Otto', 4.0, 2.0, 2.0, 5.0, '', '', 3.0, 3.0, 3.0],\n",
    " ['Alessandro', 1.0, 5.0, 3.0, 2.0, '', '', 4.0, 3.0, ''],\n",
    " ['Rocky', 3.0, 5.0, 4.0, 3.0, 3.0, 3.0, 4.0, 4.0, 3.0],\n",
    " ['Cheong-tseng', 3.0, 1.0, '', '', '', '', 4.0, '', '']]"
   ]
  },
  {
   "cell_type": "code",
   "execution_count": 23,
   "metadata": {},
   "outputs": [],
   "source": [
    "count_dict = {}\n",
    "for i in range(len(data)):\n",
    "    count = -1\n",
    "    try:\n",
    "        data[i] + 0\n",
    "    except:\n",
    "        count = count +1\n",
    "    count_dict[data[i][0]] = count \n",
    "\n"
   ]
  },
  {
   "cell_type": "code",
   "execution_count": 25,
   "metadata": {},
   "outputs": [
    {
     "name": "stdout",
     "output_type": "stream",
     "text": [
      "range(0, 20)\n",
      "0\n"
     ]
    },
    {
     "data": {
      "text/plain": [
       "{'Alison': 0,\n",
       " 'April': 0,\n",
       " 'Vijay': 0,\n",
       " 'Vanessa': 0,\n",
       " 'Isabel': 0,\n",
       " 'India': 0,\n",
       " 'Dave H': 0,\n",
       " 'Deepthi': 0,\n",
       " 'Ramesh': 0,\n",
       " 'Hugh': 0,\n",
       " 'Alex': 0,\n",
       " 'Ajay Anand': 0,\n",
       " 'David Feng': 0,\n",
       " 'Zach': 0,\n",
       " 'Matt': 0,\n",
       " 'Markus': 0,\n",
       " 'Otto': 0,\n",
       " 'Alessandro': 0,\n",
       " 'Rocky': 0,\n",
       " 'Cheong-tseng': 0}"
      ]
     },
     "execution_count": 25,
     "metadata": {},
     "output_type": "execute_result"
    }
   ],
   "source": [
    "print(range(len(data)))\n",
    "print(count)\n",
    "count_dict"
   ]
  },
  {
   "cell_type": "code",
   "execution_count": null,
   "metadata": {},
   "outputs": [],
   "source": []
  }
 ],
 "metadata": {
  "kernelspec": {
   "display_name": "Python 3",
   "language": "python",
   "name": "python3"
  },
  "language_info": {
   "codemirror_mode": {
    "name": "ipython",
    "version": 3
   },
   "file_extension": ".py",
   "mimetype": "text/x-python",
   "name": "python",
   "nbconvert_exporter": "python",
   "pygments_lexer": "ipython3",
   "version": "3.7.3"
  }
 },
 "nbformat": 4,
 "nbformat_minor": 2
}
