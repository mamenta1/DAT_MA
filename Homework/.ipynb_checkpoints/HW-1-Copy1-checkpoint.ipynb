{
 "cells": [
  {
   "cell_type": "markdown",
   "metadata": {},
   "source": [
    "<img src=\"http://imgur.com/1ZcRyrc.png\" style=\"float: left; margin: 20px; height: 55px\">\n",
    "\n",
    "## Homework 1\n",
    "\n",
    "_Author: Kiefer Katovich and Dave Yerrington (San Francisco)\n",
    "additions by Richie Castellanes (New York)\n",
    "\n",
    "---\n",
    "\n",
    "In this lab, you'll be using the [IMDb](http://www.imdb.com/) `movies` list below as your data set. \n",
    "\n",
    "This lab is designed to help you practice iteration and functions in particular. The normal questions are more gentle, and the challenge questions are suitable for advanced/expert Python students or those with programming experience. \n",
    "\n",
    "All of the questions require writing functions and using iteration to solve. You should print out a test of each function you write.\n",
    "\n",
    "Load the provided list of `movies` dictionaries."
   ]
  },
  {
   "cell_type": "code",
   "execution_count": 31,
   "metadata": {},
   "outputs": [],
   "source": [
    "# List of movies dictionaries:\n",
    "\n",
    "movies = [\n",
    "{\n",
    "\"name\": \"Usual Suspects\", \n",
    "\"imdb\": 7.0,\n",
    "\"category\": \"Thriller\"\n",
    "},\n",
    "{\n",
    "\"name\": \"Hitman\",\n",
    "\"imdb\": 6.3,\n",
    "\"category\": \"Action\"\n",
    "},\n",
    "{\n",
    "\"name\": \"Dark Knight\",\n",
    "\"imdb\": 9.0,\n",
    "\"category\": \"Adventure\"\n",
    "},\n",
    "{\n",
    "\"name\": \"The Help\",\n",
    "\"imdb\": 8.0,\n",
    "\"category\": \"Drama\"\n",
    "},\n",
    "{\n",
    "\"name\": \"The Choice\",\n",
    "\"imdb\": 6.2,\n",
    "\"category\": \"Romance\"\n",
    "},\n",
    "{\n",
    "\"name\": \"Colonia\",\n",
    "\"imdb\": 7.4,\n",
    "\"category\": \"Romance\"\n",
    "},\n",
    "{\n",
    "\"name\": \"Love\",\n",
    "\"imdb\": 6.0,\n",
    "\"category\": \"Romance\"\n",
    "},\n",
    "{\n",
    "\"name\": \"Bride Wars\",\n",
    "\"imdb\": 5.4,\n",
    "\"category\": \"Romance\"\n",
    "},\n",
    "{\n",
    "\"name\": \"AlphaJet\",\n",
    "\"imdb\": 3.2,\n",
    "\"category\": \"War\"\n",
    "},\n",
    "{\n",
    "\"name\": \"Ringing Crime\",\n",
    "\"imdb\": 4.0,\n",
    "\"category\": \"Crime\"\n",
    "},\n",
    "{\n",
    "\"name\": \"Joking muck\",\n",
    "\"imdb\": 7.2,\n",
    "\"category\": \"Comedy\"\n",
    "},\n",
    "{\n",
    "\"name\": \"What is the name\",\n",
    "\"imdb\": 9.2,\n",
    "\"category\": \"Suspense\"\n",
    "},\n",
    "{\n",
    "\"name\": \"Detective\",\n",
    "\"imdb\": 7.0,\n",
    "\"category\": \"Suspense\"\n",
    "},\n",
    "{\n",
    "\"name\": \"Exam\",\n",
    "\"imdb\": 4.2,\n",
    "\"category\": \"Thriller\"\n",
    "},\n",
    "{\n",
    "\"name\": \"We Two\",\n",
    "\"imdb\": 7.2,\n",
    "\"category\": \"Romance\"\n",
    "}\n",
    "]"
   ]
  },
  {
   "cell_type": "markdown",
   "metadata": {},
   "source": [
    "---\n",
    "\n",
    "### 1) Filtering data by IMDb score.\n",
    "\n",
    "#### 1.1)\n",
    "\n",
    "Write a function that:\n",
    "\n",
    "1) Accepts a single movie dictionary from the `movies` list as an argument.\n",
    "2) Returns `True` if the IMDb score is greater than 5.5.\n",
    "\n",
    "#### 1.2 [Challenge])\n",
    "\n",
    "Write a function that:\n",
    "\n",
    "1) Accepts the `movies` list and a specified category.\n",
    "2) Returns `True` if the average score of the category is higher than the average score of all movies."
   ]
  },
  {
   "cell_type": "code",
   "execution_count": 32,
   "metadata": {},
   "outputs": [
    {
     "data": {
      "text/plain": [
       "[{'name': 'Usual Suspects', 'imdb': 7.0, 'category': 'Thriller'}]"
      ]
     },
     "execution_count": 32,
     "metadata": {},
     "output_type": "execute_result"
    }
   ],
   "source": [
    "[i for i in movies if i['name'] == \"Usual Suspects\"]"
   ]
  },
  {
   "cell_type": "code",
   "execution_count": 33,
   "metadata": {},
   "outputs": [
    {
     "data": {
      "text/plain": [
       "False"
      ]
     },
     "execution_count": 33,
     "metadata": {},
     "output_type": "execute_result"
    }
   ],
   "source": [
    "def quality_movie(movie):\n",
    "    for i in movies:\n",
    "        if (i['name'] == movie) & (i['imdb'] > 5.5):\n",
    "            return True\n",
    "        else:\n",
    "            return False\n",
    "    \n",
    "quality_movie('Exam')"
   ]
  },
  {
   "cell_type": "code",
   "execution_count": 34,
   "metadata": {},
   "outputs": [
    {
     "name": "stdout",
     "output_type": "stream",
     "text": [
      "False\n",
      "[9.2, 7.0]\n",
      "[7.0, 6.3, 9.0, 8.0, 6.2, 7.4, 6.0, 5.4, 3.2, 4.0, 7.2, 9.2, 7.0, 4.2, 7.2]\n"
     ]
    }
   ],
   "source": [
    "def cat_average_bool(movies,cat):\n",
    "    scores = []\n",
    "    for i in movies:\n",
    "        if i['category'] == cat:  \n",
    "            scores.append(i['imdb'])\n",
    "    total = 0\n",
    "    for i in range(len(scores)):\n",
    "        total = total + scores[i]\n",
    "    avg_score = total / len(scores)\n",
    "    total2 = 0\n",
    "    movies_scores = [i['imdb'] for i in movies]\n",
    "    for i in range(len(movies_scores)):\n",
    "        total2 = total2 + movies_scores[i]\n",
    "    total_avg = total2 / len(movies_scores)\n",
    "    if avg_score > total_avg:\n",
    "        return True\n",
    "    else:\n",
    "        return False\n",
    "\n",
    "print(cat_average_bool(movies,'Romance'))\n",
    "\n",
    "print([i['imdb'] for i in movies if i['category'] == \"Suspense\"])\n",
    "print([i['imdb'] for i in movies])"
   ]
  },
  {
   "cell_type": "markdown",
   "metadata": {},
   "source": [
    "---\n",
    "\n",
    "### 2) Making Calculations\n",
    "\n",
    "#### 2.1)\n",
    "\n",
    "Write a function that:\n",
    "\n",
    "1) Gets the average IMDB score across all movies.\n",
    "\n",
    "#### 2.2 [Challenge])\n",
    "\n",
    "Write a function that:\n",
    "\n",
    "1) Gets the minimum IMDB score among Romance movies."
   ]
  },
  {
   "cell_type": "code",
   "execution_count": 35,
   "metadata": {},
   "outputs": [
    {
     "data": {
      "text/plain": [
       "6.486666666666667"
      ]
     },
     "execution_count": 35,
     "metadata": {},
     "output_type": "execute_result"
    }
   ],
   "source": [
    "def movie_average(movie_list):\n",
    "    movie_score = [i['imdb'] for i in movie_list]\n",
    "    return sum(movie_score) / len(movie_score)\n",
    "    \n",
    "movie_average(movies)"
   ]
  },
  {
   "cell_type": "code",
   "execution_count": 36,
   "metadata": {},
   "outputs": [
    {
     "data": {
      "text/plain": [
       "5.4"
      ]
     },
     "execution_count": 36,
     "metadata": {},
     "output_type": "execute_result"
    }
   ],
   "source": [
    "#create function with a category input in string\n",
    "    #iterate through list\n",
    "    #read category and search for Romance match\n",
    "    #if there's a match, keep imdb score in a list\n",
    "        #else ignore\n",
    "    #return minimum score in list\n",
    "    \n",
    "def min_category(category_input):\n",
    "    score_list = []\n",
    "    for i in movies:\n",
    "        if i['category'] == category_input:\n",
    "            score_list.append(i['imdb'])\n",
    "    return min(score_list)\n",
    "\n",
    "min_category('Romance')\n",
    "        "
   ]
  },
  {
   "cell_type": "markdown",
   "metadata": {},
   "source": [
    "---\n",
    "\n",
    "### 3) Creating subsets by numeric condition.\n",
    "\n",
    "#### 3.1)\n",
    "\n",
    "Write a function that:\n",
    "\n",
    "1) Accepts the list of movies and a specified IMDb score.\n",
    "2) Returns the sublist of movies that have scores greater than the one specified.\n",
    "\n",
    "#### 3.2 [Expert])\n",
    "\n",
    "Write a function that:\n",
    "\n",
    "1) Accepts the `movies` list as an argument.\n",
    "2) Returns the `movies` list sorted first by category and then by movie according to category average score and individual IMDb score, respectively."
   ]
  },
  {
   "cell_type": "code",
   "execution_count": 37,
   "metadata": {},
   "outputs": [
    {
     "data": {
      "text/plain": [
       "['Dark Knight', 'What is the name']"
      ]
     },
     "execution_count": 37,
     "metadata": {},
     "output_type": "execute_result"
    }
   ],
   "source": [
    "# Your code here.\n",
    "def movie_filter(movies,min_score):\n",
    "    return [i['name'] for i in movies if i['imdb'] > min_score]\n",
    "\n",
    "movie_filter(movies,8)\n",
    "    "
   ]
  },
  {
   "cell_type": "code",
   "execution_count": 38,
   "metadata": {},
   "outputs": [
    {
     "name": "stdout",
     "output_type": "stream",
     "text": [
      "0\n",
      "[]\n",
      "0\n",
      "[1]\n",
      "0\n",
      "[2, 1]\n",
      "1\n",
      "[3, 2, 0]\n",
      "2\n",
      "[4, 3, 0, 1]\n",
      "2\n",
      "[5, 4, 0, 1, 3]\n",
      "4\n",
      "[6, 5, 0, 1, 3, 2]\n",
      "5\n",
      "[7, 6, 0, 1, 3, 2, 4]\n",
      "8\n",
      "[7, 6, 0, 1, 3, 2, 4, 5]\n",
      "8\n",
      "[7, 6, 0, 1, 3, 2, 4, 5, 9]\n",
      "2\n",
      "[8, 7, 0, 1, 4, 3, 5, 6, 10, 9]\n",
      "1\n",
      "[9, 8, 0, 2, 5, 4, 6, 7, 11, 10, 3]\n",
      "2\n",
      "[10, 9, 0, 3, 6, 5, 7, 8, 12, 11, 4, 1]\n",
      "11\n",
      "[10, 9, 0, 3, 6, 5, 7, 8, 13, 12, 4, 1, 2]\n",
      "6\n",
      "[11, 10, 0, 3, 7, 5, 8, 9, 14, 13, 4, 1, 2, 12]\n",
      "[11, 10, 0, 3, 7, 5, 8, 9, 14, 13, 4, 1, 2, 12, 6]\n"
     ]
    },
    {
     "data": {
      "text/plain": [
       "[{'name': 'Dark Knight',\n",
       "  'imdb': 9.0,\n",
       "  'category': 'Adventure',\n",
       "  'cat_average': 9.0},\n",
       " {'name': 'What is the name',\n",
       "  'imdb': 9.2,\n",
       "  'category': 'Suspense',\n",
       "  'cat_average': 8.1},\n",
       " {'name': 'Detective',\n",
       "  'imdb': 7.0,\n",
       "  'category': 'Suspense',\n",
       "  'cat_average': 8.1},\n",
       " {'name': 'The Help', 'imdb': 8.0, 'category': 'Drama', 'cat_average': 8.0},\n",
       " {'name': 'Joking muck',\n",
       "  'imdb': 7.2,\n",
       "  'category': 'Comedy',\n",
       "  'cat_average': 7.2},\n",
       " {'name': 'Colonia', 'imdb': 7.4, 'category': 'Romance', 'cat_average': 6.44},\n",
       " {'name': 'We Two', 'imdb': 7.2, 'category': 'Romance', 'cat_average': 6.44},\n",
       " {'name': 'The Choice',\n",
       "  'imdb': 6.2,\n",
       "  'category': 'Romance',\n",
       "  'cat_average': 6.44},\n",
       " {'name': 'Love', 'imdb': 6.0, 'category': 'Romance', 'cat_average': 6.44},\n",
       " {'name': 'Bride Wars',\n",
       "  'imdb': 5.4,\n",
       "  'category': 'Romance',\n",
       "  'cat_average': 6.44},\n",
       " {'name': 'Hitman', 'imdb': 6.3, 'category': 'Action', 'cat_average': 6.3},\n",
       " {'name': 'Usual Suspects',\n",
       "  'imdb': 7.0,\n",
       "  'category': 'Thriller',\n",
       "  'cat_average': 5.6},\n",
       " {'name': 'Exam', 'imdb': 4.2, 'category': 'Thriller', 'cat_average': 5.6},\n",
       " {'name': 'Ringing Crime',\n",
       "  'imdb': 4.0,\n",
       "  'category': 'Crime',\n",
       "  'cat_average': 4.0},\n",
       " {'name': 'AlphaJet', 'imdb': 3.2, 'category': 'War', 'cat_average': 3.2}]"
      ]
     },
     "execution_count": 38,
     "metadata": {},
     "output_type": "execute_result"
    }
   ],
   "source": [
    "#for a movie, sum all the imdbs of all movies in its category and divide by the count of all movies in its category\n",
    "    #take its score\n",
    "    #take the scores and count of all movies with the same category\n",
    "\n",
    "#add the cat_average list as a key-value entry to movies in movies 2\n",
    "\n",
    "def cat_average(movies,cat):\n",
    "    scores = []\n",
    "    for i in movies:\n",
    "        if i['category'] == cat:  \n",
    "            scores.append(i['imdb'])\n",
    "    total = 0\n",
    "    for i in range(len(scores)):\n",
    "        total = total + scores[i]\n",
    "    avg_score = total / len(scores)\n",
    "    return avg_score\n",
    "\n",
    "def sorter(movies):\n",
    "    rank_list = []\n",
    "    for i in range(len(movies)):\n",
    "        #i becomes 0, 1, 2 (as opposed to 'entry1', 'entry2') which works to pull the category average for every movie\n",
    "        movies[i]['cat_average'] = cat_average(movies,movies[i]['category'])\n",
    "        #make new category average column\n",
    "        rank = 0\n",
    "        for j in range(i):\n",
    "            #comparison of each row individually (j) to the entire range (i) to step up index from its list position with cumulative addition of 1 if category average of individual entry is lower than category average of categories cumulatively\n",
    "            if (movies[j]['cat_average'] < movies[i]['cat_average']):\n",
    "                rank_list[j] = rank_list[j] + 1\n",
    "            #if category j is same as category i, rank within by imdb score by stepping up index for lower imdb movies\n",
    "            elif (movies[j]['imdb'] < movies[i]['imdb']) & (movies[j]['category'] == movies[i]['category']):\n",
    "                rank_list[j] = rank_list[j] + 1\n",
    "            else:\n",
    "            #if neither condition applies because you're at the last entry, append the cumulatively built rank for all entries that don't meet the first two conditions\n",
    "                rank = rank + 1\n",
    "        print(rank)\n",
    "        print(rank_list)\n",
    "        rank_list.append(rank)\n",
    "    print(rank_list)\n",
    "    new_movies_list = []\n",
    "    for k in range(len(movies)):\n",
    "        new_movies_list.append(movies[rank_list.index(k)])\n",
    "        #make rank the index of a new movies list by appending the original list with index of rank_list\n",
    "    return new_movies_list\n",
    "\n",
    "sorter(movies)\n"
   ]
  },
  {
   "cell_type": "markdown",
   "metadata": {},
   "source": [
    "---\n",
    "\n",
    "### 4) Creating subsets by string condition.\n",
    "\n",
    "#### 4.1)\n",
    "\n",
    "Write a function that:\n",
    "\n",
    "1) Accepts the `movies` list and a category name.\n",
    "2) Returns the movie names within that category (case-insensitive!).\n",
    "3) If the category is not in the data, prints a message that says it does not exist and returns `None`.\n",
    "\n",
    "Recall that, to convert a string to lowercase, you can use:\n",
    "\n",
    "```python\n",
    "mystring = 'Dumb and Dumber'\n",
    "lowercase_mystring = mystring.lower()\n",
    "print lowercase_mystring\n",
    "'dumb and dumber'\n",
    "```\n",
    "\n",
    "#### 4.2 [Challenge])\n",
    "\n",
    "Write a function that:\n",
    "\n",
    "1) Accepts the `movies` list and a \"search string.\"\n",
    "2) Returns a dictionary with the keys `'category'` and `'title'` whose values are lists of categories that contain the search string and titles that contain the search string, respectively (case-insensitive!)."
   ]
  },
  {
   "cell_type": "code",
   "execution_count": 39,
   "metadata": {},
   "outputs": [],
   "source": [
    "#define function that takes a movie list and category name to return movies within that category\n",
    "def category_search(movies, search_string):\n",
    "    #change category name input to lower case\n",
    "    #iterate through movie list and see if the category name input matches that of the lower case\n",
    "    movies_list = []\n",
    "    for i in range(len(movies)):\n",
    "        if movies[i]['category'].lower() == search_string.lower():\n",
    "            movies_list.append(movies[i]['name'])\n",
    "    if movies_list == []:\n",
    "        return None\n",
    "    else:\n",
    "        return movies_list\n",
    "        #append it to a list of movies\n",
    "    #if the movie list is empty, return 'None'\n",
    "    #if the movie list is not empty, return the movie list\n"
   ]
  },
  {
   "cell_type": "code",
   "execution_count": 40,
   "metadata": {},
   "outputs": [
    {
     "name": "stdout",
     "output_type": "stream",
     "text": [
      "None\n"
     ]
    }
   ],
   "source": [
    "print(category_search(movies, 'ROMACE'))\n"
   ]
  },
  {
   "cell_type": "code",
   "execution_count": 41,
   "metadata": {},
   "outputs": [],
   "source": [
    "def movies_search(movies, search_string):\n",
    "    search_string = search_string.lower()\n",
    "    movies_list = []\n",
    "    for i in range(len(movies)):\n",
    "        if search_string in movies[i]['category'].lower():\n",
    "            movies_list.append(movies[i]['category'])\n",
    "        if search_string in movies[i]['name'].lower():\n",
    "            movies_list.append(movies[i]['name'])\n",
    "    if movies_list == []:\n",
    "        return None\n",
    "    else:\n",
    "        return movies_list"
   ]
  },
  {
   "cell_type": "code",
   "execution_count": 42,
   "metadata": {},
   "outputs": [
    {
     "data": {
      "text/plain": [
       "['Usual Suspects',\n",
       " 'Action',\n",
       " 'Hitman',\n",
       " 'Adventure',\n",
       " 'Dark Knight',\n",
       " 'Drama',\n",
       " 'Romance',\n",
       " 'Romance',\n",
       " 'Colonia',\n",
       " 'Romance',\n",
       " 'Romance',\n",
       " 'Bride Wars',\n",
       " 'War',\n",
       " 'AlphaJet',\n",
       " 'What is the name',\n",
       " 'Exam',\n",
       " 'Romance']"
      ]
     },
     "execution_count": 42,
     "metadata": {},
     "output_type": "execute_result"
    }
   ],
   "source": [
    "movies_search(movies, 'a')"
   ]
  },
  {
   "cell_type": "markdown",
   "metadata": {},
   "source": [
    "---\n",
    "\n",
    "### 5) Multiple conditions.\n",
    "\n",
    "#### 5.1)\n",
    "\n",
    "Write a function that:\n",
    "\n",
    "1) Accepts the `movies` list and a \"search criteria\" variable.\n",
    "2) If the criteria variable is numeric, return a list of movie titles with a score greater than or equal to the criteria.\n",
    "3) If the criteria variable is a string, return a list of movie titles that match that category (case-insensitive!). If there is no match, return an empty list and print an informative message.\n",
    "\n",
    "#### 5.2 [Expert])\n",
    "\n",
    "Write a function that:\n",
    "\n",
    "1) Accepts the `movies` list and a string search criteria variable.\n",
    "2) The search criteria variable can contain within it:\n",
    "  - Boolean operations: `'AND'`, `'OR'`, and `'NOT'` (can have/be lowercase as well, we just capitalized for clarity).\n",
    "  - Search criteria specified with the syntax `score=...`, `category=...`, and/or `title=...`, where the `...` indicates what to look for.\n",
    "    - If `score` is present, it indicates scores greater than or equal to the value.\n",
    "    - For `category` and `title`, the string indicates that the category or title must _contain_ the search string (case-insensitive).\n",
    "3) Return the matches for the search criteria specified."
   ]
  },
  {
   "cell_type": "code",
   "execution_count": 43,
   "metadata": {},
   "outputs": [],
   "source": [
    "#Define function \n",
    "    #Check that input is a string\n",
    "    \n",
    "def score_search(movies, search_string):\n",
    "    movies_list = []\n",
    "    if (type(search_string) == int) | (type(search_string) == float):\n",
    "        for i in range(len(movies)):\n",
    "            if movies[i]['imdb'] >= search_string:\n",
    "                movies_list.append(movies[i]['name'])\n",
    "    elif type(search_string) == str:\n",
    "        for i in range(len(movies)):\n",
    "            if movies[i]['category'].lower() == search_string.lower():\n",
    "                movies_list.append(movies[i]['name'])\n",
    "    else:\n",
    "        movies_list == []\n",
    "    return movies_list"
   ]
  },
  {
   "cell_type": "code",
   "execution_count": 44,
   "metadata": {},
   "outputs": [
    {
     "data": {
      "text/plain": [
       "['Usual Suspects', 'Exam']"
      ]
     },
     "execution_count": 44,
     "metadata": {},
     "output_type": "execute_result"
    }
   ],
   "source": [
    "score_search(movies,'thriller')"
   ]
  },
  {
   "cell_type": "code",
   "execution_count": 45,
   "metadata": {},
   "outputs": [],
   "source": [
    "def cat_search(movies, search_string):\n",
    "    movies_list = []\n",
    "    if type(search_string) == str:\n",
    "        search_string = search_string.lower()\n",
    "        for i in range(len(movies)):\n",
    "            if search_string in movies[i]['category'].lower():\n",
    "                movies_list.append(movies[i]['name'])\n",
    "    return movies_list"
   ]
  },
  {
   "cell_type": "code",
   "execution_count": 46,
   "metadata": {},
   "outputs": [],
   "source": [
    "def name_search(movies, search_string):\n",
    "    movies_list = []\n",
    "    if type(search_string) == str:\n",
    "        search_string = search_string.lower()\n",
    "        for i in range(len(movies)):\n",
    "            if search_string in movies[i]['name'].lower():\n",
    "                movies_list.append(movies[i]['name'])\n",
    "    return movies_list"
   ]
  },
  {
   "cell_type": "code",
   "execution_count": 47,
   "metadata": {},
   "outputs": [
    {
     "data": {
      "text/plain": [
       "['The Choice', 'Colonia', 'Love', 'Bride Wars', 'We Two']"
      ]
     },
     "execution_count": 47,
     "metadata": {},
     "output_type": "execute_result"
    }
   ],
   "source": [
    "cat_search(movies,'romance')"
   ]
  },
  {
   "cell_type": "code",
   "execution_count": 48,
   "metadata": {},
   "outputs": [
    {
     "data": {
      "text/plain": [
       "'name = we and category = romance not score = 5'"
      ]
     },
     "execution_count": 48,
     "metadata": {},
     "output_type": "execute_result"
    }
   ],
   "source": [
    "'name = we and category = romance not score = 5'"
   ]
  },
  {
   "cell_type": "code",
   "execution_count": 49,
   "metadata": {},
   "outputs": [],
   "source": [
    "#5.2\n",
    "#define PARSER function that reads a long string with category=..., score=...,score=... and returns result\n",
    "#use function that would parse out string\n",
    "#iterate through parsed out string (score, caregory, title) and run function to search the relevant movies to return result \n",
    "\n",
    "def string_manipulator(string_input):\n",
    "    #separate by boolean operation\n",
    "    string_output = \"set(\" + string_input.replace(\" and \", \"))&set(\").replace(\" or \", \"))|set(\").replace(\" not \", \"))-set(\") + \"))\"\n",
    "    #clean spaces\n",
    "    string_output = string_output.replace(\" \", \"\")\n",
    "    #normalize to lower case\n",
    "    sting_output = string_output.lower()\n",
    "    return string_output"
   ]
  },
  {
   "cell_type": "code",
   "execution_count": 50,
   "metadata": {},
   "outputs": [
    {
     "data": {
      "text/plain": [
       "'set(name=\"we\"))&set(category=\"romance\"))-set(score=5))'"
      ]
     },
     "execution_count": 50,
     "metadata": {},
     "output_type": "execute_result"
    }
   ],
   "source": [
    "string_manipulator('name = \"we\" and category = \"romance\" not score = 5')"
   ]
  },
  {
   "cell_type": "code",
   "execution_count": 51,
   "metadata": {},
   "outputs": [],
   "source": [
    "def big_function(movies, search_string):\n",
    "    new_string = string_manipulator(search_string)\n",
    "    new_string = new_string.replace(\"score='\", \"score_search(movies,\")\n",
    "    new_string = new_string.replace(\"category=\", \"cat_search(movies,\")\n",
    "    new_string = new_string.replace(\"name=\", \"name_search(movies,\")\n",
    "    try:\n",
    "        return eval(new_string)\n",
    "    except:\n",
    "        return None"
   ]
  },
  {
   "cell_type": "code",
   "execution_count": 52,
   "metadata": {},
   "outputs": [
    {
     "data": {
      "text/plain": [
       "{'We Two'}"
      ]
     },
     "execution_count": 52,
     "metadata": {},
     "output_type": "execute_result"
    }
   ],
   "source": [
    "big_function(movies,'name = \"we\" and category = \"romance\"')"
   ]
  },
  {
   "cell_type": "code",
   "execution_count": 53,
   "metadata": {},
   "outputs": [
    {
     "data": {
      "text/plain": [
       "['We Two']"
      ]
     },
     "execution_count": 53,
     "metadata": {},
     "output_type": "execute_result"
    }
   ],
   "source": [
    "name_search(movies,\"we\")"
   ]
  },
  {
   "cell_type": "code",
   "execution_count": 54,
   "metadata": {},
   "outputs": [
    {
     "data": {
      "text/plain": [
       "['The Choice', 'Colonia', 'Love', 'Bride Wars', 'We Two']"
      ]
     },
     "execution_count": 54,
     "metadata": {},
     "output_type": "execute_result"
    }
   ],
   "source": [
    "cat_search(movies,\"romance\")"
   ]
  },
  {
   "cell_type": "code",
   "execution_count": 55,
   "metadata": {},
   "outputs": [
    {
     "data": {
      "text/plain": [
       "1"
      ]
     },
     "execution_count": 55,
     "metadata": {},
     "output_type": "execute_result"
    }
   ],
   "source": [
    "eval(\"2-1\")"
   ]
  },
  {
   "cell_type": "code",
   "execution_count": null,
   "metadata": {},
   "outputs": [],
   "source": []
  }
 ],
 "metadata": {
  "kernelspec": {
   "display_name": "Python 3",
   "language": "python",
   "name": "python3"
  },
  "language_info": {
   "codemirror_mode": {
    "name": "ipython",
    "version": 3
   },
   "file_extension": ".py",
   "mimetype": "text/x-python",
   "name": "python",
   "nbconvert_exporter": "python",
   "pygments_lexer": "ipython3",
   "version": "3.7.3"
  }
 },
 "nbformat": 4,
 "nbformat_minor": 1
}
