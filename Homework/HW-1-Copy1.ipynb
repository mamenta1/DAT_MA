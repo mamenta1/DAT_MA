{
 "cells": [
  {
   "cell_type": "markdown",
   "metadata": {},
   "source": [
    "<img src=\"http://imgur.com/1ZcRyrc.png\" style=\"float: left; margin: 20px; height: 55px\">\n",
    "\n",
    "## Homework 1\n",
    "\n",
    "_Author: Kiefer Katovich and Dave Yerrington (San Francisco)\n",
    "additions by Richie Castellanes (New York)\n",
    "\n",
    "---\n",
    "\n",
    "In this lab, you'll be using the [IMDb](http://www.imdb.com/) `movies` list below as your data set. \n",
    "\n",
    "This lab is designed to help you practice iteration and functions in particular. The normal questions are more gentle, and the challenge questions are suitable for advanced/expert Python students or those with programming experience. \n",
    "\n",
    "All of the questions require writing functions and using iteration to solve. You should print out a test of each function you write.\n",
    "\n",
    "Load the provided list of `movies` dictionaries."
   ]
  },
  {
   "cell_type": "code",
   "execution_count": 3,
   "metadata": {},
   "outputs": [],
   "source": [
    "# List of movies dictionaries:\n",
    "\n",
    "movies = [\n",
    "{\n",
    "\"name\": \"Usual Suspects\", \n",
    "\"imdb\": 7.0,\n",
    "\"category\": \"Thriller\"\n",
    "},\n",
    "{\n",
    "\"name\": \"Hitman\",\n",
    "\"imdb\": 6.3,\n",
    "\"category\": \"Action\"\n",
    "},\n",
    "{\n",
    "\"name\": \"Dark Knight\",\n",
    "\"imdb\": 9.0,\n",
    "\"category\": \"Adventure\"\n",
    "},\n",
    "{\n",
    "\"name\": \"The Help\",\n",
    "\"imdb\": 8.0,\n",
    "\"category\": \"Drama\"\n",
    "},\n",
    "{\n",
    "\"name\": \"The Choice\",\n",
    "\"imdb\": 6.2,\n",
    "\"category\": \"Romance\"\n",
    "},\n",
    "{\n",
    "\"name\": \"Colonia\",\n",
    "\"imdb\": 7.4,\n",
    "\"category\": \"Romance\"\n",
    "},\n",
    "{\n",
    "\"name\": \"Love\",\n",
    "\"imdb\": 6.0,\n",
    "\"category\": \"Romance\"\n",
    "},\n",
    "{\n",
    "\"name\": \"Bride Wars\",\n",
    "\"imdb\": 5.4,\n",
    "\"category\": \"Romance\"\n",
    "},\n",
    "{\n",
    "\"name\": \"AlphaJet\",\n",
    "\"imdb\": 3.2,\n",
    "\"category\": \"War\"\n",
    "},\n",
    "{\n",
    "\"name\": \"Ringing Crime\",\n",
    "\"imdb\": 4.0,\n",
    "\"category\": \"Crime\"\n",
    "},\n",
    "{\n",
    "\"name\": \"Joking muck\",\n",
    "\"imdb\": 7.2,\n",
    "\"category\": \"Comedy\"\n",
    "},\n",
    "{\n",
    "\"name\": \"What is the name\",\n",
    "\"imdb\": 9.2,\n",
    "\"category\": \"Suspense\"\n",
    "},\n",
    "{\n",
    "\"name\": \"Detective\",\n",
    "\"imdb\": 7.0,\n",
    "\"category\": \"Suspense\"\n",
    "},\n",
    "{\n",
    "\"name\": \"Exam\",\n",
    "\"imdb\": 4.2,\n",
    "\"category\": \"Thriller\"\n",
    "},\n",
    "{\n",
    "\"name\": \"We Two\",\n",
    "\"imdb\": 7.2,\n",
    "\"category\": \"Romance\"\n",
    "}\n",
    "]"
   ]
  },
  {
   "cell_type": "markdown",
   "metadata": {},
   "source": [
    "---\n",
    "\n",
    "### 1) Filtering data by IMDb score.\n",
    "\n",
    "#### 1.1)\n",
    "\n",
    "Write a function that:\n",
    "\n",
    "1) Accepts a single movie dictionary from the `movies` list as an argument.\n",
    "2) Returns `True` if the IMDb score is greater than 5.5.\n",
    "\n",
    "#### 1.2 [Challenge])\n",
    "\n",
    "Write a function that:\n",
    "\n",
    "1) Accepts the `movies` list and a specified category.\n",
    "2) Returns `True` if the average score of the category is higher than the average score of all movies."
   ]
  },
  {
   "cell_type": "code",
   "execution_count": 18,
   "metadata": {},
   "outputs": [],
   "source": [
    "def quality_movie(movie):\n",
    "    for i in movies:\n",
    "        if(movie == movies[i]['name']):\n",
    "            if(movies[i]['imdb'] > 5.5):\n",
    "                return True"
   ]
  },
  {
   "cell_type": "markdown",
   "metadata": {},
   "source": [
    "---\n",
    "\n",
    "### 2) Making Calculations\n",
    "\n",
    "#### 2.1)\n",
    "\n",
    "Write a function that:\n",
    "\n",
    "1) Gets the average IMDB score across all movies.\n",
    "\n",
    "#### 2.2 [Challenge])\n",
    "\n",
    "Write a function that:\n",
    "\n",
    "1) Gets the minimum IMDB score among Romance movies."
   ]
  },
  {
   "cell_type": "code",
   "execution_count": 64,
   "metadata": {},
   "outputs": [
    {
     "data": {
      "text/plain": [
       "6.486666666666667"
      ]
     },
     "execution_count": 64,
     "metadata": {},
     "output_type": "execute_result"
    }
   ],
   "source": [
    "def movie_average(movie_list):\n",
    "    movie_score = [i['imdb'] for i in movie_list]\n",
    "    return sum(movie_score) / len(movie_score)\n",
    "    \n",
    "movie_average(movies)"
   ]
  },
  {
   "cell_type": "code",
   "execution_count": 65,
   "metadata": {},
   "outputs": [
    {
     "data": {
      "text/plain": [
       "5.4"
      ]
     },
     "execution_count": 65,
     "metadata": {},
     "output_type": "execute_result"
    }
   ],
   "source": [
    "#create function with a category input in string\n",
    "    #iterate through list\n",
    "    #read category and search for Romance match\n",
    "    #if there's a match, keep imdb score in a list\n",
    "        #else ignore\n",
    "    #return minimum score in list\n",
    "    \n",
    "def min_category(category_input):\n",
    "    score_list = []\n",
    "    for i in movies:\n",
    "        if i['category'] == category_input:\n",
    "            score_list.append(i['imdb'])\n",
    "    return min(score_list)\n",
    "\n",
    "min_category('Romance')\n",
    "        "
   ]
  },
  {
   "cell_type": "markdown",
   "metadata": {},
   "source": [
    "---\n",
    "\n",
    "### 3) Creating subsets by numeric condition.\n",
    "\n",
    "#### 3.1)\n",
    "\n",
    "Write a function that:\n",
    "\n",
    "1) Accepts the list of movies and a specified IMDb score.\n",
    "2) Returns the sublist of movies that have scores greater than the one specified.\n",
    "\n",
    "#### 3.2 [Expert])\n",
    "\n",
    "Write a function that:\n",
    "\n",
    "1) Accepts the `movies` list as an argument.\n",
    "2) Returns the `movies` list sorted first by category and then by movie according to category average score and individual IMDb score, respectively."
   ]
  },
  {
   "cell_type": "code",
   "execution_count": 6,
   "metadata": {},
   "outputs": [],
   "source": [
    "# Your code here.\n",
    "def movie_filter(movie_list,min_score):\n",
    "    "
   ]
  },
  {
   "cell_type": "code",
   "execution_count": 41,
   "metadata": {},
   "outputs": [
    {
     "data": {
      "text/plain": [
       "['W', 'e', ' ', 'T', 'w', 'o']"
      ]
     },
     "execution_count": 41,
     "metadata": {},
     "output_type": "execute_result"
    }
   ],
   "source": [
    "for i in movies:\n",
    "    movies_output = []\n",
    "    if(i['imdb'] > 7.1):\n",
    "        movies_output += i['name']\n",
    "\n",
    "movies_output"
   ]
  },
  {
   "cell_type": "markdown",
   "metadata": {},
   "source": [
    "---\n",
    "\n",
    "### 4) Creating subsets by string condition.\n",
    "\n",
    "#### 4.1)\n",
    "\n",
    "Write a function that:\n",
    "\n",
    "1) Accepts the `movies` list and a category name.\n",
    "2) Returns the movie names within that category (case-insensitive!).\n",
    "3) If the category is not in the data, prints a message that says it does not exist and returns `None`.\n",
    "\n",
    "Recall that, to convert a string to lowercase, you can use:\n",
    "\n",
    "```python\n",
    "mystring = 'Dumb and Dumber'\n",
    "lowercase_mystring = mystring.lower()\n",
    "print lowercase_mystring\n",
    "'dumb and dumber'\n",
    "```\n",
    "\n",
    "#### 4.2 [Challenge])\n",
    "\n",
    "Write a function that:\n",
    "\n",
    "1) Accepts the `movies` list and a \"search string.\"\n",
    "2) Returns a dictionary with the keys `'category'` and `'title'` whose values are lists of categories that contain the search string and titles that contain the search string, respectively (case-insensitive!)."
   ]
  },
  {
   "cell_type": "code",
   "execution_count": 88,
   "metadata": {},
   "outputs": [],
   "source": [
    "#define function that takes a movie list and category name to return movies within that category\n",
    "def category_search(movies, search_string):\n",
    "    #change category name input to lower case\n",
    "    #iterate through movie list and see if the category name input matches that of the lower case\n",
    "    movies_list = []\n",
    "    for i in range(len(movies)):\n",
    "        if movies[i]['category'].lower() == search_string.lower():\n",
    "            movies_list.append(movies[i]['name'])\n",
    "    if movies_list == []:\n",
    "        return None\n",
    "    else:\n",
    "        return movies_list\n",
    "        #append it to a list of movies\n",
    "    #if the movie list is empty, return 'None'\n",
    "    #if the movie list is not empty, return the movie list\n"
   ]
  },
  {
   "cell_type": "code",
   "execution_count": 89,
   "metadata": {},
   "outputs": [
    {
     "name": "stdout",
     "output_type": "stream",
     "text": [
      "['The Choice', 'Colonia', 'Love', 'Bride Wars', 'We Two']\n"
     ]
    }
   ],
   "source": [
    "print(category_search(movies, 'ROMANCE'))\n"
   ]
  },
  {
   "cell_type": "code",
   "execution_count": 99,
   "metadata": {},
   "outputs": [],
   "source": [
    "def movies_search(movies, search_string):\n",
    "    search_string = search_string.lower()\n",
    "    movies_list = []\n",
    "    for i in range(len(movies)):\n",
    "        if search_string in movies[i]['category'].lower():\n",
    "            movies_list.append(movies[i]['category'])\n",
    "        if search_string in movies[i]['name'].lower():\n",
    "            movies_list.append(movies[i]['name'])\n",
    "    if movies_list == []:\n",
    "        return None\n",
    "    else:\n",
    "        return movies_list"
   ]
  },
  {
   "cell_type": "code",
   "execution_count": 100,
   "metadata": {},
   "outputs": [
    {
     "data": {
      "text/plain": [
       "['Usual Suspects',\n",
       " 'Action',\n",
       " 'Hitman',\n",
       " 'Adventure',\n",
       " 'Dark Knight',\n",
       " 'Drama',\n",
       " 'Romance',\n",
       " 'Romance',\n",
       " 'Colonia',\n",
       " 'Romance',\n",
       " 'Romance',\n",
       " 'Bride Wars',\n",
       " 'War',\n",
       " 'AlphaJet',\n",
       " 'What is the name',\n",
       " 'Exam',\n",
       " 'Romance']"
      ]
     },
     "execution_count": 100,
     "metadata": {},
     "output_type": "execute_result"
    }
   ],
   "source": [
    "movies_search(movies, 'a')"
   ]
  },
  {
   "cell_type": "markdown",
   "metadata": {},
   "source": [
    "---\n",
    "\n",
    "### 5) Multiple conditions.\n",
    "\n",
    "#### 5.1)\n",
    "\n",
    "Write a function that:\n",
    "\n",
    "1) Accepts the `movies` list and a \"search criteria\" variable.\n",
    "2) If the criteria variable is numeric, return a list of movie titles with a score greater than or equal to the criteria.\n",
    "3) If the criteria variable is a string, return a list of movie titles that match that category (case-insensitive!). If there is no match, return an empty list and print an informative message.\n",
    "\n",
    "#### 5.2 [Expert])\n",
    "\n",
    "Write a function that:\n",
    "\n",
    "1) Accepts the `movies` list and a string search criteria variable.\n",
    "2) The search criteria variable can contain within it:\n",
    "  - Boolean operations: `'AND'`, `'OR'`, and `'NOT'` (can have/be lowercase as well, we just capitalized for clarity).\n",
    "  - Search criteria specified with the syntax `score=...`, `category=...`, and/or `title=...`, where the `...` indicates what to look for.\n",
    "    - If `score` is present, it indicates scores greater than or equal to the value.\n",
    "    - For `category` and `title`, the string indicates that the category or title must _contain_ the search string (case-insensitive).\n",
    "3) Return the matches for the search criteria specified."
   ]
  },
  {
   "cell_type": "code",
   "execution_count": 15,
   "metadata": {},
   "outputs": [],
   "source": [
    "#Define function \n",
    "    #Check that input is a string\n",
    "    \n",
    "def score_search(movies, search_string):\n",
    "    movies_list = []\n",
    "    if (type(search_string) == int) | (type(search_string) == float):\n",
    "        for i in range(len(movies)):\n",
    "            if movies[i]['imdb'] >= search_string:\n",
    "                movies_list.append(movies[i]['name'])\n",
    "    if movies_list == []:\n",
    "        return None\n",
    "    else: \n",
    "        return movies_list"
   ]
  },
  {
   "cell_type": "code",
   "execution_count": null,
   "metadata": {},
   "outputs": [],
   "source": [
    "def cat_search(movies, search_string):\n",
    "    if type(search_string) == str:\n",
    "        search_string = search_string.lower()\n",
    "        for i in range(len(movies)):\n",
    "            if search_string in movies[i]['category'].lower():\n",
    "                movies_list.append(movies[i]['category'])\n",
    "        if movies_list == []:\n",
    "            return None\n",
    "        else:\n",
    "            return movies_list"
   ]
  },
  {
   "cell_type": "code",
   "execution_count": null,
   "metadata": {},
   "outputs": [],
   "source": [
    "def name_search(movies, search_string):\n",
    "    movies_list = []\n",
    "    if type(search_string) == str:\n",
    "        search_string = search_string.lower()\n",
    "        for i in range(len(movies)):\n",
    "            if search_string in movies[i]['name'].lower():\n",
    "                movies_list.append(movies[i]['name'])\n",
    "        if movies_list == []:\n",
    "            return None\n",
    "        else:\n",
    "            return movies_list"
   ]
  },
  {
   "cell_type": "code",
   "execution_count": null,
   "metadata": {},
   "outputs": [],
   "source": [
    "movie_search(movies, 'ua')"
   ]
  },
  {
   "cell_type": "code",
   "execution_count": null,
   "metadata": {},
   "outputs": [],
   "source": [
    "'name = we and category = romance not score = 5'"
   ]
  },
  {
   "cell_type": "code",
   "execution_count": 83,
   "metadata": {},
   "outputs": [],
   "source": [
    "#5.2\n",
    "#define PARSER function that reads a long string with category=..., score=...,score=... and returns result\n",
    "#use function that would parse out string\n",
    "#iterate through parsed out string (score, caregory, title) and run function to search the relevant movies to return result \n",
    "\n",
    "def string_manipulator(string_input):\n",
    "    #separate by boolean operation\n",
    "    string_output = \"set(\" + string_input.replace(\" and \", \"')&set(\").replace(\" or \", \"'))|set(\").replace(\" not \", \"'))-set(\")+ \")\"\n",
    "    #clean spaces\n",
    "    string_output = string_output.replace(\" \", \"\")\n",
    "    string_output = string_output.replace(\"=\", \"=''\")\n",
    "    #normalize to lower case\n",
    "    sting_output = string_output.lower()\n",
    "    return string_output"
   ]
  },
  {
   "cell_type": "code",
   "execution_count": 84,
   "metadata": {},
   "outputs": [
    {
     "data": {
      "text/plain": [
       "\"set(name=''we')&set(category=''romance'))-set(score=''5)\""
      ]
     },
     "execution_count": 84,
     "metadata": {},
     "output_type": "execute_result"
    }
   ],
   "source": [
    "string_manipulator('name = we and category = romance not score = 5')"
   ]
  },
  {
   "cell_type": "code",
   "execution_count": 85,
   "metadata": {},
   "outputs": [],
   "source": [
    "def big_function(movies, search_string):\n",
    "    new_string = string_manipulator(search_string)\n",
    "    new_string = new_string.replace(\"score=\", \"score_search(movies,\")\n",
    "    new_string = new_string.replace(\"category=\", \"cat_search(movies,\")\n",
    "    new_string = new_string.replace(\"name=\", \"name_search(movies,\")\n",
    "    try:\n",
    "        return(eval(new_string))\n",
    "    except:\n",
    "        return None"
   ]
  },
  {
   "cell_type": "code",
   "execution_count": 87,
   "metadata": {},
   "outputs": [
    {
     "data": {
      "text/plain": [
       "\"set(name_search(''we')&set(cat_search(''romance'))-set(score_search(''5)\""
      ]
     },
     "execution_count": 87,
     "metadata": {},
     "output_type": "execute_result"
    }
   ],
   "source": [
    "print(big_function(movies,'name = we and category = romance not score = 5'))"
   ]
  },
  {
   "cell_type": "code",
   "execution_count": null,
   "metadata": {},
   "outputs": [],
   "source": []
  }
 ],
 "metadata": {
  "kernelspec": {
   "display_name": "Python 3",
   "language": "python",
   "name": "python3"
  },
  "language_info": {
   "codemirror_mode": {
    "name": "ipython",
    "version": 3
   },
   "file_extension": ".py",
   "mimetype": "text/x-python",
   "name": "python",
   "nbconvert_exporter": "python",
   "pygments_lexer": "ipython3",
   "version": "3.7.3"
  }
 },
 "nbformat": 4,
 "nbformat_minor": 1
}
