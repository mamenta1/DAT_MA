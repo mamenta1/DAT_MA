{
 "cells": [
  {
   "cell_type": "markdown",
   "metadata": {},
   "source": [
    "<img src=\"http://imgur.com/1ZcRyrc.png\" style=\"float: left; margin: 20px; height: 55px\">\n",
    "\n",
    "# Project 1: Python Coding Exercises\n",
    "\n",
    "_Authors: Joseph Nelson (DC) Revised: Richie Castellanes(NY)_\n",
    "\n",
    "---"
   ]
  },
  {
   "cell_type": "markdown",
   "metadata": {},
   "source": [
    "The following code challenges are drawn from common exercises used in technical interviews.\n",
    "\n",
    "Please note that there may be several ways to approach each challenge. If you get stuck, try mapping out your approach in pseudocode first. Finally, while solutions to problems like these may be found online, remember that if you copy/paste code that you can't explain, you'll be missing out on the point of the project. The only way to truly learn a new skill is through practice, trial, and error - we can only help you improve by understanding where you are having trouble."
   ]
  },
  {
   "cell_type": "markdown",
   "metadata": {},
   "source": [
    "### Challenge 1: Largest Palindrome\n",
    "A palindromic number reads the same both ways. For example, 1234321 is a palindrome. The largest palindrome made from the product of two two-digit numbers is 9009 = 91 × 99. Find the largest palindrome made from the product of two three-digit numbers. Afterward, write a brief explanation walking through your code's logic in markdown."
   ]
  },
  {
   "cell_type": "code",
   "execution_count": 321,
   "metadata": {},
   "outputs": [
    {
     "name": "stdout",
     "output_type": "stream",
     "text": [
      "True\n",
      "None\n"
     ]
    }
   ],
   "source": [
    "#find largest number that is the product of two 3-digit numbers that is also a palindrome\n",
    "    #palindrome code\n",
    "n = 90000\n",
    "\n",
    "def palin(number):\n",
    "    nl = [x for x in str(number)]\n",
    "    if (nl[0] == nl[-1]) and (nl[1] == nl[-2]) and (nl[2] == nl[-3]):\n",
    "        return True\n",
    "\n",
    "    #number that is the product of two 3-digit numbers code\n",
    "\n",
    "def three_num_product(number):\n",
    "    for i in range(999,99,-1):\n",
    "        if (number % i == 0) and (len(str(number / i)) == 5):\n",
    "            return True\n",
    "\n",
    "def three_num_multiplier(number):\n",
    "    for i in range(999,99,-1):\n",
    "        if (number % i == 0) and (len(str(number / i)) == 5):\n",
    "            return number / i\n",
    "        \n",
    "print(palin(100001))\n",
    "print(three_num_product(10202))"
   ]
  },
  {
   "cell_type": "code",
   "execution_count": 282,
   "metadata": {},
   "outputs": [
    {
     "data": {
      "text/plain": [
       "998001"
      ]
     },
     "execution_count": 282,
     "metadata": {},
     "output_type": "execute_result"
    }
   ],
   "source": [
    "999 * 999"
   ]
  },
  {
   "cell_type": "code",
   "execution_count": 289,
   "metadata": {},
   "outputs": [
    {
     "data": {
      "text/plain": [
       "10000"
      ]
     },
     "execution_count": 289,
     "metadata": {},
     "output_type": "execute_result"
    }
   ],
   "source": [
    "100 * 100"
   ]
  },
  {
   "cell_type": "code",
   "execution_count": 322,
   "metadata": {},
   "outputs": [
    {
     "name": "stdout",
     "output_type": "stream",
     "text": [
      "906609\n"
     ]
    },
    {
     "data": {
      "text/plain": [
       "913.0"
      ]
     },
     "execution_count": 322,
     "metadata": {},
     "output_type": "execute_result"
    }
   ],
   "source": [
    "answer = []\n",
    "for i in range(9998001,10000,-1):\n",
    "    if (palin(i) == True) and (three_num_product(i) == True):\n",
    "        break\n",
    "    answer.append(i)\n",
    "\n",
    "print(answer[-1] - 1)\n",
    "three_num_multiplier(answer[-1] - 1)"
   ]
  },
  {
   "cell_type": "markdown",
   "metadata": {},
   "source": [
    "\n",
    "### Challenge 2: Summation of Primes\n",
    "The sum of the primes below 10 is 2 + 3 + 5 + 7 = 17. Find the sum of all the primes below 2,000. Afterward, write a brief explanation walking through your code's logic in markdown."
   ]
  },
  {
   "cell_type": "code",
   "execution_count": 119,
   "metadata": {},
   "outputs": [
    {
     "name": "stdout",
     "output_type": "stream",
     "text": [
      "277050\n"
     ]
    }
   ],
   "source": [
    "n = 2000\n",
    "\n",
    "def prime_finder(n):\n",
    "    list1 = [(i + 1) for i in range(n)]\n",
    "    max1 = [max(list1) for i in range(n)]\n",
    "    primes = [x % y for x, y in zip(max1, list1)]\n",
    "    if primes.count(0) == 2:\n",
    "        return n\n",
    "    else: return 0\n",
    "        \n",
    "prime_list = []\n",
    "for i in range(1,n):\n",
    "    prime_list.append(prime_finder(i))\n",
    "\n",
    "print(sum(prime_list))"
   ]
  },
  {
   "cell_type": "code",
   "execution_count": 83,
   "metadata": {},
   "outputs": [],
   "source": [
    "#return sum of all prime numbers from 0 to 1000\n",
    "\n",
    "#prime is an integer that is only divisible by two numbers in a range of numbers from 1 - n\n",
    "#create function that takes a list of numbers and returns list of primes from the original list\n",
    "#sum that list"
   ]
  },
  {
   "cell_type": "markdown",
   "metadata": {},
   "source": [
    "### Challenge 3: Multiples of 3 and 5\n",
    "If we list all of the natural numbers below 10 that are multiples of 3 or 5, we get 3, 5, 6, and 9. The sum of these multiples is 23. Find the sum of all the multiples of 3 and 5 below 1,000. Afterward, write a brief explanation walking through your code's logic in markdown."
   ]
  },
  {
   "cell_type": "code",
   "execution_count": 19,
   "metadata": {},
   "outputs": [
    {
     "data": {
      "text/plain": [
       "233168"
      ]
     },
     "execution_count": 19,
     "metadata": {},
     "output_type": "execute_result"
    }
   ],
   "source": [
    "results = []\n",
    "for i in range(1000):\n",
    "    if (i % 3 == 0) | (i % 5 == 0):\n",
    "        results.append(i)\n",
    "\n",
    "sum(results)       \n"
   ]
  },
  {
   "cell_type": "markdown",
   "metadata": {},
   "source": [
    "### Challenge 4: String Compressor\n",
    "Implement a method to perform basic string compression using the counts of repeated characters. (This is called run-length encoding.) For example, the string \"aabcccccaaa\" would become a2b1c5a3. If the “compressed” string would not become smaller than the original string, your method should return the original string. You can assume the string has only uppercase and lowercase letters (a–z). Specify whether your solution is case sensitive or case insensitive and what you would need to change to make it the other. Afterward, write a brief explanation walking through your code's logic in markdown."
   ]
  },
  {
   "cell_type": "code",
   "execution_count": null,
   "metadata": {},
   "outputs": [],
   "source": [
    "#if letter repeats, count number of repeats; if not, print letter + 1\n",
    "#if count of characters in function > count of characters in input, then input; else function result "
   ]
  },
  {
   "cell_type": "code",
   "execution_count": 2,
   "metadata": {},
   "outputs": [
    {
     "name": "stdout",
     "output_type": "stream",
     "text": [
      "r\n",
      "j\n"
     ]
    }
   ],
   "source": [
    "word = 'jjjjrklll'\n",
    "print(word[4])\n",
    "print(word[3])"
   ]
  },
  {
   "cell_type": "code",
   "execution_count": 7,
   "metadata": {},
   "outputs": [
    {
     "name": "stdout",
     "output_type": "stream",
     "text": [
      "j4r1k1l\n",
      "\n",
      "\n"
     ]
    }
   ],
   "source": [
    "word = 'jjjjrklll'\n",
    "\n",
    "originalword = [x for x in word]\n",
    "wordlist2 = originalword[1:]\n",
    "wordlist1 = originalword[:-1]\n",
    "\n",
    "new_list = []\n",
    "\n",
    "# go through each letter in the word\n",
    "# for i in range(len(word)-1):\n",
    "new_string = \"\"\n",
    "for i in range(len(word)):    \n",
    "#     if wordlist2[i] == wordlist1[i]:\n",
    "#         count = 1\n",
    "#         while wordlist2[i] == wordlist1[i]:\n",
    "#             count = count + 1\n",
    "#             break\n",
    "#         new_list.append(originalword[i] + str(count))\n",
    "    if (i == 0):\n",
    "        new_string = new_string+word[i]\n",
    "        counter = 1\n",
    "    elif (word[i] != word [i-1]):\n",
    "        new_string = new_string+str(counter)+word[i]\n",
    "        counter = 1\n",
    "    else:\n",
    "        counter = counter +1\n",
    "\n",
    "print(new_string)\n",
    "        \n",
    "output = ''\n",
    "for i in new_list:\n",
    "    output += i\n",
    "\n",
    "print(output)\n",
    "    \n",
    "if len(output) > len(word):\n",
    "    print(word)\n",
    "else:\n",
    "    print(output)"
   ]
  },
  {
   "cell_type": "markdown",
   "metadata": {},
   "source": [
    "### *BONUS* Challenge: Ranking Coffee by Median (2 points)\n",
    "I'd like to revisit the coffee_reviews file. I've included the lists below.\n",
    "\n",
    "Please order the coffee by median AND then by number of reviews.\n",
    "\n",
    "Hint: You will need to use the statistics.median function."
   ]
  },
  {
   "cell_type": "code",
   "execution_count": 1,
   "metadata": {},
   "outputs": [],
   "source": [
    "header = ['Name',\n",
    " 'Starbucks',\n",
    " 'PhilzCoffee',\n",
    " 'BlueBottleCoffee',\n",
    " 'PeetsTea',\n",
    " 'CaffeTrieste',\n",
    " 'GrandCoffee',\n",
    " 'RitualCoffee',\n",
    " 'FourBarrel',\n",
    " 'WorkshopCafe']"
   ]
  },
  {
   "cell_type": "code",
   "execution_count": 2,
   "metadata": {},
   "outputs": [],
   "source": [
    "data = [['Alison', 3.0, 5.0, 4.0, 3.0, '', '', 5.0, 5.0, ''],\n",
    " ['April', 4.0, 5.0, 5.0, 3.0, '', '', 3.0, '', 5.0],\n",
    " ['Vijay', 3.0, 5.0, 5.0, 5.0, 3.0, 2.0, 1.0, 1.0, 1.0],\n",
    " ['Vanessa', 1.0, 5.0, 5.0, 2.0, '', '', 3.0, 2.0, 3.0],\n",
    " ['Isabel', 1.0, 4.0, 4.0, 2.0, 4.0, '', 4.0, 4.0, ''],\n",
    " ['India', 5.0, 3.0, 3.0, 3.0, 3.0, 1.0, '', '', 3.0],\n",
    " ['Dave H', 4.0, 5.0, '', 5.0, '', '', '', '', ''],\n",
    " ['Deepthi', 3.0, 5.0, '', 2.0, '', '', '', '', 2.0],\n",
    " ['Ramesh', 3.0, 4.0, '', 3.0, '', '', '', '', 4.0],\n",
    " ['Hugh', 1.0, 5.0, 5.0, 4.0, 5.0, 2.0, 5.0, 4.0, 1.0],\n",
    " ['Alex', 4.0, 5.0, '', 3.0, '', '', '', '', ''],\n",
    " ['Ajay Anand', 3.0, 4.0, 4.0, 3.0, 5.0, '', '', '', ''],\n",
    " ['David Feng', 2.0, 3.0, 4.0, 2.0, 2.0, '', 5.0, 4.0, 3.0],\n",
    " ['Zach', 3.0, 4.0, 4.0, 3.0, '', '', '', '', 5.0],\n",
    " ['Matt', 3.0, 5.0, 4.0, 3.0, 2.0, 2.0, 4.0, 3.0, 2.0],\n",
    " ['Markus', 3.0, 5.0, '', 3.0, '', '', 4.0, '', ''],\n",
    " ['Otto', 4.0, 2.0, 2.0, 5.0, '', '', 3.0, 3.0, 3.0],\n",
    " ['Alessandro', 1.0, 5.0, 3.0, 2.0, '', '', 4.0, 3.0, ''],\n",
    " ['Rocky', 3.0, 5.0, 4.0, 3.0, 3.0, 3.0, 4.0, 4.0, 3.0],\n",
    " ['Cheong-tseng', 3.0, 1.0, '', '', '', '', 4.0, '', '']]"
   ]
  },
  {
   "cell_type": "code",
   "execution_count": 3,
   "metadata": {},
   "outputs": [
    {
     "data": {
      "text/plain": [
       "{'Name': 'Steve'}"
      ]
     },
     "execution_count": 3,
     "metadata": {},
     "output_type": "execute_result"
    }
   ],
   "source": [
    "new_dictionary = {}\n",
    "new_dictionary['Name'] = 'Steve'\n",
    "new_dictionary"
   ]
  },
  {
   "cell_type": "code",
   "execution_count": 12,
   "metadata": {},
   "outputs": [],
   "source": [
    "import statistics as stat"
   ]
  },
  {
   "cell_type": "code",
   "execution_count": 13,
   "metadata": {},
   "outputs": [],
   "source": [
    "new_dictionary = {}\n",
    "for i in range(len(data)):\n",
    "    for j in range(len(data[i])):\n",
    "        if (i == 0) and (j != 0):\n",
    "            new_dictionary[header[j]] = {}\n",
    "            new_dictionary[header[j]]['reviews'] = []\n",
    "        if j != 0:\n",
    "            if data[i][j] == '':\n",
    "                pass\n",
    "            else:\n",
    "                new_dictionary[header[j]]['reviews'].append(data[i][j])\n",
    "            if i == (len(data)-1):\n",
    "                new_dictionary[header[j]]['median'] = stat.median(new_dictionary[header[j]]['reviews'])\n",
    "                new_dictionary[header[j]]['number'] = len(new_dictionary[header[j]]['reviews'])"
   ]
  },
  {
   "cell_type": "code",
   "execution_count": 14,
   "metadata": {},
   "outputs": [
    {
     "data": {
      "text/plain": [
       "{'Starbucks': {'reviews': [3.0,\n",
       "   4.0,\n",
       "   3.0,\n",
       "   1.0,\n",
       "   1.0,\n",
       "   5.0,\n",
       "   4.0,\n",
       "   3.0,\n",
       "   3.0,\n",
       "   1.0,\n",
       "   4.0,\n",
       "   3.0,\n",
       "   2.0,\n",
       "   3.0,\n",
       "   3.0,\n",
       "   3.0,\n",
       "   4.0,\n",
       "   1.0,\n",
       "   3.0,\n",
       "   3.0],\n",
       "  'median': 3.0,\n",
       "  'number': 20},\n",
       " 'PhilzCoffee': {'reviews': [5.0,\n",
       "   5.0,\n",
       "   5.0,\n",
       "   5.0,\n",
       "   4.0,\n",
       "   3.0,\n",
       "   5.0,\n",
       "   5.0,\n",
       "   4.0,\n",
       "   5.0,\n",
       "   5.0,\n",
       "   4.0,\n",
       "   3.0,\n",
       "   4.0,\n",
       "   5.0,\n",
       "   5.0,\n",
       "   2.0,\n",
       "   5.0,\n",
       "   5.0,\n",
       "   1.0],\n",
       "  'median': 5.0,\n",
       "  'number': 20},\n",
       " 'BlueBottleCoffee': {'reviews': [4.0,\n",
       "   5.0,\n",
       "   5.0,\n",
       "   5.0,\n",
       "   4.0,\n",
       "   3.0,\n",
       "   5.0,\n",
       "   4.0,\n",
       "   4.0,\n",
       "   4.0,\n",
       "   4.0,\n",
       "   2.0,\n",
       "   3.0,\n",
       "   4.0],\n",
       "  'median': 4.0,\n",
       "  'number': 14},\n",
       " 'PeetsTea': {'reviews': [3.0,\n",
       "   3.0,\n",
       "   5.0,\n",
       "   2.0,\n",
       "   2.0,\n",
       "   3.0,\n",
       "   5.0,\n",
       "   2.0,\n",
       "   3.0,\n",
       "   4.0,\n",
       "   3.0,\n",
       "   3.0,\n",
       "   2.0,\n",
       "   3.0,\n",
       "   3.0,\n",
       "   3.0,\n",
       "   5.0,\n",
       "   2.0,\n",
       "   3.0],\n",
       "  'median': 3.0,\n",
       "  'number': 19},\n",
       " 'CaffeTrieste': {'reviews': [3.0, 4.0, 3.0, 5.0, 5.0, 2.0, 2.0, 3.0],\n",
       "  'median': 3.0,\n",
       "  'number': 8},\n",
       " 'GrandCoffee': {'reviews': [2.0, 1.0, 2.0, 2.0, 3.0],\n",
       "  'median': 2.0,\n",
       "  'number': 5},\n",
       " 'RitualCoffee': {'reviews': [5.0,\n",
       "   3.0,\n",
       "   1.0,\n",
       "   3.0,\n",
       "   4.0,\n",
       "   5.0,\n",
       "   5.0,\n",
       "   4.0,\n",
       "   4.0,\n",
       "   3.0,\n",
       "   4.0,\n",
       "   4.0,\n",
       "   4.0],\n",
       "  'median': 4.0,\n",
       "  'number': 13},\n",
       " 'FourBarrel': {'reviews': [5.0, 1.0, 2.0, 4.0, 4.0, 4.0, 3.0, 3.0, 3.0, 4.0],\n",
       "  'median': 3.5,\n",
       "  'number': 10},\n",
       " 'WorkshopCafe': {'reviews': [5.0,\n",
       "   1.0,\n",
       "   3.0,\n",
       "   3.0,\n",
       "   2.0,\n",
       "   4.0,\n",
       "   1.0,\n",
       "   3.0,\n",
       "   5.0,\n",
       "   2.0,\n",
       "   3.0,\n",
       "   3.0],\n",
       "  'median': 3.0,\n",
       "  'number': 12}}"
      ]
     },
     "execution_count": 14,
     "metadata": {},
     "output_type": "execute_result"
    }
   ],
   "source": [
    "new_dictionary"
   ]
  },
  {
   "cell_type": "code",
   "execution_count": 20,
   "metadata": {},
   "outputs": [
    {
     "data": {
      "text/plain": [
       "{'Starbucks': {'reviews': []}}"
      ]
     },
     "execution_count": 20,
     "metadata": {},
     "output_type": "execute_result"
    }
   ],
   "source": [
    "new_dict2 = {}\n",
    "new_dict2[header[1]] = {}\n",
    "new_dict2[header[1]]['reviews'] = []\n",
    "new_dict2"
   ]
  },
  {
   "cell_type": "code",
   "execution_count": null,
   "metadata": {},
   "outputs": [],
   "source": []
  }
 ],
 "metadata": {
  "anaconda-cloud": {},
  "kernelspec": {
   "display_name": "Python 3",
   "language": "python",
   "name": "python3"
  },
  "language_info": {
   "codemirror_mode": {
    "name": "ipython",
    "version": 3
   },
   "file_extension": ".py",
   "mimetype": "text/x-python",
   "name": "python",
   "nbconvert_exporter": "python",
   "pygments_lexer": "ipython3",
   "version": "3.7.3"
  }
 },
 "nbformat": 4,
 "nbformat_minor": 2
}
