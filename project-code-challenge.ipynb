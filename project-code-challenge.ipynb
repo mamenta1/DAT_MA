{
 "cells": [
  {
   "cell_type": "markdown",
   "metadata": {},
   "source": [
    "<img src=\"http://imgur.com/1ZcRyrc.png\" style=\"float: left; margin: 20px; height: 55px\">\n",
    "\n",
    "# Project 1: Python Coding Exercises\n",
    "\n",
    "_Authors: Joseph Nelson (DC) Revised: Richie Castellanes(NY)_\n",
    "\n",
    "---"
   ]
  },
  {
   "cell_type": "markdown",
   "metadata": {},
   "source": [
    "The following code challenges are drawn from common exercises used in technical interviews.\n",
    "\n",
    "Please note that there may be several ways to approach each challenge. If you get stuck, try mapping out your approach in pseudocode first. Finally, while solutions to problems like these may be found online, remember that if you copy/paste code that you can't explain, you'll be missing out on the point of the project. The only way to truly learn a new skill is through practice, trial, and error - we can only help you improve by understanding where you are having trouble."
   ]
  },
  {
   "cell_type": "markdown",
   "metadata": {},
   "source": [
    "### Challenge 1: Largest Palindrome\n",
    "A palindromic number reads the same both ways. For example, 1234321 is a palindrome. The largest palindrome made from the product of two two-digit numbers is 9009 = 91 × 99. Find the largest palindrome made from the product of two three-digit numbers. Afterward, write a brief explanation walking through your code's logic in markdown."
   ]
  },
  {
   "cell_type": "code",
   "execution_count": 321,
   "metadata": {},
   "outputs": [
    {
     "name": "stdout",
     "output_type": "stream",
     "text": [
      "True\n",
      "None\n"
     ]
    }
   ],
   "source": [
    "#find largest number that is the product of two 3-digit numbers that is also a palindrome\n",
    "    #palindrome code\n",
    "n = 90000\n",
    "\n",
    "def palin(number):\n",
    "    nl = [x for x in str(number)]\n",
    "    if (nl[0] == nl[-1]) and (nl[1] == nl[-2]) and (nl[2] == nl[-3]):\n",
    "        return True\n",
    "\n",
    "    #number that is the product of two 3-digit numbers code\n",
    "\n",
    "def three_num_product(number):\n",
    "    for i in range(999,99,-1):\n",
    "        if (number % i == 0) and (len(str(number / i)) == 5):\n",
    "            return True\n",
    "\n",
    "def three_num_multiplier(number):\n",
    "    for i in range(999,99,-1):\n",
    "        if (number % i == 0) and (len(str(number / i)) == 5):\n",
    "            return number / i\n",
    "        \n",
    "print(palin(100001))\n",
    "print(three_num_product(10202))"
   ]
  },
  {
   "cell_type": "code",
   "execution_count": 282,
   "metadata": {},
   "outputs": [
    {
     "data": {
      "text/plain": [
       "998001"
      ]
     },
     "execution_count": 282,
     "metadata": {},
     "output_type": "execute_result"
    }
   ],
   "source": [
    "999 * 999"
   ]
  },
  {
   "cell_type": "code",
   "execution_count": 289,
   "metadata": {},
   "outputs": [
    {
     "data": {
      "text/plain": [
       "10000"
      ]
     },
     "execution_count": 289,
     "metadata": {},
     "output_type": "execute_result"
    }
   ],
   "source": [
    "100 * 100"
   ]
  },
  {
   "cell_type": "code",
   "execution_count": 322,
   "metadata": {},
   "outputs": [
    {
     "name": "stdout",
     "output_type": "stream",
     "text": [
      "906609\n"
     ]
    },
    {
     "data": {
      "text/plain": [
       "913.0"
      ]
     },
     "execution_count": 322,
     "metadata": {},
     "output_type": "execute_result"
    }
   ],
   "source": [
    "answer = []\n",
    "for i in range(9998001,10000,-1):\n",
    "    if (palin(i) == True) and (three_num_product(i) == True):\n",
    "        break\n",
    "    answer.append(i)\n",
    "\n",
    "print(answer[-1] - 1)\n",
    "three_num_multiplier(answer[-1] - 1)"
   ]
  },
  {
   "cell_type": "markdown",
   "metadata": {},
   "source": [
    "\n",
    "### Challenge 2: Summation of Primes\n",
    "The sum of the primes below 10 is 2 + 3 + 5 + 7 = 17. Find the sum of all the primes below 2,000. Afterward, write a brief explanation walking through your code's logic in markdown."
   ]
  },
  {
   "cell_type": "code",
   "execution_count": 119,
   "metadata": {},
   "outputs": [
    {
     "name": "stdout",
     "output_type": "stream",
     "text": [
      "277050\n"
     ]
    }
   ],
   "source": [
    "n = 2000\n",
    "\n",
    "def prime_finder(n):\n",
    "    list1 = [(i + 1) for i in range(n)]\n",
    "    max1 = [max(list1) for i in range(n)]\n",
    "    primes = [x % y for x, y in zip(max1, list1)]\n",
    "    if primes.count(0) == 2:\n",
    "        return n\n",
    "    else: return 0\n",
    "        \n",
    "prime_list = []\n",
    "for i in range(1,n):\n",
    "    prime_list.append(prime_finder(i))\n",
    "\n",
    "print(sum(prime_list))"
   ]
  },
  {
   "cell_type": "code",
   "execution_count": 83,
   "metadata": {},
   "outputs": [],
   "source": [
    "#return sum of all prime numbers from 0 to 1000\n",
    "\n",
    "#prime is an integer that is only divisible by two numbers in a range of numbers from 1 - n\n",
    "#create function that takes a list of numbers and returns list of primes from the original list\n",
    "#sum that list"
   ]
  },
  {
   "cell_type": "markdown",
   "metadata": {},
   "source": [
    "### Challenge 3: Multiples of 3 and 5\n",
    "If we list all of the natural numbers below 10 that are multiples of 3 or 5, we get 3, 5, 6, and 9. The sum of these multiples is 23. Find the sum of all the multiples of 3 and 5 below 1,000. Afterward, write a brief explanation walking through your code's logic in markdown."
   ]
  },
  {
   "cell_type": "code",
   "execution_count": 19,
   "metadata": {},
   "outputs": [
    {
     "data": {
      "text/plain": [
       "233168"
      ]
     },
     "execution_count": 19,
     "metadata": {},
     "output_type": "execute_result"
    }
   ],
   "source": [
    "results = []\n",
    "for i in range(1000):\n",
    "    if (i % 3 == 0) | (i % 5 == 0):\n",
    "        results.append(i)\n",
    "\n",
    "sum(results)       \n"
   ]
  },
  {
   "cell_type": "markdown",
   "metadata": {},
   "source": [
    "### Challenge 4: String Compressor\n",
    "Implement a method to perform basic string compression using the counts of repeated characters. (This is called run-length encoding.) For example, the string \"aabcccccaaa\" would become a2b1c5a3. If the “compressed” string would not become smaller than the original string, your method should return the original string. You can assume the string has only uppercase and lowercase letters (a–z). Specify whether your solution is case sensitive or case insensitive and what you would need to change to make it the other. Afterward, write a brief explanation walking through your code's logic in markdown."
   ]
  },
  {
   "cell_type": "code",
   "execution_count": null,
   "metadata": {},
   "outputs": [],
   "source": [
    "#if letter repeats, count number of repeats; if not, print letter + 1\n",
    "#if count of characters in function > count of characters in input, then input; else function result "
   ]
  },
  {
   "cell_type": "code",
   "execution_count": 411,
   "metadata": {},
   "outputs": [
    {
     "name": "stdout",
     "output_type": "stream",
     "text": [
      "j2j2j2j1r1k1l2l2\n",
      "jjjjrklll\n"
     ]
    }
   ],
   "source": [
    "word = 'jjjjrklll'\n",
    "\n",
    "originalword = [x for x in word]\n",
    "wordlist2 = originalword[1:]\n",
    "wordlist1 = originalword[:-1]\n",
    "\n",
    "new_list = []\n",
    "for i in range(len(word)-1):\n",
    "    if wordlist2[i] == wordlist1[i]:\n",
    "        count = 1\n",
    "        while wordlist2[i] == wordlist1[i]:\n",
    "            count = count + 1\n",
    "            break\n",
    "        new_list.append(originalword[i] + str(count))\n",
    "    else:\n",
    "        new_list.append(originalword[i] + str(1))\n",
    "\n",
    "output = ''\n",
    "for i in new_list:\n",
    "    output += i\n",
    "\n",
    "print(output)\n",
    "    \n",
    "if len(output) > len(word):\n",
    "    print(word)\n",
    "else:\n",
    "    print(output)"
   ]
  },
  {
   "cell_type": "markdown",
   "metadata": {},
   "source": [
    "### *BONUS* Challenge: Ranking Coffee by Median (2 points)\n",
    "I'd like to revisit the coffee_reviews file. I've included the lists below.\n",
    "\n",
    "Please order the coffee by median AND then by number of reviews.\n",
    "\n",
    "Hint: You will need to use the statistics.median function."
   ]
  },
  {
   "cell_type": "code",
   "execution_count": null,
   "metadata": {},
   "outputs": [],
   "source": []
  }
 ],
 "metadata": {
  "anaconda-cloud": {},
  "kernelspec": {
   "display_name": "Python 3",
   "language": "python",
   "name": "python3"
  },
  "language_info": {
   "codemirror_mode": {
    "name": "ipython",
    "version": 3
   },
   "file_extension": ".py",
   "mimetype": "text/x-python",
   "name": "python",
   "nbconvert_exporter": "python",
   "pygments_lexer": "ipython3",
   "version": "3.7.3"
  }
 },
 "nbformat": 4,
 "nbformat_minor": 2
}
