{
 "cells": [
  {
   "cell_type": "markdown",
   "metadata": {},
   "source": [
    "<img src=\"http://imgur.com/1ZcRyrc.png\" style=\"float: left; margin: 20px; height: 55px\">\n",
    "\n",
    "# Course Full Review - Exercise\n",
    "\n",
    "_Author: Richie Castellanes (NY)_\n"
   ]
  },
  {
   "cell_type": "markdown",
   "metadata": {},
   "source": [
    "### This is a comprehensive review of concepts learned in class."
   ]
  },
  {
   "cell_type": "markdown",
   "metadata": {},
   "source": [
    "# 1. FRAME:\n",
    "### Based on the given data, we are tasked to make the best classification accordingly. Best means:\n",
    "#### a. Most Accurate\n",
    "#### b. \"Acceptable\" Run Time (Less than 2 minutes)"
   ]
  },
  {
   "cell_type": "code",
   "execution_count": 56,
   "metadata": {},
   "outputs": [],
   "source": [
    "import pandas as pd\n",
    "import matplotlib.pyplot as plt\n",
    "import numpy as np"
   ]
  },
  {
   "cell_type": "code",
   "execution_count": 8,
   "metadata": {},
   "outputs": [],
   "source": [
    "# READ FILE ACCORDINGLY AND MAKE USEFUL (2 MINS)\n",
    "df = pd.read_csv('~/DAT_MA/datasets/data-review.csv',index_col=0)"
   ]
  },
  {
   "cell_type": "code",
   "execution_count": 11,
   "metadata": {},
   "outputs": [
    {
     "data": {
      "text/html": [
       "<div>\n",
       "<style scoped>\n",
       "    .dataframe tbody tr th:only-of-type {\n",
       "        vertical-align: middle;\n",
       "    }\n",
       "\n",
       "    .dataframe tbody tr th {\n",
       "        vertical-align: top;\n",
       "    }\n",
       "\n",
       "    .dataframe thead th {\n",
       "        text-align: right;\n",
       "    }\n",
       "</style>\n",
       "<table border=\"1\" class=\"dataframe\">\n",
       "  <thead>\n",
       "    <tr style=\"text-align: right;\">\n",
       "      <th></th>\n",
       "      <th>0</th>\n",
       "      <th>1</th>\n",
       "      <th>2</th>\n",
       "      <th>3</th>\n",
       "      <th>4</th>\n",
       "      <th>5</th>\n",
       "      <th>6</th>\n",
       "      <th>7</th>\n",
       "      <th>8</th>\n",
       "      <th>9</th>\n",
       "      <th>...</th>\n",
       "      <th>91</th>\n",
       "      <th>92</th>\n",
       "      <th>93</th>\n",
       "      <th>94</th>\n",
       "      <th>95</th>\n",
       "      <th>96</th>\n",
       "      <th>97</th>\n",
       "      <th>98</th>\n",
       "      <th>99</th>\n",
       "      <th>y</th>\n",
       "    </tr>\n",
       "  </thead>\n",
       "  <tbody>\n",
       "    <tr>\n",
       "      <th>0</th>\n",
       "      <td>0.014</td>\n",
       "      <td>-0.018</td>\n",
       "      <td>-0.184</td>\n",
       "      <td>0.085</td>\n",
       "      <td>-9.332</td>\n",
       "      <td>-0.023</td>\n",
       "      <td>0.102</td>\n",
       "      <td>-0.093</td>\n",
       "      <td>-0.145</td>\n",
       "      <td>-0.252</td>\n",
       "      <td>...</td>\n",
       "      <td>-0.002</td>\n",
       "      <td>-0.153</td>\n",
       "      <td>0.122</td>\n",
       "      <td>0.050</td>\n",
       "      <td>0.015</td>\n",
       "      <td>0.086</td>\n",
       "      <td>0.130</td>\n",
       "      <td>0.053</td>\n",
       "      <td>0.042</td>\n",
       "      <td>1</td>\n",
       "    </tr>\n",
       "    <tr>\n",
       "      <th>1</th>\n",
       "      <td>-9.332</td>\n",
       "      <td>-0.022</td>\n",
       "      <td>-0.018</td>\n",
       "      <td>-0.232</td>\n",
       "      <td>0.088</td>\n",
       "      <td>-0.118</td>\n",
       "      <td>0.135</td>\n",
       "      <td>0.076</td>\n",
       "      <td>0.052</td>\n",
       "      <td>-0.043</td>\n",
       "      <td>...</td>\n",
       "      <td>-0.025</td>\n",
       "      <td>-0.076</td>\n",
       "      <td>-0.009</td>\n",
       "      <td>0.021</td>\n",
       "      <td>-0.136</td>\n",
       "      <td>0.096</td>\n",
       "      <td>-0.137</td>\n",
       "      <td>0.067</td>\n",
       "      <td>-9.332</td>\n",
       "      <td>1</td>\n",
       "    </tr>\n",
       "    <tr>\n",
       "      <th>2</th>\n",
       "      <td>0.039</td>\n",
       "      <td>0.140</td>\n",
       "      <td>0.012</td>\n",
       "      <td>0.102</td>\n",
       "      <td>-0.081</td>\n",
       "      <td>0.054</td>\n",
       "      <td>-0.068</td>\n",
       "      <td>0.099</td>\n",
       "      <td>0.125</td>\n",
       "      <td>-0.076</td>\n",
       "      <td>...</td>\n",
       "      <td>0.071</td>\n",
       "      <td>-0.106</td>\n",
       "      <td>0.147</td>\n",
       "      <td>-9.332</td>\n",
       "      <td>0.206</td>\n",
       "      <td>0.096</td>\n",
       "      <td>0.163</td>\n",
       "      <td>-0.306</td>\n",
       "      <td>-9.332</td>\n",
       "      <td>1</td>\n",
       "    </tr>\n",
       "    <tr>\n",
       "      <th>3</th>\n",
       "      <td>-9.332</td>\n",
       "      <td>-9.332</td>\n",
       "      <td>-0.079</td>\n",
       "      <td>0.016</td>\n",
       "      <td>0.002</td>\n",
       "      <td>-0.101</td>\n",
       "      <td>0.088</td>\n",
       "      <td>-0.175</td>\n",
       "      <td>-0.177</td>\n",
       "      <td>0.036</td>\n",
       "      <td>...</td>\n",
       "      <td>0.094</td>\n",
       "      <td>0.044</td>\n",
       "      <td>0.131</td>\n",
       "      <td>-0.018</td>\n",
       "      <td>-0.062</td>\n",
       "      <td>0.189</td>\n",
       "      <td>-0.121</td>\n",
       "      <td>0.042</td>\n",
       "      <td>0.106</td>\n",
       "      <td>1</td>\n",
       "    </tr>\n",
       "    <tr>\n",
       "      <th>4</th>\n",
       "      <td>0.046</td>\n",
       "      <td>-0.058</td>\n",
       "      <td>-0.065</td>\n",
       "      <td>-0.002</td>\n",
       "      <td>0.007</td>\n",
       "      <td>0.154</td>\n",
       "      <td>0.064</td>\n",
       "      <td>-0.117</td>\n",
       "      <td>-0.137</td>\n",
       "      <td>-0.054</td>\n",
       "      <td>...</td>\n",
       "      <td>-0.035</td>\n",
       "      <td>-0.174</td>\n",
       "      <td>-0.041</td>\n",
       "      <td>0.038</td>\n",
       "      <td>0.044</td>\n",
       "      <td>-9.332</td>\n",
       "      <td>-0.130</td>\n",
       "      <td>0.011</td>\n",
       "      <td>-0.084</td>\n",
       "      <td>1</td>\n",
       "    </tr>\n",
       "  </tbody>\n",
       "</table>\n",
       "<p>5 rows × 101 columns</p>\n",
       "</div>"
      ],
      "text/plain": [
       "       0      1      2      3      4      5      6      7      8      9  ...  \\\n",
       "0  0.014 -0.018 -0.184  0.085 -9.332 -0.023  0.102 -0.093 -0.145 -0.252  ...   \n",
       "1 -9.332 -0.022 -0.018 -0.232  0.088 -0.118  0.135  0.076  0.052 -0.043  ...   \n",
       "2  0.039  0.140  0.012  0.102 -0.081  0.054 -0.068  0.099  0.125 -0.076  ...   \n",
       "3 -9.332 -9.332 -0.079  0.016  0.002 -0.101  0.088 -0.175 -0.177  0.036  ...   \n",
       "4  0.046 -0.058 -0.065 -0.002  0.007  0.154  0.064 -0.117 -0.137 -0.054  ...   \n",
       "\n",
       "      91     92     93     94     95     96     97     98     99  y  \n",
       "0 -0.002 -0.153  0.122  0.050  0.015  0.086  0.130  0.053  0.042  1  \n",
       "1 -0.025 -0.076 -0.009  0.021 -0.136  0.096 -0.137  0.067 -9.332  1  \n",
       "2  0.071 -0.106  0.147 -9.332  0.206  0.096  0.163 -0.306 -9.332  1  \n",
       "3  0.094  0.044  0.131 -0.018 -0.062  0.189 -0.121  0.042  0.106  1  \n",
       "4 -0.035 -0.174 -0.041  0.038  0.044 -9.332 -0.130  0.011 -0.084  1  \n",
       "\n",
       "[5 rows x 101 columns]"
      ]
     },
     "execution_count": 11,
     "metadata": {},
     "output_type": "execute_result"
    }
   ],
   "source": [
    "df.head()"
   ]
  },
  {
   "cell_type": "code",
   "execution_count": 12,
   "metadata": {},
   "outputs": [
    {
     "data": {
      "text/plain": [
       "0     0\n",
       "72    0\n",
       "71    0\n",
       "70    0\n",
       "69    0\n",
       "68    0\n",
       "67    0\n",
       "66    0\n",
       "65    0\n",
       "64    0\n",
       "63    0\n",
       "62    0\n",
       "61    0\n",
       "60    0\n",
       "59    0\n",
       "58    0\n",
       "57    0\n",
       "56    0\n",
       "55    0\n",
       "54    0\n",
       "53    0\n",
       "52    0\n",
       "73    0\n",
       "74    0\n",
       "75    0\n",
       "76    0\n",
       "98    0\n",
       "97    0\n",
       "96    0\n",
       "95    0\n",
       "     ..\n",
       "2     0\n",
       "1     0\n",
       "22    0\n",
       "23    0\n",
       "24    0\n",
       "25    0\n",
       "47    0\n",
       "46    0\n",
       "45    0\n",
       "44    0\n",
       "43    0\n",
       "42    0\n",
       "41    0\n",
       "40    0\n",
       "39    0\n",
       "38    0\n",
       "49    0\n",
       "37    0\n",
       "35    0\n",
       "34    0\n",
       "33    0\n",
       "32    0\n",
       "31    0\n",
       "30    0\n",
       "29    0\n",
       "28    0\n",
       "27    0\n",
       "26    0\n",
       "36    0\n",
       "y     0\n",
       "Length: 101, dtype: int64"
      ]
     },
     "execution_count": 12,
     "metadata": {},
     "output_type": "execute_result"
    }
   ],
   "source": [
    "# DO SOME QUICK EXPLORATION (5 MINS)\n",
    "df.isna().sum().sort_values()"
   ]
  },
  {
   "cell_type": "code",
   "execution_count": 13,
   "metadata": {},
   "outputs": [],
   "source": [
    "df.y.replace({2:1,1:0},inplace=True)"
   ]
  },
  {
   "cell_type": "code",
   "execution_count": 15,
   "metadata": {},
   "outputs": [
    {
     "data": {
      "text/plain": [
       "count    100000.000000\n",
       "mean          0.500000\n",
       "std           0.500003\n",
       "min           0.000000\n",
       "25%           0.000000\n",
       "50%           0.500000\n",
       "75%           1.000000\n",
       "max           1.000000\n",
       "Name: y, dtype: float64"
      ]
     },
     "execution_count": 15,
     "metadata": {},
     "output_type": "execute_result"
    }
   ],
   "source": [
    "df.y.describe()"
   ]
  },
  {
   "cell_type": "code",
   "execution_count": 16,
   "metadata": {},
   "outputs": [
    {
     "data": {
      "text/plain": [
       "1    50000\n",
       "0    50000\n",
       "Name: y, dtype: int64"
      ]
     },
     "execution_count": 16,
     "metadata": {},
     "output_type": "execute_result"
    }
   ],
   "source": [
    "df.y.value_counts()"
   ]
  },
  {
   "cell_type": "code",
   "execution_count": null,
   "metadata": {},
   "outputs": [],
   "source": [
    "# MAKE THE FILE USEFUL (5 MINS)"
   ]
  },
  {
   "cell_type": "markdown",
   "metadata": {},
   "source": [
    "# 2. PREPARE:\n",
    "### Based on quick look, how do we clean the data? (20 MINS)"
   ]
  },
  {
   "cell_type": "code",
   "execution_count": 19,
   "metadata": {},
   "outputs": [
    {
     "data": {
      "text/html": [
       "<div>\n",
       "<style scoped>\n",
       "    .dataframe tbody tr th:only-of-type {\n",
       "        vertical-align: middle;\n",
       "    }\n",
       "\n",
       "    .dataframe tbody tr th {\n",
       "        vertical-align: top;\n",
       "    }\n",
       "\n",
       "    .dataframe thead th {\n",
       "        text-align: right;\n",
       "    }\n",
       "</style>\n",
       "<table border=\"1\" class=\"dataframe\">\n",
       "  <thead>\n",
       "    <tr style=\"text-align: right;\">\n",
       "      <th></th>\n",
       "      <th>0</th>\n",
       "      <th>1</th>\n",
       "      <th>2</th>\n",
       "      <th>3</th>\n",
       "      <th>4</th>\n",
       "      <th>5</th>\n",
       "      <th>6</th>\n",
       "      <th>7</th>\n",
       "      <th>8</th>\n",
       "      <th>9</th>\n",
       "      <th>...</th>\n",
       "      <th>91</th>\n",
       "      <th>92</th>\n",
       "      <th>93</th>\n",
       "      <th>94</th>\n",
       "      <th>95</th>\n",
       "      <th>96</th>\n",
       "      <th>97</th>\n",
       "      <th>98</th>\n",
       "      <th>99</th>\n",
       "      <th>y</th>\n",
       "    </tr>\n",
       "  </thead>\n",
       "  <tbody>\n",
       "    <tr>\n",
       "      <th>count</th>\n",
       "      <td>100000.000000</td>\n",
       "      <td>100000.000000</td>\n",
       "      <td>100000.000000</td>\n",
       "      <td>100000.000000</td>\n",
       "      <td>100000.000000</td>\n",
       "      <td>100000.000000</td>\n",
       "      <td>100000.000000</td>\n",
       "      <td>100000.000000</td>\n",
       "      <td>100000.000000</td>\n",
       "      <td>100000.000000</td>\n",
       "      <td>...</td>\n",
       "      <td>100000.000000</td>\n",
       "      <td>100000.000000</td>\n",
       "      <td>100000.000000</td>\n",
       "      <td>100000.000000</td>\n",
       "      <td>100000.000000</td>\n",
       "      <td>100000.000000</td>\n",
       "      <td>100000.000000</td>\n",
       "      <td>100000.000000</td>\n",
       "      <td>100000.000000</td>\n",
       "      <td>100000.000000</td>\n",
       "    </tr>\n",
       "    <tr>\n",
       "      <th>mean</th>\n",
       "      <td>-0.941315</td>\n",
       "      <td>-0.933780</td>\n",
       "      <td>-0.942509</td>\n",
       "      <td>-0.930898</td>\n",
       "      <td>-0.931578</td>\n",
       "      <td>-0.928436</td>\n",
       "      <td>-0.920358</td>\n",
       "      <td>-0.933081</td>\n",
       "      <td>-0.938780</td>\n",
       "      <td>-0.914002</td>\n",
       "      <td>...</td>\n",
       "      <td>-0.924944</td>\n",
       "      <td>-0.937193</td>\n",
       "      <td>-0.945264</td>\n",
       "      <td>-0.936417</td>\n",
       "      <td>-0.903939</td>\n",
       "      <td>-0.933081</td>\n",
       "      <td>-0.948090</td>\n",
       "      <td>-0.939987</td>\n",
       "      <td>-0.936603</td>\n",
       "      <td>0.500000</td>\n",
       "    </tr>\n",
       "    <tr>\n",
       "      <th>std</th>\n",
       "      <td>2.813129</td>\n",
       "      <td>2.802354</td>\n",
       "      <td>2.814558</td>\n",
       "      <td>2.797859</td>\n",
       "      <td>2.798859</td>\n",
       "      <td>2.794835</td>\n",
       "      <td>2.783885</td>\n",
       "      <td>2.801449</td>\n",
       "      <td>2.808962</td>\n",
       "      <td>2.775040</td>\n",
       "      <td>...</td>\n",
       "      <td>2.789821</td>\n",
       "      <td>2.806447</td>\n",
       "      <td>2.817298</td>\n",
       "      <td>2.805445</td>\n",
       "      <td>2.761773</td>\n",
       "      <td>2.800775</td>\n",
       "      <td>2.821298</td>\n",
       "      <td>2.810622</td>\n",
       "      <td>2.805592</td>\n",
       "      <td>0.500003</td>\n",
       "    </tr>\n",
       "    <tr>\n",
       "      <th>min</th>\n",
       "      <td>-9.332000</td>\n",
       "      <td>-9.332000</td>\n",
       "      <td>-9.332000</td>\n",
       "      <td>-9.332000</td>\n",
       "      <td>-9.332000</td>\n",
       "      <td>-9.332000</td>\n",
       "      <td>-9.332000</td>\n",
       "      <td>-9.332000</td>\n",
       "      <td>-9.332000</td>\n",
       "      <td>-9.332000</td>\n",
       "      <td>...</td>\n",
       "      <td>-9.332000</td>\n",
       "      <td>-9.332000</td>\n",
       "      <td>-9.332000</td>\n",
       "      <td>-9.332000</td>\n",
       "      <td>-9.332000</td>\n",
       "      <td>-9.332000</td>\n",
       "      <td>-9.332000</td>\n",
       "      <td>-9.332000</td>\n",
       "      <td>-9.332000</td>\n",
       "      <td>0.000000</td>\n",
       "    </tr>\n",
       "    <tr>\n",
       "      <th>25%</th>\n",
       "      <td>-0.097000</td>\n",
       "      <td>-0.100000</td>\n",
       "      <td>-0.097000</td>\n",
       "      <td>-0.099000</td>\n",
       "      <td>-0.098000</td>\n",
       "      <td>-0.100000</td>\n",
       "      <td>-0.098000</td>\n",
       "      <td>-0.102000</td>\n",
       "      <td>-0.101000</td>\n",
       "      <td>-0.099000</td>\n",
       "      <td>...</td>\n",
       "      <td>-0.098000</td>\n",
       "      <td>-0.098000</td>\n",
       "      <td>-0.101000</td>\n",
       "      <td>-0.098000</td>\n",
       "      <td>-0.097000</td>\n",
       "      <td>-0.101000</td>\n",
       "      <td>-0.101000</td>\n",
       "      <td>-0.098000</td>\n",
       "      <td>-0.099000</td>\n",
       "      <td>0.000000</td>\n",
       "    </tr>\n",
       "    <tr>\n",
       "      <th>50%</th>\n",
       "      <td>-0.013000</td>\n",
       "      <td>-0.014000</td>\n",
       "      <td>-0.013000</td>\n",
       "      <td>-0.015000</td>\n",
       "      <td>-0.015000</td>\n",
       "      <td>-0.015000</td>\n",
       "      <td>-0.014000</td>\n",
       "      <td>-0.015000</td>\n",
       "      <td>-0.015000</td>\n",
       "      <td>-0.014000</td>\n",
       "      <td>...</td>\n",
       "      <td>-0.014000</td>\n",
       "      <td>-0.014000</td>\n",
       "      <td>-0.014000</td>\n",
       "      <td>-0.014000</td>\n",
       "      <td>-0.014000</td>\n",
       "      <td>-0.015000</td>\n",
       "      <td>-0.014000</td>\n",
       "      <td>-0.014000</td>\n",
       "      <td>-0.015000</td>\n",
       "      <td>0.500000</td>\n",
       "    </tr>\n",
       "    <tr>\n",
       "      <th>75%</th>\n",
       "      <td>0.061000</td>\n",
       "      <td>0.061000</td>\n",
       "      <td>0.059000</td>\n",
       "      <td>0.060000</td>\n",
       "      <td>0.060000</td>\n",
       "      <td>0.061000</td>\n",
       "      <td>0.060000</td>\n",
       "      <td>0.062000</td>\n",
       "      <td>0.062000</td>\n",
       "      <td>0.060000</td>\n",
       "      <td>...</td>\n",
       "      <td>0.060000</td>\n",
       "      <td>0.059000</td>\n",
       "      <td>0.061000</td>\n",
       "      <td>0.059000</td>\n",
       "      <td>0.060000</td>\n",
       "      <td>0.061000</td>\n",
       "      <td>0.061000</td>\n",
       "      <td>0.060000</td>\n",
       "      <td>0.060000</td>\n",
       "      <td>1.000000</td>\n",
       "    </tr>\n",
       "    <tr>\n",
       "      <th>max</th>\n",
       "      <td>0.421000</td>\n",
       "      <td>0.476000</td>\n",
       "      <td>0.407000</td>\n",
       "      <td>0.475000</td>\n",
       "      <td>0.529000</td>\n",
       "      <td>0.457000</td>\n",
       "      <td>0.465000</td>\n",
       "      <td>0.425000</td>\n",
       "      <td>0.425000</td>\n",
       "      <td>0.491000</td>\n",
       "      <td>...</td>\n",
       "      <td>0.470000</td>\n",
       "      <td>0.439000</td>\n",
       "      <td>0.459000</td>\n",
       "      <td>0.424000</td>\n",
       "      <td>0.412000</td>\n",
       "      <td>0.446000</td>\n",
       "      <td>0.419000</td>\n",
       "      <td>0.392000</td>\n",
       "      <td>0.462000</td>\n",
       "      <td>1.000000</td>\n",
       "    </tr>\n",
       "  </tbody>\n",
       "</table>\n",
       "<p>8 rows × 101 columns</p>\n",
       "</div>"
      ],
      "text/plain": [
       "                   0              1              2              3  \\\n",
       "count  100000.000000  100000.000000  100000.000000  100000.000000   \n",
       "mean       -0.941315      -0.933780      -0.942509      -0.930898   \n",
       "std         2.813129       2.802354       2.814558       2.797859   \n",
       "min        -9.332000      -9.332000      -9.332000      -9.332000   \n",
       "25%        -0.097000      -0.100000      -0.097000      -0.099000   \n",
       "50%        -0.013000      -0.014000      -0.013000      -0.015000   \n",
       "75%         0.061000       0.061000       0.059000       0.060000   \n",
       "max         0.421000       0.476000       0.407000       0.475000   \n",
       "\n",
       "                   4              5              6              7  \\\n",
       "count  100000.000000  100000.000000  100000.000000  100000.000000   \n",
       "mean       -0.931578      -0.928436      -0.920358      -0.933081   \n",
       "std         2.798859       2.794835       2.783885       2.801449   \n",
       "min        -9.332000      -9.332000      -9.332000      -9.332000   \n",
       "25%        -0.098000      -0.100000      -0.098000      -0.102000   \n",
       "50%        -0.015000      -0.015000      -0.014000      -0.015000   \n",
       "75%         0.060000       0.061000       0.060000       0.062000   \n",
       "max         0.529000       0.457000       0.465000       0.425000   \n",
       "\n",
       "                   8              9  ...             91             92  \\\n",
       "count  100000.000000  100000.000000  ...  100000.000000  100000.000000   \n",
       "mean       -0.938780      -0.914002  ...      -0.924944      -0.937193   \n",
       "std         2.808962       2.775040  ...       2.789821       2.806447   \n",
       "min        -9.332000      -9.332000  ...      -9.332000      -9.332000   \n",
       "25%        -0.101000      -0.099000  ...      -0.098000      -0.098000   \n",
       "50%        -0.015000      -0.014000  ...      -0.014000      -0.014000   \n",
       "75%         0.062000       0.060000  ...       0.060000       0.059000   \n",
       "max         0.425000       0.491000  ...       0.470000       0.439000   \n",
       "\n",
       "                  93             94             95             96  \\\n",
       "count  100000.000000  100000.000000  100000.000000  100000.000000   \n",
       "mean       -0.945264      -0.936417      -0.903939      -0.933081   \n",
       "std         2.817298       2.805445       2.761773       2.800775   \n",
       "min        -9.332000      -9.332000      -9.332000      -9.332000   \n",
       "25%        -0.101000      -0.098000      -0.097000      -0.101000   \n",
       "50%        -0.014000      -0.014000      -0.014000      -0.015000   \n",
       "75%         0.061000       0.059000       0.060000       0.061000   \n",
       "max         0.459000       0.424000       0.412000       0.446000   \n",
       "\n",
       "                  97             98             99              y  \n",
       "count  100000.000000  100000.000000  100000.000000  100000.000000  \n",
       "mean       -0.948090      -0.939987      -0.936603       0.500000  \n",
       "std         2.821298       2.810622       2.805592       0.500003  \n",
       "min        -9.332000      -9.332000      -9.332000       0.000000  \n",
       "25%        -0.101000      -0.098000      -0.099000       0.000000  \n",
       "50%        -0.014000      -0.014000      -0.015000       0.500000  \n",
       "75%         0.061000       0.060000       0.060000       1.000000  \n",
       "max         0.419000       0.392000       0.462000       1.000000  \n",
       "\n",
       "[8 rows x 101 columns]"
      ]
     },
     "execution_count": 19,
     "metadata": {},
     "output_type": "execute_result"
    }
   ],
   "source": [
    "# IS THERE ANYTHING ODD THAT YOU NOTICE?\n",
    "df.describe()"
   ]
  },
  {
   "cell_type": "code",
   "execution_count": 29,
   "metadata": {},
   "outputs": [
    {
     "data": {
      "image/png": "[encoded data removed]",
      "text/plain": [
       "<Figure size 432x288 with 1 Axes>"
      ]
     },
     "metadata": {
      "needs_background": "light"
     },
     "output_type": "display_data"
    }
   ],
   "source": [
    "# HINT: Look at the distribution of values\n",
    "plt.hist(df['0'],bins=100);"
   ]
  },
  {
   "cell_type": "code",
   "execution_count": 28,
   "metadata": {},
   "outputs": [
    {
     "data": {
      "image/png": "[encoded data removed]",
      "text/plain": [
       "<Figure size 432x288 with 1 Axes>"
      ]
     },
     "metadata": {
      "needs_background": "light"
     },
     "output_type": "display_data"
    }
   ],
   "source": [
    "plt.hist(df['1'],bins=100);"
   ]
  },
  {
   "cell_type": "code",
   "execution_count": 27,
   "metadata": {},
   "outputs": [
    {
     "data": {
      "image/png": "[encoded data removed]",
      "text/plain": [
       "<Figure size 432x288 with 1 Axes>"
      ]
     },
     "metadata": {
      "needs_background": "light"
     },
     "output_type": "display_data"
    }
   ],
   "source": [
    "plt.hist(df['99'],bins=100);"
   ]
  },
  {
   "cell_type": "code",
   "execution_count": 48,
   "metadata": {},
   "outputs": [],
   "source": [
    "test_val = '6'\n",
    "mask = df[[test_val,'y']].loc[df[test_val] == -9.332]"
   ]
  },
  {
   "cell_type": "code",
   "execution_count": 49,
   "metadata": {},
   "outputs": [
    {
     "data": {
      "text/plain": [
       "0    4972\n",
       "1    4889\n",
       "Name: y, dtype: int64"
      ]
     },
     "execution_count": 49,
     "metadata": {},
     "output_type": "execute_result"
    }
   ],
   "source": [
    "mask['y'].value_counts()"
   ]
  },
  {
   "cell_type": "code",
   "execution_count": 50,
   "metadata": {},
   "outputs": [],
   "source": [
    "# TRANSFORM THE FILE ACCORDINGLY\n",
    "df_clean = df.replace({-9.332:0})"
   ]
  },
  {
   "cell_type": "code",
   "execution_count": 52,
   "metadata": {},
   "outputs": [],
   "source": [
    "x_clean = df_clean.iloc[:,0:100]"
   ]
  },
  {
   "cell_type": "code",
   "execution_count": 53,
   "metadata": {},
   "outputs": [
    {
     "data": {
      "text/html": [
       "<div>\n",
       "<style scoped>\n",
       "    .dataframe tbody tr th:only-of-type {\n",
       "        vertical-align: middle;\n",
       "    }\n",
       "\n",
       "    .dataframe tbody tr th {\n",
       "        vertical-align: top;\n",
       "    }\n",
       "\n",
       "    .dataframe thead th {\n",
       "        text-align: right;\n",
       "    }\n",
       "</style>\n",
       "<table border=\"1\" class=\"dataframe\">\n",
       "  <thead>\n",
       "    <tr style=\"text-align: right;\">\n",
       "      <th></th>\n",
       "      <th>0</th>\n",
       "      <th>1</th>\n",
       "      <th>2</th>\n",
       "      <th>3</th>\n",
       "      <th>4</th>\n",
       "      <th>5</th>\n",
       "      <th>6</th>\n",
       "      <th>7</th>\n",
       "      <th>8</th>\n",
       "      <th>9</th>\n",
       "      <th>...</th>\n",
       "      <th>90</th>\n",
       "      <th>91</th>\n",
       "      <th>92</th>\n",
       "      <th>93</th>\n",
       "      <th>94</th>\n",
       "      <th>95</th>\n",
       "      <th>96</th>\n",
       "      <th>97</th>\n",
       "      <th>98</th>\n",
       "      <th>99</th>\n",
       "    </tr>\n",
       "  </thead>\n",
       "  <tbody>\n",
       "    <tr>\n",
       "      <th>0</th>\n",
       "      <td>0.014</td>\n",
       "      <td>-0.018</td>\n",
       "      <td>-0.184</td>\n",
       "      <td>0.085</td>\n",
       "      <td>0.000</td>\n",
       "      <td>-0.023</td>\n",
       "      <td>0.102</td>\n",
       "      <td>-0.093</td>\n",
       "      <td>-0.145</td>\n",
       "      <td>-0.252</td>\n",
       "      <td>...</td>\n",
       "      <td>0.162</td>\n",
       "      <td>-0.002</td>\n",
       "      <td>-0.153</td>\n",
       "      <td>0.122</td>\n",
       "      <td>0.050</td>\n",
       "      <td>0.015</td>\n",
       "      <td>0.086</td>\n",
       "      <td>0.130</td>\n",
       "      <td>0.053</td>\n",
       "      <td>0.042</td>\n",
       "    </tr>\n",
       "    <tr>\n",
       "      <th>1</th>\n",
       "      <td>0.000</td>\n",
       "      <td>-0.022</td>\n",
       "      <td>-0.018</td>\n",
       "      <td>-0.232</td>\n",
       "      <td>0.088</td>\n",
       "      <td>-0.118</td>\n",
       "      <td>0.135</td>\n",
       "      <td>0.076</td>\n",
       "      <td>0.052</td>\n",
       "      <td>-0.043</td>\n",
       "      <td>...</td>\n",
       "      <td>0.081</td>\n",
       "      <td>-0.025</td>\n",
       "      <td>-0.076</td>\n",
       "      <td>-0.009</td>\n",
       "      <td>0.021</td>\n",
       "      <td>-0.136</td>\n",
       "      <td>0.096</td>\n",
       "      <td>-0.137</td>\n",
       "      <td>0.067</td>\n",
       "      <td>0.000</td>\n",
       "    </tr>\n",
       "    <tr>\n",
       "      <th>2</th>\n",
       "      <td>0.039</td>\n",
       "      <td>0.140</td>\n",
       "      <td>0.012</td>\n",
       "      <td>0.102</td>\n",
       "      <td>-0.081</td>\n",
       "      <td>0.054</td>\n",
       "      <td>-0.068</td>\n",
       "      <td>0.099</td>\n",
       "      <td>0.125</td>\n",
       "      <td>-0.076</td>\n",
       "      <td>...</td>\n",
       "      <td>-0.070</td>\n",
       "      <td>0.071</td>\n",
       "      <td>-0.106</td>\n",
       "      <td>0.147</td>\n",
       "      <td>0.000</td>\n",
       "      <td>0.206</td>\n",
       "      <td>0.096</td>\n",
       "      <td>0.163</td>\n",
       "      <td>-0.306</td>\n",
       "      <td>0.000</td>\n",
       "    </tr>\n",
       "    <tr>\n",
       "      <th>3</th>\n",
       "      <td>0.000</td>\n",
       "      <td>0.000</td>\n",
       "      <td>-0.079</td>\n",
       "      <td>0.016</td>\n",
       "      <td>0.002</td>\n",
       "      <td>-0.101</td>\n",
       "      <td>0.088</td>\n",
       "      <td>-0.175</td>\n",
       "      <td>-0.177</td>\n",
       "      <td>0.036</td>\n",
       "      <td>...</td>\n",
       "      <td>-0.139</td>\n",
       "      <td>0.094</td>\n",
       "      <td>0.044</td>\n",
       "      <td>0.131</td>\n",
       "      <td>-0.018</td>\n",
       "      <td>-0.062</td>\n",
       "      <td>0.189</td>\n",
       "      <td>-0.121</td>\n",
       "      <td>0.042</td>\n",
       "      <td>0.106</td>\n",
       "    </tr>\n",
       "    <tr>\n",
       "      <th>4</th>\n",
       "      <td>0.046</td>\n",
       "      <td>-0.058</td>\n",
       "      <td>-0.065</td>\n",
       "      <td>-0.002</td>\n",
       "      <td>0.007</td>\n",
       "      <td>0.154</td>\n",
       "      <td>0.064</td>\n",
       "      <td>-0.117</td>\n",
       "      <td>-0.137</td>\n",
       "      <td>-0.054</td>\n",
       "      <td>...</td>\n",
       "      <td>0.180</td>\n",
       "      <td>-0.035</td>\n",
       "      <td>-0.174</td>\n",
       "      <td>-0.041</td>\n",
       "      <td>0.038</td>\n",
       "      <td>0.044</td>\n",
       "      <td>0.000</td>\n",
       "      <td>-0.130</td>\n",
       "      <td>0.011</td>\n",
       "      <td>-0.084</td>\n",
       "    </tr>\n",
       "  </tbody>\n",
       "</table>\n",
       "<p>5 rows × 100 columns</p>\n",
       "</div>"
      ],
      "text/plain": [
       "       0      1      2      3      4      5      6      7      8      9  ...  \\\n",
       "0  0.014 -0.018 -0.184  0.085  0.000 -0.023  0.102 -0.093 -0.145 -0.252  ...   \n",
       "1  0.000 -0.022 -0.018 -0.232  0.088 -0.118  0.135  0.076  0.052 -0.043  ...   \n",
       "2  0.039  0.140  0.012  0.102 -0.081  0.054 -0.068  0.099  0.125 -0.076  ...   \n",
       "3  0.000  0.000 -0.079  0.016  0.002 -0.101  0.088 -0.175 -0.177  0.036  ...   \n",
       "4  0.046 -0.058 -0.065 -0.002  0.007  0.154  0.064 -0.117 -0.137 -0.054  ...   \n",
       "\n",
       "      90     91     92     93     94     95     96     97     98     99  \n",
       "0  0.162 -0.002 -0.153  0.122  0.050  0.015  0.086  0.130  0.053  0.042  \n",
       "1  0.081 -0.025 -0.076 -0.009  0.021 -0.136  0.096 -0.137  0.067  0.000  \n",
       "2 -0.070  0.071 -0.106  0.147  0.000  0.206  0.096  0.163 -0.306  0.000  \n",
       "3 -0.139  0.094  0.044  0.131 -0.018 -0.062  0.189 -0.121  0.042  0.106  \n",
       "4  0.180 -0.035 -0.174 -0.041  0.038  0.044  0.000 -0.130  0.011 -0.084  \n",
       "\n",
       "[5 rows x 100 columns]"
      ]
     },
     "execution_count": 53,
     "metadata": {},
     "output_type": "execute_result"
    }
   ],
   "source": [
    "x_clean.head()"
   ]
  },
  {
   "cell_type": "code",
   "execution_count": 55,
   "metadata": {},
   "outputs": [
    {
     "data": {
      "text/plain": [
       "0        0\n",
       "1        0\n",
       "2        0\n",
       "3        0\n",
       "4        0\n",
       "5        0\n",
       "6        0\n",
       "7        0\n",
       "8        0\n",
       "9        0\n",
       "10       0\n",
       "11       0\n",
       "12       0\n",
       "13       0\n",
       "14       0\n",
       "15       0\n",
       "16       0\n",
       "17       0\n",
       "18       0\n",
       "19       0\n",
       "20       0\n",
       "21       0\n",
       "22       0\n",
       "23       0\n",
       "24       0\n",
       "25       0\n",
       "26       0\n",
       "27       0\n",
       "28       0\n",
       "29       0\n",
       "        ..\n",
       "99970    1\n",
       "99971    1\n",
       "99972    1\n",
       "99973    1\n",
       "99974    1\n",
       "99975    1\n",
       "99976    1\n",
       "99977    1\n",
       "99978    1\n",
       "99979    1\n",
       "99980    1\n",
       "99981    1\n",
       "99982    1\n",
       "99983    1\n",
       "99984    1\n",
       "99985    1\n",
       "99986    1\n",
       "99987    1\n",
       "99988    1\n",
       "99989    1\n",
       "99990    1\n",
       "99991    1\n",
       "99992    1\n",
       "99993    1\n",
       "99994    1\n",
       "99995    1\n",
       "99996    1\n",
       "99997    1\n",
       "99998    1\n",
       "99999    1\n",
       "Name: y, Length: 100000, dtype: int64"
      ]
     },
     "execution_count": 55,
     "metadata": {},
     "output_type": "execute_result"
    }
   ],
   "source": [
    "y = df_clean['y']\n",
    "y"
   ]
  },
  {
   "cell_type": "markdown",
   "metadata": {},
   "source": [
    "# 3. ANALYZE: \n",
    "### What do you think is impacting the classification? (40 MINS)\n",
    "#### (HINT: THIS IS THE TOUGH ONE)"
   ]
  },
  {
   "cell_type": "code",
   "execution_count": 116,
   "metadata": {},
   "outputs": [
    {
     "data": {
      "text/plain": [
       "-0.006408231491497118"
      ]
     },
     "execution_count": 116,
     "metadata": {},
     "output_type": "execute_result"
    }
   ],
   "source": [
    "df[['0','y']].corr().iloc[0,1]"
   ]
  },
  {
   "cell_type": "code",
   "execution_count": 99,
   "metadata": {},
   "outputs": [],
   "source": [
    "# LOOK AT RELATIONSHIPS FOR EACH FEATURE AND Y (20 MINS)\n",
    "corr_list_y = []\n",
    "for i in range(0,100):\n",
    "    corr_list_y.append(df_clean[[str(i),'y']].corr().iloc[0,1])"
   ]
  },
  {
   "cell_type": "code",
   "execution_count": 100,
   "metadata": {},
   "outputs": [],
   "source": [
    "corr_list_0 = []\n",
    "for i in range(0,100):\n",
    "    corr_list_0.append(df_clean[[str(i),'0']].corr().iloc[0,1])"
   ]
  },
  {
   "cell_type": "code",
   "execution_count": 111,
   "metadata": {},
   "outputs": [
    {
     "data": {
      "text/plain": [
       "Int64Index([30, 85, 78, 66, 10, 72, 44, 56, 93, 77], dtype='int64')"
      ]
     },
     "execution_count": 111,
     "metadata": {},
     "output_type": "execute_result"
    }
   ],
   "source": [
    "corrs = pd.DataFrame(corr_list_y,columns = ['corr'])\n",
    "corrs.sort_values(by='corr').tail(10).index"
   ]
  },
  {
   "cell_type": "code",
   "execution_count": 114,
   "metadata": {},
   "outputs": [
    {
     "data": {
      "text/html": [
       "<div>\n",
       "<style scoped>\n",
       "    .dataframe tbody tr th:only-of-type {\n",
       "        vertical-align: middle;\n",
       "    }\n",
       "\n",
       "    .dataframe tbody tr th {\n",
       "        vertical-align: top;\n",
       "    }\n",
       "\n",
       "    .dataframe thead th {\n",
       "        text-align: right;\n",
       "    }\n",
       "</style>\n",
       "<table border=\"1\" class=\"dataframe\">\n",
       "  <thead>\n",
       "    <tr style=\"text-align: right;\">\n",
       "      <th></th>\n",
       "      <th>corr</th>\n",
       "    </tr>\n",
       "  </thead>\n",
       "  <tbody>\n",
       "    <tr>\n",
       "      <th>57</th>\n",
       "      <td>-0.006211</td>\n",
       "    </tr>\n",
       "    <tr>\n",
       "      <th>52</th>\n",
       "      <td>-0.006174</td>\n",
       "    </tr>\n",
       "    <tr>\n",
       "      <th>69</th>\n",
       "      <td>-0.006030</td>\n",
       "    </tr>\n",
       "    <tr>\n",
       "      <th>54</th>\n",
       "      <td>-0.005023</td>\n",
       "    </tr>\n",
       "    <tr>\n",
       "      <th>51</th>\n",
       "      <td>-0.004554</td>\n",
       "    </tr>\n",
       "    <tr>\n",
       "      <th>45</th>\n",
       "      <td>-0.004145</td>\n",
       "    </tr>\n",
       "    <tr>\n",
       "      <th>2</th>\n",
       "      <td>-0.004126</td>\n",
       "    </tr>\n",
       "    <tr>\n",
       "      <th>96</th>\n",
       "      <td>-0.004016</td>\n",
       "    </tr>\n",
       "    <tr>\n",
       "      <th>99</th>\n",
       "      <td>-0.003828</td>\n",
       "    </tr>\n",
       "    <tr>\n",
       "      <th>98</th>\n",
       "      <td>-0.003732</td>\n",
       "    </tr>\n",
       "    <tr>\n",
       "      <th>13</th>\n",
       "      <td>-0.003630</td>\n",
       "    </tr>\n",
       "    <tr>\n",
       "      <th>63</th>\n",
       "      <td>-0.003413</td>\n",
       "    </tr>\n",
       "    <tr>\n",
       "      <th>27</th>\n",
       "      <td>-0.003378</td>\n",
       "    </tr>\n",
       "    <tr>\n",
       "      <th>5</th>\n",
       "      <td>-0.003354</td>\n",
       "    </tr>\n",
       "    <tr>\n",
       "      <th>15</th>\n",
       "      <td>-0.003122</td>\n",
       "    </tr>\n",
       "    <tr>\n",
       "      <th>23</th>\n",
       "      <td>-0.003112</td>\n",
       "    </tr>\n",
       "    <tr>\n",
       "      <th>25</th>\n",
       "      <td>-0.002648</td>\n",
       "    </tr>\n",
       "    <tr>\n",
       "      <th>40</th>\n",
       "      <td>-0.002626</td>\n",
       "    </tr>\n",
       "    <tr>\n",
       "      <th>82</th>\n",
       "      <td>-0.002445</td>\n",
       "    </tr>\n",
       "    <tr>\n",
       "      <th>71</th>\n",
       "      <td>-0.002408</td>\n",
       "    </tr>\n",
       "    <tr>\n",
       "      <th>17</th>\n",
       "      <td>-0.002279</td>\n",
       "    </tr>\n",
       "    <tr>\n",
       "      <th>7</th>\n",
       "      <td>-0.002271</td>\n",
       "    </tr>\n",
       "    <tr>\n",
       "      <th>75</th>\n",
       "      <td>-0.002259</td>\n",
       "    </tr>\n",
       "    <tr>\n",
       "      <th>62</th>\n",
       "      <td>-0.002121</td>\n",
       "    </tr>\n",
       "    <tr>\n",
       "      <th>41</th>\n",
       "      <td>-0.002008</td>\n",
       "    </tr>\n",
       "    <tr>\n",
       "      <th>59</th>\n",
       "      <td>-0.001999</td>\n",
       "    </tr>\n",
       "    <tr>\n",
       "      <th>16</th>\n",
       "      <td>-0.001979</td>\n",
       "    </tr>\n",
       "    <tr>\n",
       "      <th>8</th>\n",
       "      <td>-0.001973</td>\n",
       "    </tr>\n",
       "    <tr>\n",
       "      <th>35</th>\n",
       "      <td>-0.001908</td>\n",
       "    </tr>\n",
       "    <tr>\n",
       "      <th>33</th>\n",
       "      <td>-0.001598</td>\n",
       "    </tr>\n",
       "    <tr>\n",
       "      <th>43</th>\n",
       "      <td>-0.001580</td>\n",
       "    </tr>\n",
       "    <tr>\n",
       "      <th>49</th>\n",
       "      <td>-0.001527</td>\n",
       "    </tr>\n",
       "    <tr>\n",
       "      <th>60</th>\n",
       "      <td>-0.001343</td>\n",
       "    </tr>\n",
       "    <tr>\n",
       "      <th>14</th>\n",
       "      <td>-0.001334</td>\n",
       "    </tr>\n",
       "    <tr>\n",
       "      <th>81</th>\n",
       "      <td>-0.001326</td>\n",
       "    </tr>\n",
       "    <tr>\n",
       "      <th>11</th>\n",
       "      <td>-0.001295</td>\n",
       "    </tr>\n",
       "    <tr>\n",
       "      <th>24</th>\n",
       "      <td>-0.001195</td>\n",
       "    </tr>\n",
       "    <tr>\n",
       "      <th>6</th>\n",
       "      <td>-0.001146</td>\n",
       "    </tr>\n",
       "    <tr>\n",
       "      <th>64</th>\n",
       "      <td>-0.001071</td>\n",
       "    </tr>\n",
       "    <tr>\n",
       "      <th>3</th>\n",
       "      <td>-0.001038</td>\n",
       "    </tr>\n",
       "    <tr>\n",
       "      <th>18</th>\n",
       "      <td>-0.000901</td>\n",
       "    </tr>\n",
       "    <tr>\n",
       "      <th>80</th>\n",
       "      <td>-0.000772</td>\n",
       "    </tr>\n",
       "    <tr>\n",
       "      <th>1</th>\n",
       "      <td>-0.000722</td>\n",
       "    </tr>\n",
       "    <tr>\n",
       "      <th>21</th>\n",
       "      <td>-0.000615</td>\n",
       "    </tr>\n",
       "    <tr>\n",
       "      <th>84</th>\n",
       "      <td>-0.000489</td>\n",
       "    </tr>\n",
       "    <tr>\n",
       "      <th>67</th>\n",
       "      <td>-0.000419</td>\n",
       "    </tr>\n",
       "    <tr>\n",
       "      <th>74</th>\n",
       "      <td>-0.000272</td>\n",
       "    </tr>\n",
       "    <tr>\n",
       "      <th>31</th>\n",
       "      <td>-0.000207</td>\n",
       "    </tr>\n",
       "    <tr>\n",
       "      <th>28</th>\n",
       "      <td>-0.000132</td>\n",
       "    </tr>\n",
       "    <tr>\n",
       "      <th>90</th>\n",
       "      <td>-0.000027</td>\n",
       "    </tr>\n",
       "  </tbody>\n",
       "</table>\n",
       "</div>"
      ],
      "text/plain": [
       "        corr\n",
       "57 -0.006211\n",
       "52 -0.006174\n",
       "69 -0.006030\n",
       "54 -0.005023\n",
       "51 -0.004554\n",
       "45 -0.004145\n",
       "2  -0.004126\n",
       "96 -0.004016\n",
       "99 -0.003828\n",
       "98 -0.003732\n",
       "13 -0.003630\n",
       "63 -0.003413\n",
       "27 -0.003378\n",
       "5  -0.003354\n",
       "15 -0.003122\n",
       "23 -0.003112\n",
       "25 -0.002648\n",
       "40 -0.002626\n",
       "82 -0.002445\n",
       "71 -0.002408\n",
       "17 -0.002279\n",
       "7  -0.002271\n",
       "75 -0.002259\n",
       "62 -0.002121\n",
       "41 -0.002008\n",
       "59 -0.001999\n",
       "16 -0.001979\n",
       "8  -0.001973\n",
       "35 -0.001908\n",
       "33 -0.001598\n",
       "43 -0.001580\n",
       "49 -0.001527\n",
       "60 -0.001343\n",
       "14 -0.001334\n",
       "81 -0.001326\n",
       "11 -0.001295\n",
       "24 -0.001195\n",
       "6  -0.001146\n",
       "64 -0.001071\n",
       "3  -0.001038\n",
       "18 -0.000901\n",
       "80 -0.000772\n",
       "1  -0.000722\n",
       "21 -0.000615\n",
       "84 -0.000489\n",
       "67 -0.000419\n",
       "74 -0.000272\n",
       "31 -0.000207\n",
       "28 -0.000132\n",
       "90 -0.000027"
      ]
     },
     "execution_count": 114,
     "metadata": {},
     "output_type": "execute_result"
    }
   ],
   "source": [
    "corrs = pd.DataFrame(corr_list_y,columns = ['corr'])\n",
    "corrs.sort_values(by='corr').head(50)"
   ]
  },
  {
   "cell_type": "code",
   "execution_count": 105,
   "metadata": {},
   "outputs": [
    {
     "data": {
      "image/png": "[encoded data removed]",
      "text/plain": [
       "<Figure size 432x288 with 1 Axes>"
      ]
     },
     "metadata": {
      "needs_background": "light"
     },
     "output_type": "display_data"
    }
   ],
   "source": [
    "plt.hist(corrs['corr'],bins=20);"
   ]
  },
  {
   "cell_type": "code",
   "execution_count": 127,
   "metadata": {},
   "outputs": [],
   "source": [
    "# DO SOME FEATURES IMPACT THE DATA MORE THAN OTHERS? (20 MINS)\n",
    "feature_cols = ['57', '52', '69', '54', '51', '45', '2', '96', '99', '98','30', '85', '78', '66', '10', '72', '44', '56', '93', '77']"
   ]
  },
  {
   "cell_type": "markdown",
   "metadata": {},
   "source": [
    "# 4. INTERPRET: (30 MINS)\n",
    "### UNDERSTAND YOUR RESULTS\n",
    "\n"
   ]
  },
  {
   "cell_type": "code",
   "execution_count": 117,
   "metadata": {},
   "outputs": [
    {
     "data": {
      "text/plain": [
       "1    50000\n",
       "0    50000\n",
       "Name: y, dtype: int64"
      ]
     },
     "execution_count": 117,
     "metadata": {},
     "output_type": "execute_result"
    }
   ],
   "source": [
    "# CREATE MODELS AND SEE ACCURACY\n",
    "df_clean['y'].value_counts()"
   ]
  },
  {
   "cell_type": "code",
   "execution_count": 125,
   "metadata": {},
   "outputs": [
    {
     "data": {
      "text/plain": [
       "0.5"
      ]
     },
     "execution_count": 125,
     "metadata": {},
     "output_type": "execute_result"
    }
   ],
   "source": [
    "null_accuracy = df_clean['y'].loc[df_clean['y'] == 1].count() / df_clean['y'].count()\n",
    "null_accuracy"
   ]
  },
  {
   "cell_type": "code",
   "execution_count": 141,
   "metadata": {},
   "outputs": [],
   "source": [
    "# WHY ARE SOME MODELS MORE ACCURATE THAN OTHERS?\n",
    "from sklearn import datasets, neighbors, metrics\n",
    "from sklearn.neighbors import KNeighborsClassifier\n",
    "from sklearn.model_selection import train_test_split, cross_val_score"
   ]
  },
  {
   "cell_type": "code",
   "execution_count": 136,
   "metadata": {},
   "outputs": [],
   "source": [
    "X = df[feature_cols]"
   ]
  },
  {
   "cell_type": "code",
   "execution_count": 137,
   "metadata": {},
   "outputs": [],
   "source": [
    "X_train, X_test, y_train, y_test = train_test_split(X, y, random_state=99) "
   ]
  },
  {
   "cell_type": "code",
   "execution_count": 138,
   "metadata": {},
   "outputs": [
    {
     "name": "stdout",
     "output_type": "stream",
     "text": [
      "0.49748\n"
     ]
    }
   ],
   "source": [
    "knn = KNeighborsClassifier(n_neighbors=1)\n",
    "knn.fit(X_train, y_train)\n",
    "\n",
    "y_pred_class = knn.predict(X_test)\n",
    "print((metrics.accuracy_score(y_test, y_pred_class)))"
   ]
  },
  {
   "cell_type": "code",
   "execution_count": 150,
   "metadata": {},
   "outputs": [],
   "source": [
    "from sklearn.tree import DecisionTreeClassifier\n"
   ]
  },
  {
   "cell_type": "code",
   "execution_count": 151,
   "metadata": {},
   "outputs": [],
   "source": [
    "treereg = DecisionTreeClassifier(random_state=1)"
   ]
  },
  {
   "cell_type": "code",
   "execution_count": 152,
   "metadata": {},
   "outputs": [],
   "source": [
    "scores2 = cross_val_score(treereg, X, y, cv=5)"
   ]
  },
  {
   "cell_type": "code",
   "execution_count": 153,
   "metadata": {},
   "outputs": [
    {
     "data": {
      "text/plain": [
       "array([0.5024 , 0.5048 , 0.4948 , 0.50935, 0.4999 ])"
      ]
     },
     "execution_count": 153,
     "metadata": {},
     "output_type": "execute_result"
    }
   ],
   "source": [
    "scores2"
   ]
  },
  {
   "cell_type": "code",
   "execution_count": 148,
   "metadata": {},
   "outputs": [],
   "source": [
    "from sklearn.ensemble import RandomForestClassifier"
   ]
  },
  {
   "cell_type": "code",
   "execution_count": 149,
   "metadata": {},
   "outputs": [
    {
     "name": "stderr",
     "output_type": "stream",
     "text": [
      "C:\\Users\\michael.amenta\\AppData\\Local\\Continuum\\anaconda3\\lib\\site-packages\\sklearn\\ensemble\\forest.py:245: FutureWarning: The default value of n_estimators will change from 10 in version 0.20 to 100 in 0.22.\n",
      "  \"10 in version 0.20 to 100 in 0.22.\", FutureWarning)\n",
      "C:\\Users\\michael.amenta\\AppData\\Local\\Continuum\\anaconda3\\lib\\site-packages\\sklearn\\ensemble\\forest.py:245: FutureWarning: The default value of n_estimators will change from 10 in version 0.20 to 100 in 0.22.\n",
      "  \"10 in version 0.20 to 100 in 0.22.\", FutureWarning)\n",
      "C:\\Users\\michael.amenta\\AppData\\Local\\Continuum\\anaconda3\\lib\\site-packages\\sklearn\\ensemble\\forest.py:245: FutureWarning: The default value of n_estimators will change from 10 in version 0.20 to 100 in 0.22.\n",
      "  \"10 in version 0.20 to 100 in 0.22.\", FutureWarning)\n",
      "C:\\Users\\michael.amenta\\AppData\\Local\\Continuum\\anaconda3\\lib\\site-packages\\sklearn\\ensemble\\forest.py:245: FutureWarning: The default value of n_estimators will change from 10 in version 0.20 to 100 in 0.22.\n",
      "  \"10 in version 0.20 to 100 in 0.22.\", FutureWarning)\n",
      "C:\\Users\\michael.amenta\\AppData\\Local\\Continuum\\anaconda3\\lib\\site-packages\\sklearn\\ensemble\\forest.py:245: FutureWarning: The default value of n_estimators will change from 10 in version 0.20 to 100 in 0.22.\n",
      "  \"10 in version 0.20 to 100 in 0.22.\", FutureWarning)\n"
     ]
    },
    {
     "data": {
      "text/plain": [
       "array([0.50705, 0.5119 , 0.51   , 0.50355, 0.509  ])"
      ]
     },
     "execution_count": 149,
     "metadata": {},
     "output_type": "execute_result"
    }
   ],
   "source": [
    "rf = RandomForestClassifier()\n",
    "cross_val_score(rf, X, y, cv=5)"
   ]
  },
  {
   "cell_type": "markdown",
   "metadata": {},
   "source": [
    "# 4. COMMUNICATE: (5 MINS)\n",
    "### FIND THE BEST WAY TO PRESENT"
   ]
  },
  {
   "cell_type": "code",
   "execution_count": null,
   "metadata": {},
   "outputs": [],
   "source": []
  }
 ],
 "metadata": {
  "kernelspec": {
   "display_name": "Python 3",
   "language": "python",
   "name": "python3"
  },
  "language_info": {
   "codemirror_mode": {
    "name": "ipython",
    "version": 3
   },
   "file_extension": ".py",
   "mimetype": "text/x-python",
   "name": "python",
   "nbconvert_exporter": "python",
   "pygments_lexer": "ipython3",
   "version": "3.7.3"
  }
 },
 "nbformat": 4,
 "nbformat_minor": 2
}
