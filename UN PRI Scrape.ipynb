{
 "cells": [
  {
   "cell_type": "markdown",
   "metadata": {},
   "source": [
    "# Scraping UN PRI Transparency Reports\n",
    "\n",
    "The goal of this book is to get the Transparency Reports of ~1,800 companies from https://www.unpri.org/signatories/transparency-reports-2019/4506.article?adredir=1&adredir=1, which are kept in several different pages for each company, into a single dataframe. There is no API so we must web scrape."
   ]
  },
  {
   "cell_type": "code",
   "execution_count": 2,
   "metadata": {},
   "outputs": [],
   "source": [
    "from bs4 import BeautifulSoup\n",
    "import requests\n",
    "from requests.adapters import HTTPAdapter\n",
    "from requests.packages.urllib3.util.retry import Retry\n",
    "import re\n",
    "import time\n",
    "import pandas as pd\n",
    "import numpy as np\n",
    "from collections import Counter "
   ]
  },
  {
   "cell_type": "code",
   "execution_count": 3,
   "metadata": {},
   "outputs": [],
   "source": [
    "pd.set_option('display.max_columns', 200)"
   ]
  },
  {
   "cell_type": "markdown",
   "metadata": {},
   "source": [
    "Entities and associated urls copied and pasted from html of https://www.unpri.org/signatories/transparency-reports-2019/4506.article?adredir=1&adredir=1"
   ]
  },
  {
   "cell_type": "code",
   "execution_count": 66,
   "metadata": {},
   "outputs": [],
   "source": [
    "entities = pd.read_csv('./datasets/PRI_urls.csv')"
   ]
  },
  {
   "cell_type": "markdown",
   "metadata": {},
   "source": [
    "UN PRI doesn't like one IP address visiting too many sites within a short period. It blocks scrapes somewhere between 300 - 600 entities, so I've split the 1,800+ entities into six groups of 300. \n",
    "\n",
    "The entity id that UN PRI uses is used as the url page strucuture so keeping a list of the entity name and its 'id' is helpful for webscraping."
   ]
  },
  {
   "cell_type": "code",
   "execution_count": 68,
   "metadata": {},
   "outputs": [],
   "source": [
    "entityid_list = entities['id'].tolist()\n",
    "entityid_shard1 = entityid_list[0:300]\n",
    "entityid_shard2 = entityid_list[300:600]\n",
    "entityid_shard3 = entityid_list[600:900]\n",
    "entityid_shard4 = entityid_list[900:1200]\n",
    "entityid_shard5 = entityid_list[1200:1500]\n",
    "entityid_shard6 = entityid_list[1500:-1]"
   ]
  },
  {
   "cell_type": "code",
   "execution_count": 69,
   "metadata": {},
   "outputs": [],
   "source": [
    "entityname_list = entities['name'].tolist()\n",
    "entityname_shard1 = entityname_list[0:300]\n",
    "entityname_shard2 = entityname_list[300:600]\n",
    "entityname_shard3 = entityname_list[600:900]\n",
    "entityname_shard4 = entityname_list[900:1200]\n",
    "entityname_shard5 = entityname_list[1200:1500]\n",
    "entityname_shard6 = entityname_list[1500:-1]"
   ]
  },
  {
   "cell_type": "code",
   "execution_count": 70,
   "metadata": {},
   "outputs": [],
   "source": [
    "entitydict_shard1 = dict(zip(entityname_shard1, entityid_shard1))\n",
    "entitydict_shard2 = dict(zip(entityname_shard2, entityid_shard2))\n",
    "entitydict_shard3 = dict(zip(entityname_shard3, entityid_shard3))\n",
    "entitydict_shard4 = dict(zip(entityname_shard4, entityid_shard4))\n",
    "entitydict_shard5 = dict(zip(entityname_shard5, entityid_shard5))\n",
    "entitydict_shard6 = dict(zip(entityname_shard6, entityid_shard6))"
   ]
  },
  {
   "cell_type": "markdown",
   "metadata": {},
   "source": [
    "We're writing to a dictionary because we'll get non-normal responses for each entity based on this survey's structure. We will make a list of dictionaries to bypass the IP address defense."
   ]
  },
  {
   "cell_type": "code",
   "execution_count": 71,
   "metadata": {},
   "outputs": [],
   "source": [
    "list_of_dicts = []\n",
    "\n",
    "for i in range(1,7):\n",
    "    list_of_dicts.append(eval(\"entitydict_shard\" + str(i)))"
   ]
  },
  {
   "cell_type": "markdown",
   "metadata": {},
   "source": [
    "I've decided to scrape seven report pages for each company. These reports are signified by a report suffix."
   ]
  },
  {
   "cell_type": "code",
   "execution_count": 72,
   "metadata": {},
   "outputs": [],
   "source": [
    "page_suffixes = ['/79894dbc337a40828d895f9402aa63de/html/2/?lang=en&a=1',\n",
    "                 '/d0cc681dfa4d45dca3d70f04bc27d284/html/2/?lang=en&a=1',\n",
    "                 '/bf735de92be04caa8c32fcbc25cbdd2c/html/2/?lang=en&a=1',\n",
    "                 '/b8be094467a0406ead601634b02a60c6/html/2/?lang=en&a=1',\n",
    "                 '/57749b1a39a14fe6942aabb90698b3c1/html/2/?lang=en&a=1',\n",
    "                 '/8f2ede8902574ce5afc919af9e05c4e0/html/2/?lang=en&a=1',\n",
    "                 '/b2a82182cc14473b90b72f6bb504fae0/html/2/?lang=en&a=1']"
   ]
  },
  {
   "cell_type": "code",
   "execution_count": 73,
   "metadata": {},
   "outputs": [],
   "source": [
    "page_prefix = 'https://reporting.unpri.org/surveys/PRI-reporting-framework-2019/'"
   ]
  },
  {
   "cell_type": "markdown",
   "metadata": {},
   "source": [
    "Web scraping function attempts to collect questions and responses, with a few features: \n",
    "\n",
    "Retry and Adapter are intra-loop defense mechanisms against UN PRI blocking my IP address. This dynamically backs off for a specific amount of time if there's an error and tries to reconnect 3 times thereafter.\n",
    "\n",
    "Questions are containted in 'question-blocks' which have various response outputs: checked box, checked radio, text, url, and others. By converting any response type that's \"unchecked\" to zeroes, we simplify the responses to affirmative and negative.\n",
    "\n",
    "Because the response form is dynamic based on the respondent's responses to other questions, the output must be saved to a dictionary, which doesn't require a fixed size."
   ]
  },
  {
   "cell_type": "code",
   "execution_count": 74,
   "metadata": {},
   "outputs": [],
   "source": [
    "def question_grabber(url):\n",
    "    question_list = []\n",
    "    response_list = []\n",
    "    retry = Retry(connect=3, backoff_factor=0.5)\n",
    "    adapter = HTTPAdapter(max_retries=retry)\n",
    "    session.mount('http://', adapter)\n",
    "    session.mount('https://', adapter)\n",
    "    html = session.get(url)\n",
    "    html.text\n",
    "    soup = BeautifulSoup(html.text, 'html.parser')\n",
    "    blocks = soup.findAll(class_='question-block')\n",
    "    for i in blocks:\n",
    "        if 'unchecked' in str(i):\n",
    "            response_list.append(0)\n",
    "        elif ''\n",
    "        elif 'response text_TC' in str(i):\n",
    "            response_list.append(1)\n",
    "        elif 'response url' in str(i):\n",
    "            response_list.append(1)\n",
    "        else:\n",
    "            response_list.append(1)\n",
    "    for title in blocks:\n",
    "        question_list.append(title.text.strip())\n",
    "    return dict(zip(question_list, response_list))"
   ]
  },
  {
   "cell_type": "markdown",
   "metadata": {},
   "source": [
    "I used three levels of loops. The first is the 6 \"shards\", then the 1,800+ companies, and then their six pages. In between shards, the loop sleeps for 60 seconds to fend off the UN PRI defesne. In the company loop, all responses are saved to a dictionary with the format of question ('title') to response. Then the entity dictionary containing entity names as keys will be updated with new values of this embedded new dictionary of question to response. "
   ]
  },
  {
   "cell_type": "markdown",
   "metadata": {},
   "source": [
    "#### CAUTION: This loop takes several hours to run (ran it overnight)!\n",
    "\n",
    "It must scrape over 10,000 pages!"
   ]
  },
  {
   "cell_type": "code",
   "execution_count": 76,
   "metadata": {},
   "outputs": [],
   "source": [
    "for i in range(len(list_of_dicts)):\n",
    "    for j in range(len(eval('entityid_shard' + str(i+1)))):\n",
    "        big_responses = {}\n",
    "        session = requests.Session()\n",
    "        for k in range(len(page_suffixes)):\n",
    "            page_contents = question_grabber(page_prefix + eval('entityid_shard' + str(i+1))[j] + page_suffixes[k])\n",
    "            big_responses.update(page_contents)\n",
    "            value_to_update = big_responses\n",
    "        key_to_update = list(eval('entitydict_shard' + str(i+1)).keys())[j]\n",
    "        entitydict_shard1[key_to_update] = value_to_update\n",
    "    time.sleep(60)"
   ]
  },
  {
   "cell_type": "code",
   "execution_count": 15,
   "metadata": {
    "scrolled": true
   },
   "outputs": [],
   "source": [
    "df = pd.DataFrame.from_dict(entitydict_shard1, orient='index')"
   ]
  },
  {
   "cell_type": "code",
   "execution_count": 14,
   "metadata": {},
   "outputs": [],
   "source": [
    "df.shape"
   ]
  },
  {
   "cell_type": "markdown",
   "metadata": {},
   "source": [
    "### Basic Feature Selection"
   ]
  },
  {
   "cell_type": "markdown",
   "metadata": {},
   "source": [
    "#### Firm-Specific Questions (large quantity of N/As)\n",
    "\n",
    "The dynamic nature of the questionnaire mean that we have a number of columns that are not relevant for many entities. So, if the number of na's for a given column amounted to 60% or more of the length of the column, then the entire column was dropped. "
   ]
  },
  {
   "cell_type": "code",
   "execution_count": 102,
   "metadata": {},
   "outputs": [],
   "source": [
    "thin_df = df.dropna(thresh=len(df) * .6, axis=1)"
   ]
  },
  {
   "cell_type": "code",
   "execution_count": 103,
   "metadata": {},
   "outputs": [
    {
     "data": {
      "text/plain": [
       "(1602, 142)"
      ]
     },
     "execution_count": 103,
     "metadata": {},
     "output_type": "execute_result"
    }
   ],
   "source": [
    "thin_df.shape"
   ]
  },
  {
   "cell_type": "code",
   "execution_count": 104,
   "metadata": {},
   "outputs": [],
   "source": [
    "thin_df.to_csv(r'C:\\Users\\michael.amenta\\DAT_MA\\datasets\\survey_test2.csv')"
   ]
  },
  {
   "cell_type": "code",
   "execution_count": 116,
   "metadata": {},
   "outputs": [],
   "source": [
    "pd.set_option('display.max_columns', 200)"
   ]
  },
  {
   "cell_type": "code",
   "execution_count": 120,
   "metadata": {},
   "outputs": [],
   "source": [
    "thin_df.describe().to_clipboard()"
   ]
  },
  {
   "cell_type": "markdown",
   "metadata": {},
   "source": [
    "In Excel, I renamed all columns with funny characters removed with Find & Replace."
   ]
  },
  {
   "cell_type": "code",
   "execution_count": 132,
   "metadata": {},
   "outputs": [],
   "source": [
    "thin_df.columns = [\"We address ESG incorporation.\",\"We do not do ESG incorporation.\",\"Organisational Overview\",\"Strategy and Governance\",\"Closing module\",\"None\",\"Yes\",\"Policy setting out your overall approach\",\"Formalised guidelines on environmental factors\",\"Formalised guidelines on social factors\",\"Formalised guidelines on corporate governance factors\",\"Fiduciary (or equivalent) duties\",\"Asset class-specific RI guidelines\",\"Sector specific RI guidelines\",\"Screening / exclusions policy\",\"Other, specify (1)\",\"Other, specify(2)\",\"Applicable policies cover all AUM\",\"Applicable policies cover a majority of AUM\",\"Applicable policies cover a minority of AUM\",\"Your organisation’s definition of ESG and/or responsible investment and it’s relation to investments\",\"Your investment objectives that take ESG factors/real economy influence into account\",\"Time horizon of your investment\",\"Governance structure of organisational ESG responsibilities\",\"ESG incorporation approaches\",\"Active ownership approaches\",\"Reporting\",\"Climate change\",\"Understanding and incorporating client / beneficiary sustainability preferences\",\"Other RI considerations, specify (1)\",\"Other RI considerations, specify (2)\",\"No\",\"I confirm I have read and understood the Accountability tab for SG 01\",\"URL\",\"Attachment (will be made public)\",\"We do not publicly disclose our investment policy documents\",\"Attachment\",\"We do not publicly disclose any investment policy components\",\"Board members or trustees\",\"Oversight/accountability for responsible investment\",\"Implementation of responsible investment\",\"No oversight/accountability or implementation responsibility for responsible investment\",\"Internal Roles (triggers other options)\",\"Chief Executive Officer (CEO), Chief Investment Officer (CIO), Chief Operating Officer (COO), Investment Committee\",\"Other Chief-level staff or head of department, specify\",\"Portfolio managers\",\"Investment analysts\",\"Dedicated responsible investment staff\",\"Investor relations\",\"Other role, specify (1)\",\"Other role, specify (2)\",\"External managers or service providers\",\"I confirm I have read and understood the Accountability tab for SG 07\",\"Principles for Responsible Investment\",\"Basic Moderate Advanced\",\"Asian Corporate Governance Association\",\"Australian Council of Superannuation Investors\",\"AFIC – La Commission ESG\",\"BVCA – Responsible Investment Advisory Board\",\"CDP Climate Change\",\"CDP Forests\",\"CDP Water\",\"CFA Institute Centre for Financial Market Integrity\",\"Code for Responsible Investment in SA (CRISA)\",\"Code for Responsible Finance in the 21st Century\",\"Council of Institutional Investors (CII)\",\"Eumedion\",\"Extractive Industries Transparency Initiative (EITI)\",\"ESG Research Australia\",\"Invest Europe Responsible Investment Roundtable\",\"Global Investors Governance Network (GIGN)\",\"Global Impact Investing Network (GIIN)\",\"Global Real Estate Sustainability Benchmark (GRESB)\",\"Green Bond Principles\",\"Institutional Investors Group on Climate Change (IIGCC)\",\"Interfaith Center on Corporate Responsibility (ICCR)\",\"International Corporate Governance Network (ICGN)\",\"Investor Group on Climate Change, Australia/New Zealand (IGCC)\",\"International Integrated Reporting Council (IIRC)\",\"Investor Network on Climate Risk (INCR)/CERES\",\"Local Authority Pension Fund Forum\",\"Principles for Sustainable Insurance\",\"Regional or National Social Investment Forums (e.g. UKSIF, Eurosif, ASRIA, RIAA), specify\",\"Responsible Finance Principles in Inclusive Finance\",\"Shareholder Association for Research and Education (Share)\",\"United Nations Environmental Program Finance Initiative (UNEP FI)\",\"United Nations Global Compact\",\"Other collaborative organisation/initiative, specify\",\"Provided or supported education or training programmes (this includes peer to peer RI support) Your education or training may be for clients, investment managers, actuaries, broker/dealers, investment consultants, legal advisers etc.)\",\"Quarterly or more frequently\",\"Biannually\",\"Annually\",\"Less frequently than annually\",\"Ad hoc\",\"Other\",\"Provided financial support for academic or industry research on responsible investment\",\"Provided input and/or collaborated with academia on RI related work\",\"Encouraged better transparency and disclosure of responsible investment practices across the investment industry\",\"Spoke publicly at events and conferences to promote responsible investment\",\"Wrote and published in-house research papers on responsible investment\",\"Encouraged the adoption of the PRI\",\"Responded to RI related consultations by non-governmental organisations (OECD, FSB etc.)\",\"Wrote and published articles on responsible investment in the media\",\"A member of PRI advisory committees/ working groups, specify\",\"On the Board of, or officially advising, other RI organisations (e.g. local SIFs)\",\"Other, specify\",\"We do not disclose to either clients/beneficiaries or the public.\",\"We disclose to clients/beneficiaries only.\",\"We disclose to the public\",\"Quarterly or more frequently Biannually Annually Less frequently than annually Ad-hoc/when requested\",\"Third party assurance over selected responses from this year’s PRI Transparency Report\",\"Third party assurance over data points from other sources that have subsequently been used in your PRI responses this year\",\"Third party assurance or audit of the correct implementation of RI processes (that have been reported to the PRI this year)\",\"Internal audit of the correct implementation of RI processes and/or accuracy of RI data (that have been reported to the PRI this year)\",\"Internal verification of responses before submission to the PRI (e.g. by the CEO or the board)\",\"Whole PRI Transparency Report has been internally verified\",\"Selected data has been internally verified\",\"None of the above\",\"Whole PRI Transparency Report was assured last year\",\"Selected data was assured in last year’s PRI Transparency Report\",\"We did not assure last year's PRI Transparency report\",\"None of the above, we were in our preparation year and did not report last year.\",\"We adhere to an RI certification or labelling scheme\",\"We carry out independent/third party assurance over a whole public report (such as a sustainability report) extracts of which are included in this year’s PRI Transparency Report\",\"ESG audit of holdings\",\"Whole PRI Transparency Report will be assured\",\"Selected data will be assured\",\"We do not plan to assure this year's PRI Transparency report\",\"CEO or other Chief-Level staff\",\"The Board\",\"Investment Committee\",\"Compliance Function\",\"RI/ESG Team\",\"Investment Teams\",\"Legal Department\",\"Other (specify)\",\"We engage with companies on ESG factors via our staff, collaborations or service providers.\",\"We do not engage directly and do not require external managers to engage with companies on ESG factors.\",\"We cast our (proxy) votes directly or via dedicated voting providers\",\"We do not cast our (proxy) votes directly and do not require external managers to vote on our behalf\",\"Engagement policy\",\"(Proxy) voting policy\"]"
   ]
  },
  {
   "cell_type": "markdown",
   "metadata": {},
   "source": [
    "#### Low Variance\n",
    "\n",
    "I analyzed the columns in Excel to find ones that had 95% or more of 0's or 1's and dropped these columns in the following snippet."
   ]
  },
  {
   "cell_type": "code",
   "execution_count": 128,
   "metadata": {},
   "outputs": [],
   "source": [
    "thinner_df = thin_df.drop([\"Investment Committee\",\"Compliance Function\",\"RI/ESG Team\",\"Investment Teams\",\"Legal Department\",\"Other (specify)\",\"We engage with companies on ESG factors via our staff, collaborations or service providers.\",\"We do not engage directly and do not require external managers to engage with companies on ESG factors.\",\"We cast our (proxy) votes directly or via dedicated voting providers\",\"We do not cast our (proxy) votes directly and do not require external managers to vote on our behalf\",\"Engagement policy\",\"(Proxy) voting policy\",\"We address ESG incorporation.\",\"We do not do ESG incorporation.\",\"Organisational Overview\",\"Strategy and Governance\",\"Closing module\",\"None\",\"Yes\"],axis=1)"
   ]
  },
  {
   "cell_type": "code",
   "execution_count": 129,
   "metadata": {},
   "outputs": [
    {
     "data": {
      "text/plain": [
       "(1602, 123)"
      ]
     },
     "execution_count": 129,
     "metadata": {},
     "output_type": "execute_result"
    }
   ],
   "source": [
    "thinner_df.shape"
   ]
  },
  {
   "cell_type": "code",
   "execution_count": 130,
   "metadata": {},
   "outputs": [],
   "source": [
    "thinner_df.to_csv(r'C:\\Users\\michael.amenta\\DAT_MA\\datasets\\survey_test3.csv')"
   ]
  },
  {
   "cell_type": "markdown",
   "metadata": {},
   "source": [
    "My data is now saved to a csv where it can be re-imported in the next step."
   ]
  }
 ],
 "metadata": {
  "kernelspec": {
   "display_name": "Python 3",
   "language": "python",
   "name": "python3"
  },
  "language_info": {
   "codemirror_mode": {
    "name": "ipython",
    "version": 3
   },
   "file_extension": ".py",
   "mimetype": "text/x-python",
   "name": "python",
   "nbconvert_exporter": "python",
   "pygments_lexer": "ipython3",
   "version": "3.7.3"
  }
 },
 "nbformat": 4,
 "nbformat_minor": 2
}
